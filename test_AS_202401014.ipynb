{
 "cells": [
  {
   "cell_type": "code",
   "execution_count": 1,
   "id": "bd125354",
   "metadata": {},
   "outputs": [
    {
     "name": "stdout",
     "output_type": "stream",
     "text": [
      "Found existing installation: pyshbundle 0.1.0\r\n",
      "Uninstalling pyshbundle-0.1.0:\r\n",
      "  Successfully uninstalled pyshbundle-0.1.0\r\n"
     ]
    }
   ],
   "source": [
    "!pip uninstall pyshbundle -y"
   ]
  },
  {
   "cell_type": "code",
   "execution_count": 2,
   "id": "4fd7249a",
   "metadata": {},
   "outputs": [
    {
     "name": "stdout",
     "output_type": "stream",
     "text": [
      "Requirement already satisfied: cartopy in /home/mn5hk/venvs/pysh_test/lib/python3.10/site-packages (0.22.0)\n",
      "Requirement already satisfied: pyproj>=3.1.0 in /home/mn5hk/venvs/pysh_test/lib/python3.10/site-packages (from cartopy) (3.6.1)\n",
      "Requirement already satisfied: packaging>=20 in /home/mn5hk/venvs/pysh_test/lib/python3.10/site-packages (from cartopy) (23.2)\n",
      "Requirement already satisfied: pyshp>=2.1 in /home/mn5hk/venvs/pysh_test/lib/python3.10/site-packages (from cartopy) (2.3.1)\n",
      "Requirement already satisfied: matplotlib>=3.4 in /home/mn5hk/venvs/pysh_test/lib/python3.10/site-packages (from cartopy) (3.8.2)\n",
      "Requirement already satisfied: numpy>=1.21 in /home/mn5hk/venvs/pysh_test/lib/python3.10/site-packages (from cartopy) (1.26.3)\n",
      "Requirement already satisfied: shapely>=1.7 in /home/mn5hk/venvs/pysh_test/lib/python3.10/site-packages (from cartopy) (2.0.2)\n",
      "Requirement already satisfied: kiwisolver>=1.3.1 in /home/mn5hk/venvs/pysh_test/lib/python3.10/site-packages (from matplotlib>=3.4->cartopy) (1.4.5)\n",
      "Requirement already satisfied: cycler>=0.10 in /home/mn5hk/venvs/pysh_test/lib/python3.10/site-packages (from matplotlib>=3.4->cartopy) (0.12.1)\n",
      "Requirement already satisfied: pillow>=8 in /home/mn5hk/venvs/pysh_test/lib/python3.10/site-packages (from matplotlib>=3.4->cartopy) (10.2.0)\n",
      "Requirement already satisfied: contourpy>=1.0.1 in /home/mn5hk/venvs/pysh_test/lib/python3.10/site-packages (from matplotlib>=3.4->cartopy) (1.2.0)\n",
      "Requirement already satisfied: pyparsing>=2.3.1 in /home/mn5hk/venvs/pysh_test/lib/python3.10/site-packages (from matplotlib>=3.4->cartopy) (3.1.1)\n",
      "Requirement already satisfied: python-dateutil>=2.7 in /home/mn5hk/venvs/pysh_test/lib/python3.10/site-packages (from matplotlib>=3.4->cartopy) (2.8.2)\n",
      "Requirement already satisfied: fonttools>=4.22.0 in /home/mn5hk/venvs/pysh_test/lib/python3.10/site-packages (from matplotlib>=3.4->cartopy) (4.47.0)\n",
      "Requirement already satisfied: certifi in /home/mn5hk/venvs/pysh_test/lib/python3.10/site-packages (from pyproj>=3.1.0->cartopy) (2023.11.17)\n",
      "Requirement already satisfied: six>=1.5 in /home/mn5hk/venvs/pysh_test/lib/python3.10/site-packages (from python-dateutil>=2.7->matplotlib>=3.4->cartopy) (1.16.0)\n",
      "\n",
      "\u001b[1m[\u001b[0m\u001b[34;49mnotice\u001b[0m\u001b[1;39;49m]\u001b[0m\u001b[39;49m A new release of pip available: \u001b[0m\u001b[31;49m22.3.1\u001b[0m\u001b[39;49m -> \u001b[0m\u001b[32;49m23.3.2\u001b[0m\n",
      "\u001b[1m[\u001b[0m\u001b[34;49mnotice\u001b[0m\u001b[1;39;49m]\u001b[0m\u001b[39;49m To update, run: \u001b[0m\u001b[32;49mpip install --upgrade pip\u001b[0m\n",
      "Collecting pyshbundle\n",
      "  Using cached pyshbundle-0.1.0-py2.py3-none-any.whl\n",
      "Requirement already satisfied: xarray in /home/mn5hk/venvs/pysh_test/lib/python3.10/site-packages (from pyshbundle) (2023.12.0)\n",
      "Requirement already satisfied: geopandas in /home/mn5hk/venvs/pysh_test/lib/python3.10/site-packages (from pyshbundle) (0.14.1)\n",
      "Requirement already satisfied: numpy in /home/mn5hk/venvs/pysh_test/lib/python3.10/site-packages (from pyshbundle) (1.26.3)\n",
      "Requirement already satisfied: watchdog in /home/mn5hk/venvs/pysh_test/lib/python3.10/site-packages (from pyshbundle) (3.0.0)\n",
      "Requirement already satisfied: julian in /home/mn5hk/venvs/pysh_test/lib/python3.10/site-packages (from pyshbundle) (0.14)\n",
      "Requirement already satisfied: jupyterlab in /home/mn5hk/venvs/pysh_test/lib/python3.10/site-packages (from pyshbundle) (4.0.10)\n",
      "Requirement already satisfied: flake8 in /home/mn5hk/venvs/pysh_test/lib/python3.10/site-packages (from pyshbundle) (6.1.0)\n",
      "Requirement already satisfied: pip in /home/mn5hk/venvs/pysh_test/lib/python3.10/site-packages (from pyshbundle) (22.3.1)\n",
      "Requirement already satisfied: pandas in /home/mn5hk/venvs/pysh_test/lib/python3.10/site-packages (from pyshbundle) (2.1.4)\n",
      "Requirement already satisfied: shapely in /home/mn5hk/venvs/pysh_test/lib/python3.10/site-packages (from pyshbundle) (2.0.2)\n",
      "Requirement already satisfied: twine in /home/mn5hk/venvs/pysh_test/lib/python3.10/site-packages (from pyshbundle) (4.0.2)\n",
      "Requirement already satisfied: tqdm in /home/mn5hk/venvs/pysh_test/lib/python3.10/site-packages (from pyshbundle) (4.66.1)\n",
      "Requirement already satisfied: scipy in /home/mn5hk/venvs/pysh_test/lib/python3.10/site-packages (from pyshbundle) (1.11.4)\n",
      "Requirement already satisfied: rioxarray in /home/mn5hk/venvs/pysh_test/lib/python3.10/site-packages (from pyshbundle) (0.15.0)\n",
      "Requirement already satisfied: netCDF4 in /home/mn5hk/venvs/pysh_test/lib/python3.10/site-packages (from pyshbundle) (1.6.5)\n",
      "Requirement already satisfied: grip in /home/mn5hk/venvs/pysh_test/lib/python3.10/site-packages (from pyshbundle) (4.6.2)\n",
      "Requirement already satisfied: coverage in /home/mn5hk/venvs/pysh_test/lib/python3.10/site-packages (from pyshbundle) (7.4.0)\n",
      "Requirement already satisfied: Sphinx in /home/mn5hk/venvs/pysh_test/lib/python3.10/site-packages (from pyshbundle) (7.2.6)\n",
      "Requirement already satisfied: tox in /home/mn5hk/venvs/pysh_test/lib/python3.10/site-packages (from pyshbundle) (4.11.4)\n",
      "Requirement already satisfied: rasterio in /home/mn5hk/venvs/pysh_test/lib/python3.10/site-packages (from pyshbundle) (1.3.9)\n",
      "Requirement already satisfied: bump2version in /home/mn5hk/venvs/pysh_test/lib/python3.10/site-packages (from pyshbundle) (1.0.1)\n",
      "Requirement already satisfied: ipykernel in /home/mn5hk/venvs/pysh_test/lib/python3.10/site-packages (from pyshbundle) (6.28.0)\n",
      "Requirement already satisfied: cartopy in /home/mn5hk/venvs/pysh_test/lib/python3.10/site-packages (from pyshbundle) (0.22.0)\n",
      "Requirement already satisfied: wheel in /home/mn5hk/venvs/pysh_test/lib/python3.10/site-packages (from pyshbundle) (0.42.0)\n",
      "Requirement already satisfied: matplotlib in /home/mn5hk/venvs/pysh_test/lib/python3.10/site-packages (from pyshbundle) (3.8.2)\n",
      "Requirement already satisfied: pyproj>=3.1.0 in /home/mn5hk/venvs/pysh_test/lib/python3.10/site-packages (from cartopy->pyshbundle) (3.6.1)\n",
      "Requirement already satisfied: packaging>=20 in /home/mn5hk/venvs/pysh_test/lib/python3.10/site-packages (from cartopy->pyshbundle) (23.2)\n",
      "Requirement already satisfied: pyshp>=2.1 in /home/mn5hk/venvs/pysh_test/lib/python3.10/site-packages (from cartopy->pyshbundle) (2.3.1)\n",
      "Requirement already satisfied: pyparsing>=2.3.1 in /home/mn5hk/venvs/pysh_test/lib/python3.10/site-packages (from matplotlib->pyshbundle) (3.1.1)\n",
      "Requirement already satisfied: cycler>=0.10 in /home/mn5hk/venvs/pysh_test/lib/python3.10/site-packages (from matplotlib->pyshbundle) (0.12.1)\n",
      "Requirement already satisfied: kiwisolver>=1.3.1 in /home/mn5hk/venvs/pysh_test/lib/python3.10/site-packages (from matplotlib->pyshbundle) (1.4.5)\n",
      "Requirement already satisfied: contourpy>=1.0.1 in /home/mn5hk/venvs/pysh_test/lib/python3.10/site-packages (from matplotlib->pyshbundle) (1.2.0)\n",
      "Requirement already satisfied: python-dateutil>=2.7 in /home/mn5hk/venvs/pysh_test/lib/python3.10/site-packages (from matplotlib->pyshbundle) (2.8.2)\n",
      "Requirement already satisfied: pillow>=8 in /home/mn5hk/venvs/pysh_test/lib/python3.10/site-packages (from matplotlib->pyshbundle) (10.2.0)\n",
      "Requirement already satisfied: fonttools>=4.22.0 in /home/mn5hk/venvs/pysh_test/lib/python3.10/site-packages (from matplotlib->pyshbundle) (4.47.0)\n",
      "Requirement already satisfied: mccabe<0.8.0,>=0.7.0 in /home/mn5hk/venvs/pysh_test/lib/python3.10/site-packages (from flake8->pyshbundle) (0.7.0)\n",
      "Requirement already satisfied: pycodestyle<2.12.0,>=2.11.0 in /home/mn5hk/venvs/pysh_test/lib/python3.10/site-packages (from flake8->pyshbundle) (2.11.1)\n",
      "Requirement already satisfied: pyflakes<3.2.0,>=3.1.0 in /home/mn5hk/venvs/pysh_test/lib/python3.10/site-packages (from flake8->pyshbundle) (3.1.0)\n",
      "Requirement already satisfied: fiona>=1.8.21 in /home/mn5hk/venvs/pysh_test/lib/python3.10/site-packages (from geopandas->pyshbundle) (1.9.5)\n",
      "Requirement already satisfied: tzdata>=2022.1 in /home/mn5hk/venvs/pysh_test/lib/python3.10/site-packages (from pandas->pyshbundle) (2023.4)\n",
      "Requirement already satisfied: pytz>=2020.1 in /home/mn5hk/venvs/pysh_test/lib/python3.10/site-packages (from pandas->pyshbundle) (2023.3.post1)\n",
      "Requirement already satisfied: path-and-address>=2.0.1 in /home/mn5hk/venvs/pysh_test/lib/python3.10/site-packages (from grip->pyshbundle) (2.0.1)\n",
      "Requirement already satisfied: requests>=2.4.1 in /home/mn5hk/venvs/pysh_test/lib/python3.10/site-packages (from grip->pyshbundle) (2.31.0)\n",
      "Requirement already satisfied: Werkzeug>=0.7 in /home/mn5hk/venvs/pysh_test/lib/python3.10/site-packages (from grip->pyshbundle) (3.0.1)\n",
      "Requirement already satisfied: Pygments>=1.6 in /home/mn5hk/venvs/pysh_test/lib/python3.10/site-packages (from grip->pyshbundle) (2.17.2)\n",
      "Requirement already satisfied: Markdown>=2.5.1 in /home/mn5hk/venvs/pysh_test/lib/python3.10/site-packages (from grip->pyshbundle) (3.5.1)\n",
      "Requirement already satisfied: docopt>=0.4.0 in /home/mn5hk/venvs/pysh_test/lib/python3.10/site-packages (from grip->pyshbundle) (0.6.2)\n",
      "Requirement already satisfied: Flask>=0.10.1 in /home/mn5hk/venvs/pysh_test/lib/python3.10/site-packages (from grip->pyshbundle) (3.0.0)\n",
      "Requirement already satisfied: pyzmq>=24 in /home/mn5hk/venvs/pysh_test/lib/python3.10/site-packages (from ipykernel->pyshbundle) (25.1.2)\n",
      "Requirement already satisfied: traitlets>=5.4.0 in /home/mn5hk/venvs/pysh_test/lib/python3.10/site-packages (from ipykernel->pyshbundle) (5.14.1)\n",
      "Requirement already satisfied: debugpy>=1.6.5 in /home/mn5hk/venvs/pysh_test/lib/python3.10/site-packages (from ipykernel->pyshbundle) (1.8.0)\n",
      "Requirement already satisfied: nest-asyncio in /home/mn5hk/venvs/pysh_test/lib/python3.10/site-packages (from ipykernel->pyshbundle) (1.5.8)\n",
      "Requirement already satisfied: jupyter-core!=5.0.*,>=4.12 in /home/mn5hk/venvs/pysh_test/lib/python3.10/site-packages (from ipykernel->pyshbundle) (5.7.0)\n",
      "Requirement already satisfied: jupyter-client>=6.1.12 in /home/mn5hk/venvs/pysh_test/lib/python3.10/site-packages (from ipykernel->pyshbundle) (8.6.0)\n",
      "Requirement already satisfied: matplotlib-inline>=0.1 in /home/mn5hk/venvs/pysh_test/lib/python3.10/site-packages (from ipykernel->pyshbundle) (0.1.6)\n",
      "Requirement already satisfied: ipython>=7.23.1 in /home/mn5hk/venvs/pysh_test/lib/python3.10/site-packages (from ipykernel->pyshbundle) (8.19.0)\n",
      "Requirement already satisfied: tornado>=6.1 in /home/mn5hk/venvs/pysh_test/lib/python3.10/site-packages (from ipykernel->pyshbundle) (6.4)\n",
      "Requirement already satisfied: psutil in /home/mn5hk/venvs/pysh_test/lib/python3.10/site-packages (from ipykernel->pyshbundle) (5.9.7)\n",
      "Requirement already satisfied: comm>=0.1.1 in /home/mn5hk/venvs/pysh_test/lib/python3.10/site-packages (from ipykernel->pyshbundle) (0.2.1)\n"
     ]
    },
    {
     "name": "stdout",
     "output_type": "stream",
     "text": [
      "Requirement already satisfied: tomli in /home/mn5hk/venvs/pysh_test/lib/python3.10/site-packages (from jupyterlab->pyshbundle) (2.0.1)\n",
      "Requirement already satisfied: notebook-shim>=0.2 in /home/mn5hk/venvs/pysh_test/lib/python3.10/site-packages (from jupyterlab->pyshbundle) (0.2.3)\n",
      "Requirement already satisfied: async-lru>=1.0.0 in /home/mn5hk/venvs/pysh_test/lib/python3.10/site-packages (from jupyterlab->pyshbundle) (2.0.4)\n",
      "Requirement already satisfied: jupyterlab-server<3,>=2.19.0 in /home/mn5hk/venvs/pysh_test/lib/python3.10/site-packages (from jupyterlab->pyshbundle) (2.25.2)\n",
      "Requirement already satisfied: jupyter-server<3,>=2.4.0 in /home/mn5hk/venvs/pysh_test/lib/python3.10/site-packages (from jupyterlab->pyshbundle) (2.12.2)\n",
      "Requirement already satisfied: jupyter-lsp>=2.0.0 in /home/mn5hk/venvs/pysh_test/lib/python3.10/site-packages (from jupyterlab->pyshbundle) (2.2.1)\n",
      "Requirement already satisfied: jinja2>=3.0.3 in /home/mn5hk/venvs/pysh_test/lib/python3.10/site-packages (from jupyterlab->pyshbundle) (3.1.2)\n",
      "Requirement already satisfied: cftime in /home/mn5hk/venvs/pysh_test/lib/python3.10/site-packages (from netCDF4->pyshbundle) (1.6.3)\n",
      "Requirement already satisfied: certifi in /home/mn5hk/venvs/pysh_test/lib/python3.10/site-packages (from netCDF4->pyshbundle) (2023.11.17)\n",
      "Requirement already satisfied: snuggs>=1.4.1 in /home/mn5hk/venvs/pysh_test/lib/python3.10/site-packages (from rasterio->pyshbundle) (1.4.7)\n",
      "Requirement already satisfied: attrs in /home/mn5hk/venvs/pysh_test/lib/python3.10/site-packages (from rasterio->pyshbundle) (23.2.0)\n",
      "Requirement already satisfied: cligj>=0.5 in /home/mn5hk/venvs/pysh_test/lib/python3.10/site-packages (from rasterio->pyshbundle) (0.7.2)\n",
      "Requirement already satisfied: setuptools in /home/mn5hk/venvs/pysh_test/lib/python3.10/site-packages (from rasterio->pyshbundle) (65.5.0)\n",
      "Requirement already satisfied: click>=4.0 in /home/mn5hk/venvs/pysh_test/lib/python3.10/site-packages (from rasterio->pyshbundle) (8.1.7)\n",
      "Requirement already satisfied: click-plugins in /home/mn5hk/venvs/pysh_test/lib/python3.10/site-packages (from rasterio->pyshbundle) (1.1.1)\n",
      "Requirement already satisfied: affine in /home/mn5hk/venvs/pysh_test/lib/python3.10/site-packages (from rasterio->pyshbundle) (2.4.0)\n",
      "Requirement already satisfied: docutils<0.21,>=0.18.1 in /home/mn5hk/venvs/pysh_test/lib/python3.10/site-packages (from Sphinx->pyshbundle) (0.20.1)\n",
      "Requirement already satisfied: snowballstemmer>=2.0 in /home/mn5hk/venvs/pysh_test/lib/python3.10/site-packages (from Sphinx->pyshbundle) (2.2.0)\n",
      "Requirement already satisfied: alabaster<0.8,>=0.7 in /home/mn5hk/venvs/pysh_test/lib/python3.10/site-packages (from Sphinx->pyshbundle) (0.7.13)\n",
      "Requirement already satisfied: sphinxcontrib-devhelp in /home/mn5hk/venvs/pysh_test/lib/python3.10/site-packages (from Sphinx->pyshbundle) (1.0.5)\n",
      "Requirement already satisfied: imagesize>=1.3 in /home/mn5hk/venvs/pysh_test/lib/python3.10/site-packages (from Sphinx->pyshbundle) (1.4.1)\n",
      "Requirement already satisfied: sphinxcontrib-applehelp in /home/mn5hk/venvs/pysh_test/lib/python3.10/site-packages (from Sphinx->pyshbundle) (1.0.7)\n",
      "Requirement already satisfied: sphinxcontrib-qthelp in /home/mn5hk/venvs/pysh_test/lib/python3.10/site-packages (from Sphinx->pyshbundle) (1.0.6)\n",
      "Requirement already satisfied: sphinxcontrib-jsmath in /home/mn5hk/venvs/pysh_test/lib/python3.10/site-packages (from Sphinx->pyshbundle) (1.0.1)\n",
      "Requirement already satisfied: sphinxcontrib-serializinghtml>=1.1.9 in /home/mn5hk/venvs/pysh_test/lib/python3.10/site-packages (from Sphinx->pyshbundle) (1.1.9)\n",
      "Requirement already satisfied: sphinxcontrib-htmlhelp>=2.0.0 in /home/mn5hk/venvs/pysh_test/lib/python3.10/site-packages (from Sphinx->pyshbundle) (2.0.4)\n",
      "Requirement already satisfied: babel>=2.9 in /home/mn5hk/venvs/pysh_test/lib/python3.10/site-packages (from Sphinx->pyshbundle) (2.14.0)\n",
      "Requirement already satisfied: filelock>=3.12.3 in /home/mn5hk/venvs/pysh_test/lib/python3.10/site-packages (from tox->pyshbundle) (3.13.1)\n",
      "Requirement already satisfied: platformdirs>=3.10 in /home/mn5hk/venvs/pysh_test/lib/python3.10/site-packages (from tox->pyshbundle) (4.1.0)\n",
      "Requirement already satisfied: chardet>=5.2 in /home/mn5hk/venvs/pysh_test/lib/python3.10/site-packages (from tox->pyshbundle) (5.2.0)\n",
      "Requirement already satisfied: pyproject-api>=1.6.1 in /home/mn5hk/venvs/pysh_test/lib/python3.10/site-packages (from tox->pyshbundle) (1.6.1)\n",
      "Requirement already satisfied: cachetools>=5.3.1 in /home/mn5hk/venvs/pysh_test/lib/python3.10/site-packages (from tox->pyshbundle) (5.3.2)\n",
      "Requirement already satisfied: virtualenv>=20.24.3 in /home/mn5hk/venvs/pysh_test/lib/python3.10/site-packages (from tox->pyshbundle) (20.25.0)\n",
      "Requirement already satisfied: colorama>=0.4.6 in /home/mn5hk/venvs/pysh_test/lib/python3.10/site-packages (from tox->pyshbundle) (0.4.6)\n",
      "Requirement already satisfied: pluggy>=1.3 in /home/mn5hk/venvs/pysh_test/lib/python3.10/site-packages (from tox->pyshbundle) (1.3.0)\n",
      "Requirement already satisfied: readme-renderer>=35.0 in /home/mn5hk/venvs/pysh_test/lib/python3.10/site-packages (from twine->pyshbundle) (42.0)\n",
      "Requirement already satisfied: rfc3986>=1.4.0 in /home/mn5hk/venvs/pysh_test/lib/python3.10/site-packages (from twine->pyshbundle) (2.0.0)\n",
      "Requirement already satisfied: urllib3>=1.26.0 in /home/mn5hk/venvs/pysh_test/lib/python3.10/site-packages (from twine->pyshbundle) (2.1.0)\n",
      "Requirement already satisfied: requests-toolbelt!=0.9.0,>=0.8.0 in /home/mn5hk/venvs/pysh_test/lib/python3.10/site-packages (from twine->pyshbundle) (1.0.0)\n",
      "Requirement already satisfied: rich>=12.0.0 in /home/mn5hk/venvs/pysh_test/lib/python3.10/site-packages (from twine->pyshbundle) (13.7.0)\n",
      "Requirement already satisfied: pkginfo>=1.8.1 in /home/mn5hk/venvs/pysh_test/lib/python3.10/site-packages (from twine->pyshbundle) (1.9.6)\n",
      "Requirement already satisfied: keyring>=15.1 in /home/mn5hk/venvs/pysh_test/lib/python3.10/site-packages (from twine->pyshbundle) (24.3.0)\n",
      "Requirement already satisfied: importlib-metadata>=3.6 in /home/mn5hk/venvs/pysh_test/lib/python3.10/site-packages (from twine->pyshbundle) (7.0.1)\n",
      "Requirement already satisfied: typing-extensions>=4.0.0 in /home/mn5hk/venvs/pysh_test/lib/python3.10/site-packages (from async-lru>=1.0.0->jupyterlab->pyshbundle) (4.9.0)\n",
      "Requirement already satisfied: six in /home/mn5hk/venvs/pysh_test/lib/python3.10/site-packages (from fiona>=1.8.21->geopandas->pyshbundle) (1.16.0)\n",
      "Requirement already satisfied: itsdangerous>=2.1.2 in /home/mn5hk/venvs/pysh_test/lib/python3.10/site-packages (from Flask>=0.10.1->grip->pyshbundle) (2.1.2)\n",
      "Requirement already satisfied: blinker>=1.6.2 in /home/mn5hk/venvs/pysh_test/lib/python3.10/site-packages (from Flask>=0.10.1->grip->pyshbundle) (1.7.0)\n",
      "Requirement already satisfied: zipp>=0.5 in /home/mn5hk/venvs/pysh_test/lib/python3.10/site-packages (from importlib-metadata>=3.6->twine->pyshbundle) (3.17.0)\n",
      "Requirement already satisfied: stack-data in /home/mn5hk/venvs/pysh_test/lib/python3.10/site-packages (from ipython>=7.23.1->ipykernel->pyshbundle) (0.6.3)\n",
      "Requirement already satisfied: decorator in /home/mn5hk/venvs/pysh_test/lib/python3.10/site-packages (from ipython>=7.23.1->ipykernel->pyshbundle) (5.1.1)\n",
      "Requirement already satisfied: prompt-toolkit<3.1.0,>=3.0.41 in /home/mn5hk/venvs/pysh_test/lib/python3.10/site-packages (from ipython>=7.23.1->ipykernel->pyshbundle) (3.0.43)\n",
      "Requirement already satisfied: jedi>=0.16 in /home/mn5hk/venvs/pysh_test/lib/python3.10/site-packages (from ipython>=7.23.1->ipykernel->pyshbundle) (0.19.1)\n",
      "Requirement already satisfied: exceptiongroup in /home/mn5hk/venvs/pysh_test/lib/python3.10/site-packages (from ipython>=7.23.1->ipykernel->pyshbundle) (1.2.0)\n",
      "Requirement already satisfied: pexpect>4.3 in /home/mn5hk/venvs/pysh_test/lib/python3.10/site-packages (from ipython>=7.23.1->ipykernel->pyshbundle) (4.9.0)\n",
      "Requirement already satisfied: MarkupSafe>=2.0 in /home/mn5hk/venvs/pysh_test/lib/python3.10/site-packages (from jinja2>=3.0.3->jupyterlab->pyshbundle) (2.1.3)\n",
      "Requirement already satisfied: nbformat>=5.3.0 in /home/mn5hk/venvs/pysh_test/lib/python3.10/site-packages (from jupyter-server<3,>=2.4.0->jupyterlab->pyshbundle) (5.9.2)\n",
      "Requirement already satisfied: jupyter-events>=0.9.0 in /home/mn5hk/venvs/pysh_test/lib/python3.10/site-packages (from jupyter-server<3,>=2.4.0->jupyterlab->pyshbundle) (0.9.0)\n",
      "Requirement already satisfied: nbconvert>=6.4.4 in /home/mn5hk/venvs/pysh_test/lib/python3.10/site-packages (from jupyter-server<3,>=2.4.0->jupyterlab->pyshbundle) (7.14.0)\n",
      "Requirement already satisfied: anyio>=3.1.0 in /home/mn5hk/venvs/pysh_test/lib/python3.10/site-packages (from jupyter-server<3,>=2.4.0->jupyterlab->pyshbundle) (4.2.0)\n",
      "Requirement already satisfied: terminado>=0.8.3 in /home/mn5hk/venvs/pysh_test/lib/python3.10/site-packages (from jupyter-server<3,>=2.4.0->jupyterlab->pyshbundle) (0.18.0)\n",
      "Requirement already satisfied: overrides in /home/mn5hk/venvs/pysh_test/lib/python3.10/site-packages (from jupyter-server<3,>=2.4.0->jupyterlab->pyshbundle) (7.4.0)\n",
      "Requirement already satisfied: jupyter-server-terminals in /home/mn5hk/venvs/pysh_test/lib/python3.10/site-packages (from jupyter-server<3,>=2.4.0->jupyterlab->pyshbundle) (0.5.1)\n",
      "Requirement already satisfied: websocket-client in /home/mn5hk/venvs/pysh_test/lib/python3.10/site-packages (from jupyter-server<3,>=2.4.0->jupyterlab->pyshbundle) (1.7.0)\n",
      "Requirement already satisfied: send2trash>=1.8.2 in /home/mn5hk/venvs/pysh_test/lib/python3.10/site-packages (from jupyter-server<3,>=2.4.0->jupyterlab->pyshbundle) (1.8.2)\n",
      "Requirement already satisfied: prometheus-client in /home/mn5hk/venvs/pysh_test/lib/python3.10/site-packages (from jupyter-server<3,>=2.4.0->jupyterlab->pyshbundle) (0.19.0)\n",
      "Requirement already satisfied: argon2-cffi in /home/mn5hk/venvs/pysh_test/lib/python3.10/site-packages (from jupyter-server<3,>=2.4.0->jupyterlab->pyshbundle) (23.1.0)\n",
      "Requirement already satisfied: jsonschema>=4.18.0 in /home/mn5hk/venvs/pysh_test/lib/python3.10/site-packages (from jupyterlab-server<3,>=2.19.0->jupyterlab->pyshbundle) (4.20.0)\n",
      "Requirement already satisfied: json5>=0.9.0 in /home/mn5hk/venvs/pysh_test/lib/python3.10/site-packages (from jupyterlab-server<3,>=2.19.0->jupyterlab->pyshbundle) (0.9.14)\n"
     ]
    },
    {
     "name": "stdout",
     "output_type": "stream",
     "text": [
      "Requirement already satisfied: jeepney>=0.4.2 in /home/mn5hk/venvs/pysh_test/lib/python3.10/site-packages (from keyring>=15.1->twine->pyshbundle) (0.8.0)\n",
      "Requirement already satisfied: SecretStorage>=3.2 in /home/mn5hk/venvs/pysh_test/lib/python3.10/site-packages (from keyring>=15.1->twine->pyshbundle) (3.3.3)\n",
      "Requirement already satisfied: jaraco.classes in /home/mn5hk/venvs/pysh_test/lib/python3.10/site-packages (from keyring>=15.1->twine->pyshbundle) (3.3.0)\n",
      "Requirement already satisfied: nh3>=0.2.14 in /home/mn5hk/venvs/pysh_test/lib/python3.10/site-packages (from readme-renderer>=35.0->twine->pyshbundle) (0.2.15)\n",
      "Requirement already satisfied: idna<4,>=2.5 in /home/mn5hk/venvs/pysh_test/lib/python3.10/site-packages (from requests>=2.4.1->grip->pyshbundle) (3.6)\n",
      "Requirement already satisfied: charset-normalizer<4,>=2 in /home/mn5hk/venvs/pysh_test/lib/python3.10/site-packages (from requests>=2.4.1->grip->pyshbundle) (3.3.2)\n",
      "Requirement already satisfied: markdown-it-py>=2.2.0 in /home/mn5hk/venvs/pysh_test/lib/python3.10/site-packages (from rich>=12.0.0->twine->pyshbundle) (3.0.0)\n",
      "Requirement already satisfied: distlib<1,>=0.3.7 in /home/mn5hk/venvs/pysh_test/lib/python3.10/site-packages (from virtualenv>=20.24.3->tox->pyshbundle) (0.3.8)\n",
      "Requirement already satisfied: sniffio>=1.1 in /home/mn5hk/venvs/pysh_test/lib/python3.10/site-packages (from anyio>=3.1.0->jupyter-server<3,>=2.4.0->jupyterlab->pyshbundle) (1.3.0)\n",
      "Requirement already satisfied: parso<0.9.0,>=0.8.3 in /home/mn5hk/venvs/pysh_test/lib/python3.10/site-packages (from jedi>=0.16->ipython>=7.23.1->ipykernel->pyshbundle) (0.8.3)\n",
      "Requirement already satisfied: rpds-py>=0.7.1 in /home/mn5hk/venvs/pysh_test/lib/python3.10/site-packages (from jsonschema>=4.18.0->jupyterlab-server<3,>=2.19.0->jupyterlab->pyshbundle) (0.16.2)\n",
      "Requirement already satisfied: jsonschema-specifications>=2023.03.6 in /home/mn5hk/venvs/pysh_test/lib/python3.10/site-packages (from jsonschema>=4.18.0->jupyterlab-server<3,>=2.19.0->jupyterlab->pyshbundle) (2023.12.1)\n",
      "Requirement already satisfied: referencing>=0.28.4 in /home/mn5hk/venvs/pysh_test/lib/python3.10/site-packages (from jsonschema>=4.18.0->jupyterlab-server<3,>=2.19.0->jupyterlab->pyshbundle) (0.32.0)\n",
      "Requirement already satisfied: rfc3986-validator>=0.1.1 in /home/mn5hk/venvs/pysh_test/lib/python3.10/site-packages (from jupyter-events>=0.9.0->jupyter-server<3,>=2.4.0->jupyterlab->pyshbundle) (0.1.1)\n",
      "Requirement already satisfied: pyyaml>=5.3 in /home/mn5hk/venvs/pysh_test/lib/python3.10/site-packages (from jupyter-events>=0.9.0->jupyter-server<3,>=2.4.0->jupyterlab->pyshbundle) (6.0.1)\n",
      "Requirement already satisfied: rfc3339-validator in /home/mn5hk/venvs/pysh_test/lib/python3.10/site-packages (from jupyter-events>=0.9.0->jupyter-server<3,>=2.4.0->jupyterlab->pyshbundle) (0.1.4)\n",
      "Requirement already satisfied: python-json-logger>=2.0.4 in /home/mn5hk/venvs/pysh_test/lib/python3.10/site-packages (from jupyter-events>=0.9.0->jupyter-server<3,>=2.4.0->jupyterlab->pyshbundle) (2.0.7)\n",
      "Requirement already satisfied: mdurl~=0.1 in /home/mn5hk/venvs/pysh_test/lib/python3.10/site-packages (from markdown-it-py>=2.2.0->rich>=12.0.0->twine->pyshbundle) (0.1.2)\n",
      "Requirement already satisfied: defusedxml in /home/mn5hk/venvs/pysh_test/lib/python3.10/site-packages (from nbconvert>=6.4.4->jupyter-server<3,>=2.4.0->jupyterlab->pyshbundle) (0.7.1)\n",
      "Requirement already satisfied: nbclient>=0.5.0 in /home/mn5hk/venvs/pysh_test/lib/python3.10/site-packages (from nbconvert>=6.4.4->jupyter-server<3,>=2.4.0->jupyterlab->pyshbundle) (0.9.0)\n",
      "Requirement already satisfied: tinycss2 in /home/mn5hk/venvs/pysh_test/lib/python3.10/site-packages (from nbconvert>=6.4.4->jupyter-server<3,>=2.4.0->jupyterlab->pyshbundle) (1.2.1)\n",
      "Requirement already satisfied: jupyterlab-pygments in /home/mn5hk/venvs/pysh_test/lib/python3.10/site-packages (from nbconvert>=6.4.4->jupyter-server<3,>=2.4.0->jupyterlab->pyshbundle) (0.3.0)\n",
      "Requirement already satisfied: beautifulsoup4 in /home/mn5hk/venvs/pysh_test/lib/python3.10/site-packages (from nbconvert>=6.4.4->jupyter-server<3,>=2.4.0->jupyterlab->pyshbundle) (4.12.2)\n",
      "Requirement already satisfied: mistune<4,>=2.0.3 in /home/mn5hk/venvs/pysh_test/lib/python3.10/site-packages (from nbconvert>=6.4.4->jupyter-server<3,>=2.4.0->jupyterlab->pyshbundle) (3.0.2)\n",
      "Requirement already satisfied: bleach!=5.0.0 in /home/mn5hk/venvs/pysh_test/lib/python3.10/site-packages (from nbconvert>=6.4.4->jupyter-server<3,>=2.4.0->jupyterlab->pyshbundle) (6.1.0)\n",
      "Requirement already satisfied: pandocfilters>=1.4.1 in /home/mn5hk/venvs/pysh_test/lib/python3.10/site-packages (from nbconvert>=6.4.4->jupyter-server<3,>=2.4.0->jupyterlab->pyshbundle) (1.5.0)\n",
      "Requirement already satisfied: fastjsonschema in /home/mn5hk/venvs/pysh_test/lib/python3.10/site-packages (from nbformat>=5.3.0->jupyter-server<3,>=2.4.0->jupyterlab->pyshbundle) (2.19.1)\n",
      "Requirement already satisfied: ptyprocess>=0.5 in /home/mn5hk/venvs/pysh_test/lib/python3.10/site-packages (from pexpect>4.3->ipython>=7.23.1->ipykernel->pyshbundle) (0.7.0)\n",
      "Requirement already satisfied: wcwidth in /home/mn5hk/venvs/pysh_test/lib/python3.10/site-packages (from prompt-toolkit<3.1.0,>=3.0.41->ipython>=7.23.1->ipykernel->pyshbundle) (0.2.12)\n",
      "Requirement already satisfied: cryptography>=2.0 in /home/mn5hk/venvs/pysh_test/lib/python3.10/site-packages (from SecretStorage>=3.2->keyring>=15.1->twine->pyshbundle) (41.0.7)\n",
      "Requirement already satisfied: argon2-cffi-bindings in /home/mn5hk/venvs/pysh_test/lib/python3.10/site-packages (from argon2-cffi->jupyter-server<3,>=2.4.0->jupyterlab->pyshbundle) (21.2.0)\n",
      "Requirement already satisfied: more-itertools in /home/mn5hk/venvs/pysh_test/lib/python3.10/site-packages (from jaraco.classes->keyring>=15.1->twine->pyshbundle) (10.1.0)\n",
      "Requirement already satisfied: pure-eval in /home/mn5hk/venvs/pysh_test/lib/python3.10/site-packages (from stack-data->ipython>=7.23.1->ipykernel->pyshbundle) (0.2.2)\n",
      "Requirement already satisfied: executing>=1.2.0 in /home/mn5hk/venvs/pysh_test/lib/python3.10/site-packages (from stack-data->ipython>=7.23.1->ipykernel->pyshbundle) (2.0.1)\n",
      "Requirement already satisfied: asttokens>=2.1.0 in /home/mn5hk/venvs/pysh_test/lib/python3.10/site-packages (from stack-data->ipython>=7.23.1->ipykernel->pyshbundle) (2.4.1)\n",
      "Requirement already satisfied: webencodings in /home/mn5hk/venvs/pysh_test/lib/python3.10/site-packages (from bleach!=5.0.0->nbconvert>=6.4.4->jupyter-server<3,>=2.4.0->jupyterlab->pyshbundle) (0.5.1)\n",
      "Requirement already satisfied: cffi>=1.12 in /home/mn5hk/venvs/pysh_test/lib/python3.10/site-packages (from cryptography>=2.0->SecretStorage>=3.2->keyring>=15.1->twine->pyshbundle) (1.16.0)\n",
      "Requirement already satisfied: jsonpointer>1.13 in /home/mn5hk/venvs/pysh_test/lib/python3.10/site-packages (from jsonschema>=4.18.0->jupyterlab-server<3,>=2.19.0->jupyterlab->pyshbundle) (2.4)\n",
      "Requirement already satisfied: webcolors>=1.11 in /home/mn5hk/venvs/pysh_test/lib/python3.10/site-packages (from jsonschema>=4.18.0->jupyterlab-server<3,>=2.19.0->jupyterlab->pyshbundle) (1.13)\n",
      "Requirement already satisfied: isoduration in /home/mn5hk/venvs/pysh_test/lib/python3.10/site-packages (from jsonschema>=4.18.0->jupyterlab-server<3,>=2.19.0->jupyterlab->pyshbundle) (20.11.0)\n",
      "Requirement already satisfied: uri-template in /home/mn5hk/venvs/pysh_test/lib/python3.10/site-packages (from jsonschema>=4.18.0->jupyterlab-server<3,>=2.19.0->jupyterlab->pyshbundle) (1.3.0)\n",
      "Requirement already satisfied: fqdn in /home/mn5hk/venvs/pysh_test/lib/python3.10/site-packages (from jsonschema>=4.18.0->jupyterlab-server<3,>=2.19.0->jupyterlab->pyshbundle) (1.5.1)\n",
      "Requirement already satisfied: soupsieve>1.2 in /home/mn5hk/venvs/pysh_test/lib/python3.10/site-packages (from beautifulsoup4->nbconvert>=6.4.4->jupyter-server<3,>=2.4.0->jupyterlab->pyshbundle) (2.5)\n",
      "Requirement already satisfied: pycparser in /home/mn5hk/venvs/pysh_test/lib/python3.10/site-packages (from cffi>=1.12->cryptography>=2.0->SecretStorage>=3.2->keyring>=15.1->twine->pyshbundle) (2.21)\n",
      "Requirement already satisfied: arrow>=0.15.0 in /home/mn5hk/venvs/pysh_test/lib/python3.10/site-packages (from isoduration->jsonschema>=4.18.0->jupyterlab-server<3,>=2.19.0->jupyterlab->pyshbundle) (1.3.0)\n",
      "Requirement already satisfied: types-python-dateutil>=2.8.10 in /home/mn5hk/venvs/pysh_test/lib/python3.10/site-packages (from arrow>=0.15.0->isoduration->jsonschema>=4.18.0->jupyterlab-server<3,>=2.19.0->jupyterlab->pyshbundle) (2.8.19.14)\n"
     ]
    },
    {
     "name": "stdout",
     "output_type": "stream",
     "text": [
      "Installing collected packages: pyshbundle\n",
      "Successfully installed pyshbundle-0.1.0\n",
      "\n",
      "\u001b[1m[\u001b[0m\u001b[34;49mnotice\u001b[0m\u001b[1;39;49m]\u001b[0m\u001b[39;49m A new release of pip available: \u001b[0m\u001b[31;49m22.3.1\u001b[0m\u001b[39;49m -> \u001b[0m\u001b[32;49m23.3.2\u001b[0m\n",
      "\u001b[1m[\u001b[0m\u001b[34;49mnotice\u001b[0m\u001b[1;39;49m]\u001b[0m\u001b[39;49m To update, run: \u001b[0m\u001b[32;49mpip install --upgrade pip\u001b[0m\n"
     ]
    }
   ],
   "source": [
    "!pip install cartopy\n",
    "!pip install pyshbundle"
   ]
  },
  {
   "cell_type": "code",
   "execution_count": null,
   "id": "76c7efc6",
   "metadata": {},
   "outputs": [],
   "source": []
  },
  {
   "cell_type": "code",
   "execution_count": 3,
   "id": "ee0fccfb",
   "metadata": {},
   "outputs": [
    {
     "name": "stdout",
     "output_type": "stream",
     "text": [
      "Initializing PySHbundle v0.0.1\n"
     ]
    },
    {
     "ename": "ModuleNotFoundError",
     "evalue": "No module named 'cartopy'",
     "output_type": "error",
     "traceback": [
      "\u001b[0;31m---------------------------------------------------------------------------\u001b[0m",
      "\u001b[0;31mModuleNotFoundError\u001b[0m                       Traceback (most recent call last)",
      "Cell \u001b[0;32mIn[3], line 1\u001b[0m\n\u001b[0;32m----> 1\u001b[0m \u001b[38;5;28;01mimport\u001b[39;00m \u001b[38;5;21;01mpyshbundle\u001b[39;00m\n",
      "File \u001b[0;32m~/softwares/pyshbundle/pyshbundle/__init__.py:109\u001b[0m\n\u001b[1;32m    107\u001b[0m \u001b[38;5;28;01mfrom\u001b[39;00m \u001b[38;5;21;01m.\u001b[39;00m\u001b[38;5;21;01mtws_cal\u001b[39;00m \u001b[38;5;28;01mimport\u001b[39;00m tws_cal\n\u001b[1;32m    108\u001b[0m \u001b[38;5;66;03m# from .tws_py import \u001b[39;00m\n\u001b[0;32m--> 109\u001b[0m \u001b[38;5;28;01mfrom\u001b[39;00m \u001b[38;5;21;01m.\u001b[39;00m\u001b[38;5;21;01mvisualisation_utils\u001b[39;00m \u001b[38;5;28;01mimport\u001b[39;00m sc_triplot, cs_sqplot, polar_plot, mapfield, ylm, ylm_plot, gshs_prepare\n",
      "File \u001b[0;32m~/softwares/pyshbundle/pyshbundle/visualisation_utils.py:10\u001b[0m\n\u001b[1;32m      8\u001b[0m \u001b[38;5;28;01mimport\u001b[39;00m \u001b[38;5;21;01mmatplotlib\u001b[39;00m\u001b[38;5;21;01m.\u001b[39;00m\u001b[38;5;21;01mpyplot\u001b[39;00m \u001b[38;5;28;01mas\u001b[39;00m \u001b[38;5;21;01mplt\u001b[39;00m\n\u001b[1;32m      9\u001b[0m \u001b[38;5;28;01mimport\u001b[39;00m \u001b[38;5;21;01mnumpy\u001b[39;00m \u001b[38;5;28;01mas\u001b[39;00m \u001b[38;5;21;01mnp\u001b[39;00m\n\u001b[0;32m---> 10\u001b[0m \u001b[38;5;28;01mimport\u001b[39;00m \u001b[38;5;21;01mcartopy\u001b[39;00m\n\u001b[1;32m     11\u001b[0m \u001b[38;5;28;01mimport\u001b[39;00m \u001b[38;5;21;01mcartopy\u001b[39;00m\u001b[38;5;21;01m.\u001b[39;00m\u001b[38;5;21;01mcrs\u001b[39;00m \u001b[38;5;28;01mas\u001b[39;00m \u001b[38;5;21;01mccrs\u001b[39;00m\n\u001b[1;32m     13\u001b[0m \u001b[38;5;28;01mimport\u001b[39;00m \u001b[38;5;21;01mpyshbundle\u001b[39;00m\n",
      "\u001b[0;31mModuleNotFoundError\u001b[0m: No module named 'cartopy'"
     ]
    }
   ],
   "source": [
    "import pyshbundle"
   ]
  },
  {
   "cell_type": "code",
   "execution_count": null,
   "id": "c95c581d",
   "metadata": {},
   "outputs": [],
   "source": [
    "dir(pyshbundle)"
   ]
  },
  {
   "cell_type": "code",
   "execution_count": null,
   "id": "e4cd634f",
   "metadata": {},
   "outputs": [],
   "source": [
    "pyshbundle.klm2sc"
   ]
  },
  {
   "cell_type": "code",
   "execution_count": null,
   "id": "f63fa1b2",
   "metadata": {},
   "outputs": [],
   "source": []
  }
 ],
 "metadata": {
  "kernelspec": {
   "display_name": "Python 3 (ipykernel)",
   "language": "python",
   "name": "python3"
  },
  "language_info": {
   "codemirror_mode": {
    "name": "ipython",
    "version": 3
   },
   "file_extension": ".py",
   "mimetype": "text/x-python",
   "name": "python",
   "nbconvert_exporter": "python",
   "pygments_lexer": "ipython3",
   "version": "3.10.9"
  }
 },
 "nbformat": 4,
 "nbformat_minor": 5
}
