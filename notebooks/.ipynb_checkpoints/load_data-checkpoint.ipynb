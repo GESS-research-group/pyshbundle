{
 "cells": [
  {
   "cell_type": "markdown",
   "id": "764a0b1e-139b-4c3f-bc4f-c19c32a87c5a",
   "metadata": {
    "tags": []
   },
   "source": [
    "<img src=\"imgs/IISc_Master_Seal_Black_Transparent.png\" height=\"120px\" width=\"120px\" align=\"right\" />\n",
    "\n",
    "<img src=\"imgs/logoGESS.jpg\" height=\"120px\" width=\"120px\" align=\"right\" />\n",
    "\n",
    "<font face=\"Calibri\">\n",
    "<br>\n",
    "<font size=\"7\"> <b> PySHBundle Tutorials </b> </font>\n",
    "<br> <br>\n",
    "<font size=\"5\"> <b> Tutorial 1: Loading the data from different Data Centers (JPL, CSR and ITSG)<font color='rgba(200,0,0,0.2)'>  </font> </b> </font>\n",
    "<br> <br>\n",
    "    \n",
    "<font size=\"3\"> <b> by: Abhishek Mhamane, IIT Kanpur</b> \n",
    "<font size=\"2\">  <br>\n",
    "<font> <b>Date: </b> July 1, 2023 </font>\n",
    "</font>\n"
   ]
  },
  {
   "cell_type": "code",
   "execution_count": 42,
   "id": "ff88f333-2efc-490a-8737-ab0bb7abcd17",
   "metadata": {},
   "outputs": [],
   "source": [
    "import os\n",
    "import pprint\n",
    "import numpy as np\n",
    "from tqdm import tqdm, trange"
   ]
  },
  {
   "cell_type": "code",
   "execution_count": 3,
   "id": "bfd21972-5acf-45bf-a5d1-d26aefe8b6dd",
   "metadata": {},
   "outputs": [],
   "source": [
    "os.chdir('/media/abhishek/DATA/open_source/pyshbundle')\n",
    "import pyshbundle"
   ]
  },
  {
   "cell_type": "code",
   "execution_count": 4,
   "id": "5e532a6d-f66b-40be-bad0-b9539e45128e",
   "metadata": {},
   "outputs": [],
   "source": [
    "from pyshbundle.new_io import read_jpl, read_csr, read_tn13, read_tn14, extract_C10_11_replcmnt_coeff, cklm2sc_new\n",
    "from pyshbundle.new_io import extract_C20_replcmnt_coeff, extract_C30_replcmnt_coeff, replace_zonal_coeff, find_date_in_replacemnt_file\n",
    "from pyshbundle.new_io import read_itsg\n"
   ]
  },
  {
   "cell_type": "markdown",
   "id": "3f35fe35-b32a-4db0-86e7-da81d82da164",
   "metadata": {},
   "source": [
    "<font face=\"Calibri\" size=\"3\"> In this notebook, we will demonstrate how to use <em>PySHBundle</em> to load Level-2 Spherical Harmonic Data from different processing centers like JPL, CSR and ITSG.\n",
    "\n",
    "1.0 [Background](#section-1)<br>\n",
    "> 1.1 [GRACE Level-2 Data](#section-1.1) <br>\n",
    "> 1.3 [Download Data](#section-1.3) <br>\n",
    "\n",
    "2.0 [Reading the Level-2 Data](#section-2)  <br>\n",
    "> 2.1 [...](#section-2.1) <br>\n",
    "> 2.2 [...](#section-2.2) <br>\n",
    "\n",
    "3.0 [Replacing the coefficients](#section-3) <br>\n",
    "> 3.1 [...](#section-3.1) <br>\n",
    "> 3.2 [...](#section-3.2) \n",
    "\n",
    "</font>"
   ]
  },
  {
   "cell_type": "markdown",
   "id": "97d976e8-de12-4bbe-9215-3961a9fc4a87",
   "metadata": {
    "tags": []
   },
   "source": [
    "# 1.0 Background"
   ]
  },
  {
   "cell_type": "markdown",
   "id": "9c7afb1a-0ff7-4623-8c9e-88bf2763c12a",
   "metadata": {},
   "source": [
    "## 1.1 GRACE Level-2 Data"
   ]
  },
  {
   "cell_type": "markdown",
   "id": "5ecda43c-5d90-406f-9bdd-9c23720ae963",
   "metadata": {},
   "source": [
    "This dataset contains estimates of the total month-by-month geopotential of the Earth, derived from the Gravity Recovery and Climate Experiment Follow-On (GRACE-FO) mission measurements\n",
    "\n",
    "For more details refer to [GRACE Products by GFZ Postdam](https://www.gfz-potsdam.de/en/section/global-geomonitoring-and-gravity-field/projects/grace/grace-products)"
   ]
  },
  {
   "cell_type": "markdown",
   "id": "40864b8c-9fa5-4292-adda-1382b07b4b76",
   "metadata": {},
   "source": [
    "### Data Source - CSR"
   ]
  },
  {
   "cell_type": "markdown",
   "id": "faa4a3ab-2005-4048-a0fa-dc85d170ae03",
   "metadata": {},
   "source": [
    "Data loading steps are more or less similar for different data sources, still procedure for different sources have been explained in this tutorial."
   ]
  },
  {
   "cell_type": "code",
   "execution_count": 48,
   "id": "e2a0677d-3b5e-47b7-ae6b-58bda3731b4f",
   "metadata": {},
   "outputs": [],
   "source": [
    "# get the absolute paths to the data folders\n",
    "csr_folder = '../pyshbundle/sample_input_data/CSR_input'\n",
    "path_csr_tn13 = '../pyshbundle/pyshbundle/data/CSR_TN_files/TN-13_GEOC_JPL_RL06.txt'\n",
    "path_csr_tn14 = '../pyshbundle/pyshbundle/data/CSR_TN_files/TN-14_C30_C20_GSFC_SLR.txt'\n",
    "source = 'csr'\n",
    "\n",
    "# single file path \n",
    "csr_file_path = '../pyshbundle/sample_input_data/CSR_input/GSM-2_2005305-2005334_GRAC_UTCSR_BB01_0600.gz'"
   ]
  },
  {
   "cell_type": "markdown",
   "id": "b04caaa4-1cff-470a-af7d-6ac16c77f1ad",
   "metadata": {},
   "source": [
    "#### Step-1: Read the files (single and multiple files)"
   ]
  },
  {
   "cell_type": "markdown",
   "id": "9c47a4db",
   "metadata": {},
   "source": [
    "For the GRACE data files, the function `read_csr` parses the header info as well as the numerical data into a `dict` and `matrix` format respectively. <br>\n",
    "\n",
    "for additional information see the documentation or use `help(read_csr)`"
   ]
  },
  {
   "cell_type": "markdown",
   "id": "36d29cff",
   "metadata": {},
   "source": [
    "> Single file"
   ]
  },
  {
   "cell_type": "code",
   "execution_count": 53,
   "id": "a92d2ff6",
   "metadata": {},
   "outputs": [],
   "source": [
    "csr_header, klm_mat, start_date, end_date = read_csr(csr_file_path)"
   ]
  },
  {
   "cell_type": "code",
   "execution_count": 54,
   "id": "9e1ad2ad",
   "metadata": {},
   "outputs": [
    {
     "name": "stdout",
     "output_type": "stream",
     "text": [
      "{ 'degree': 96,\n",
      "  'earth_gravity_param': { 'units': 'm3/s2',\n",
      "                           'value': 398600441500000.0},\n",
      "  'institution': 'UT-AUSTIN/CSR',\n",
      "  'mean_equator_radius': { 'units': 'meters',\n",
      "                           'value': 6378136.3},\n",
      "  'normalization': 'fully '\n",
      "                   'normalized',\n",
      "  'order': 96,\n",
      "  'permanent_tide_flag': 'inclusive',\n",
      "  'processing_level': '2',\n",
      "  'product_version': 'RL06',\n",
      "  'title': 'GRACE '\n",
      "           'Geopotential '\n",
      "           'Coefficients '\n",
      "           'CSR '\n",
      "           'RL06'}\n"
     ]
    }
   ],
   "source": [
    "# pretty printing the header info\n",
    "pp = pprint.PrettyPrinter(indent=2, width=2, compact=True)\n",
    "pp.pprint(csr_header)"
   ]
  },
  {
   "cell_type": "markdown",
   "id": "0fb88f0b",
   "metadata": {},
   "source": [
    "The `klm_mat` contains the numerical data; of size (n, 6) <br> <br>\n",
    "\n",
    "The columns of the matrix (np.ndarray) are [degree, order, c_lm, s_lm, dev_c_lm, dev_s_lm] <br>\n",
    "\n",
    "NOTE: CSR provides data in the `KLM` format whereas JPL and ITSG provides in `CLM` format"
   ]
  },
  {
   "cell_type": "code",
   "execution_count": 56,
   "id": "245a71a8",
   "metadata": {},
   "outputs": [
    {
     "data": {
      "text/plain": [
       "array([[ 0.00000000e+00,  0.00000000e+00,  1.00000000e+00,\n",
       "         0.00000000e+00,  0.00000000e+00,  0.00000000e+00],\n",
       "       [ 1.00000000e+00,  0.00000000e+00,  0.00000000e+00,\n",
       "         0.00000000e+00,  0.00000000e+00,  0.00000000e+00],\n",
       "       [ 2.00000000e+00,  0.00000000e+00, -4.84169394e-04,\n",
       "         0.00000000e+00,  3.21600000e-13,  0.00000000e+00],\n",
       "       [ 3.00000000e+00,  0.00000000e+00,  9.57101568e-07,\n",
       "         0.00000000e+00,  2.56400000e-13,  0.00000000e+00],\n",
       "       [ 4.00000000e+00,  0.00000000e+00,  5.39980707e-07,\n",
       "         0.00000000e+00,  2.58800000e-13,  0.00000000e+00]])"
      ]
     },
     "execution_count": 56,
     "metadata": {},
     "output_type": "execute_result"
    }
   ],
   "source": [
    "# the numerical data\n",
    "klm_mat[0:5]"
   ]
  },
  {
   "cell_type": "markdown",
   "id": "37a44610",
   "metadata": {},
   "source": [
    "The shape of the `klm_mat` matrix indicates there are 4753 data rows in the "
   ]
  },
  {
   "cell_type": "code",
   "execution_count": 58,
   "id": "ed3da15e",
   "metadata": {},
   "outputs": [
    {
     "name": "stdout",
     "output_type": "stream",
     "text": [
      "(4753, 6)\n"
     ]
    }
   ],
   "source": [
    "print(klm_mat.shape)"
   ]
  },
  {
   "cell_type": "markdown",
   "id": "fe1ffbe2",
   "metadata": {},
   "source": [
    "The dates have been reported seperately so as to maintain consistency with data provided by other data processing centers."
   ]
  },
  {
   "cell_type": "code",
   "execution_count": 59,
   "id": "d876d872",
   "metadata": {},
   "outputs": [
    {
     "name": "stdout",
     "output_type": "stream",
     "text": [
      "start date: {20051101.0} and end date: {20051201.0}\n"
     ]
    }
   ],
   "source": [
    "# date flaot representation of date of YYYYMMDD -> just for consistency\n",
    "print(f\"start date: {start_date} and end date: {end_date}\")\n"
   ]
  },
  {
   "cell_type": "markdown",
   "id": "46530fe9",
   "metadata": {},
   "source": [
    "> Multiple files <br>\n",
    "\n",
    "In order to read multiple files, a stack can be generated by iteration over the files, calling `read_jpl`,  `read_csr`,  `read_itsg` and appending the stack matrix or list"
   ]
  },
  {
   "cell_type": "markdown",
   "id": "6bef7402",
   "metadata": {},
   "source": [
    "Ocassionally in order to maintain some sort of consistency in stacking, the files can be sorted before stacking."
   ]
  },
  {
   "cell_type": "code",
   "execution_count": 60,
   "id": "3a78dcaa-746f-43c6-8ae0-01ef04c0d38d",
   "metadata": {},
   "outputs": [],
   "source": [
    "# finds the date string chars in the file name for sorting purpose\n",
    "def last_4chars(x):\n",
    "        return(x[-39:-32])"
   ]
  },
  {
   "cell_type": "code",
   "execution_count": 62,
   "id": "88bfbe4c",
   "metadata": {},
   "outputs": [
    {
     "name": "stderr",
     "output_type": "stream",
     "text": [
      "100%|██████████| 212/212 [00:35<00:00,  5.99it/s]\n"
     ]
    }
   ],
   "source": [
    "# loading all the JPL files\n",
    "files = os.listdir(csr_folder)\n",
    "files = sorted(files, key = last_4chars)\n",
    "\n",
    "# initialize the stacking matrix or stacking container\n",
    "data_mat_csr = np.ndarray((len(files), 4753, 6))\n",
    "\n",
    "# collecting all the begin and stop dates in a matrix\n",
    "# later on can be converted to datetime object as and when required\n",
    "dates_csr = np.ndarray((len(files), 2))\n",
    "for i in trange(len(files)):\n",
    "    file_path = csr_folder + '/' + files[i]\n",
    "    header = read_csr(file_path)[0]\n",
    "    data_mat_csr[i, :, :] = read_csr(file_path)[1]\n",
    "    dates_csr[i, 0] = float(str(read_csr(file_path)[2])[1:-1])\n",
    "    dates_csr[i, 1] = float(str(read_csr(file_path)[3])[1:-1])\n",
    "    "
   ]
  },
  {
   "cell_type": "code",
   "execution_count": 63,
   "id": "c46db130",
   "metadata": {},
   "outputs": [
    {
     "name": "stdout",
     "output_type": "stream",
     "text": [
      "(212, 4753, 6)\n"
     ]
    }
   ],
   "source": [
    "print(data_mat_csr.shape)"
   ]
  },
  {
   "cell_type": "markdown",
   "id": "4697ba85",
   "metadata": {},
   "source": [
    "Similarly other sources like `JPL` and `ITSG` can be read and loaded into python for further processing."
   ]
  },
  {
   "cell_type": "code",
   "execution_count": null,
   "id": "22288c18-1c81-4c26-b9c7-762126898822",
   "metadata": {},
   "outputs": [],
   "source": []
  }
 ],
 "metadata": {
  "kernelspec": {
   "display_name": "Python 3 (ipykernel)",
   "language": "python",
   "name": "python3"
  },
  "language_info": {
   "codemirror_mode": {
    "name": "ipython",
    "version": 3
   },
   "file_extension": ".py",
   "mimetype": "text/x-python",
   "name": "python",
   "nbconvert_exporter": "python",
   "pygments_lexer": "ipython3",
   "version": "3.11.0"
  },
  "vscode": {
   "interpreter": {
    "hash": "c942a33ffa182542ea7eb705673c4cde756b073012d32ad559a923b584d30dd7"
   }
  }
 },
 "nbformat": 4,
 "nbformat_minor": 5
}
