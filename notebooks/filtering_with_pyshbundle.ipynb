{
 "cells": [
  {
   "cell_type": "markdown",
   "id": "634e59f9-f60c-4977-afb1-9cd36163e59e",
   "metadata": {},
   "source": [
    "<img src=\"imgs/IISc_Master_Seal_Black_Transparent.png\" height=\"120px\" width=\"120px\" align=\"right\" />\n",
    "\n",
    "<img src=\"imgs/logoGESS.jpg\" height=\"120px\" width=\"120px\" align=\"right\" />\n",
    "\n",
    "<font face=\"Calibri\">\n",
    "<font size=\"7\"> <b> PySHBundle Tutorials </b> </font>\n",
    "<br> \n",
    "<font size=\"5\"> <b> Tutorial 6: Filtering with PySHBundle<font color='rgba(200,0,0,0.2)'>  </font> </b> </font>\n",
    "<br> <br>\n",
    "    \n",
    "<font size=\"3\"> <b> by: Abhishek Mhamane, IIT Kanpur</b> \n",
    "<font size=\"2\">  <br>\n",
    "<font> <b>Date: </b> July 1, 2023 </font>\n",
    "</font>\n"
   ]
  },
  {
   "cell_type": "code",
   "execution_count": null,
   "id": "c49fd57c-ea50-4e8b-bb85-4f43ccdb5027",
   "metadata": {},
   "outputs": [],
   "source": []
  }
 ],
 "metadata": {
  "kernelspec": {
   "display_name": "Python 3 (ipykernel)",
   "language": "python",
   "name": "python3"
  },
  "language_info": {
   "codemirror_mode": {
    "name": "ipython",
    "version": 3
   },
   "file_extension": ".py",
   "mimetype": "text/x-python",
   "name": "python",
   "nbconvert_exporter": "python",
   "pygments_lexer": "ipython3",
   "version": "3.11.0"
  }
 },
 "nbformat": 4,
 "nbformat_minor": 5
}
