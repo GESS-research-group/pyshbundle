{
 "cells": [
  {
   "cell_type": "markdown",
   "metadata": {},
   "source": [
    "<img src=\"imgs/IISc_Master_Seal_Black_Transparent.png\" height=\"120px\" width=\"120px\" align=\"right\" />\n",
    "\n",
    "<img src=\"imgs/logoGESS.jpg\" height=\"120px\" width=\"120px\" align=\"right\" />\n",
    "\n",
    "<font face=\"Calibri\">\n",
    "<font size=\"7\"> <b> PySHBundle Tutorials </b> </font>\n",
    "<br> \n",
    "<font size=\"5\"> <b> Tutorial 4: Terrestrial Water Storage Time Series<font color='rgba(200,0,0,0.2)'>  </font> </b> </font>\n",
    "<br> <br>\n",
    "    \n",
    "<font size=\"3\"> <b> by: Abhishek Mhamane<sup>1</sup>, Vivek Kumar Yadav<sup>2</sup> <br>\n",
    "<sup>1</sup>IIT Kanpur, <sup>2</sup>ICWaR, IISc Bengaluru</b> \n",
    "<font size=\"2\">  <br>\n",
    "<font> <b>Date: </b> June 07, 2024 </font>\n",
    "</font>"
   ]
  },
  {
   "cell_type": "markdown",
   "metadata": {},
   "source": [
    "## Processing GRACE level 2 spherical harmonics data into terrestrial water storage anomalies (TWSA)\n",
    "\n",
    "This notebook explains each step of getting TWSA field, followed by the process itself.\n",
    "\n",
    "It is divided into three sections,\n",
    "* A. Acquiring corrected GRACE level 2 spherical harmonics data.\n",
    "* B. Processing (A) into global TWSA anomaly field.\n",
    "* C. (Additional) Clipping TWSA for a particular basin and calculating basin average TWSA time series."
   ]
  },
  {
   "cell_type": "markdown",
   "metadata": {},
   "source": [
    "### **A**. Acquiring corrected GRACE level 2 spherical harmonics data"
   ]
  },
  {
   "cell_type": "markdown",
   "metadata": {},
   "source": [
    "### A.1 Importing the necessary libraries"
   ]
  },
  {
   "cell_type": "code",
   "execution_count": 1,
   "metadata": {},
   "outputs": [],
   "source": [
    "import os\n",
    "import sys\n",
    "from datetime import datetime\n",
    "from collections import OrderedDict\n",
    "import numpy as np\n",
    "import pandas as pd\n",
    "import xarray as xr\n",
    "import matplotlib.pyplot as plt\n",
    "import cartopy.crs as ccrs\n",
    "# Add the folder path to the Python path\n",
    "folder_path = '../pyshbundle/'\n",
    "sys.path.append(folder_path)"
   ]
  },
  {
   "cell_type": "code",
   "execution_count": 2,
   "metadata": {},
   "outputs": [
    {
     "name": "stdout",
     "output_type": "stream",
     "text": [
      "Initializing PySHbundle v0.2.1\n"
     ]
    }
   ],
   "source": [
    "from pyshbundle.hydro import TWSCalc\n",
    "from pyshbundle.io import extract_SH_data, extract_deg1_coeff_tn13, extract_deg2_3_coeff_tn14\n",
    "from pyshbundle.viz_utils import plot_calendar_months"
   ]
  },
  {
   "cell_type": "code",
   "execution_count": 5,
   "metadata": {},
   "outputs": [],
   "source": [
    "import pyshbundle.shutils"
   ]
  },
  {
   "cell_type": "code",
   "execution_count": 6,
   "metadata": {},
   "outputs": [
    {
     "name": "stdout",
     "output_type": "stream",
     "text": [
      "Help on function iplm in module pyshbundle.shutils:\n",
      "\n",
      "iplm(l, m: int, theRAD, dt=-9999)\n",
      "    iplm Integrals of the fully normalized associated Legendre functions\n",
      "        over blocks for a selected order M.\n",
      "\n",
      "    Args:\n",
      "        l (_type_): degree (vector). Integer, but not necessarily monotonic.\n",
      "                For l < m a vector of zeros will be returned.\n",
      "        m (int): order (scalar)\n",
      "        theRAD (np.array): co-latitude [rad] (vector)\n",
      "        dt (int, optional): integration block-size [rad] (scalar). Defaults to -9999.\n",
      "\n",
      "    Returns:\n",
      "        np.ndarray: Matrix with integrated Legendre functions.\n",
      "                Functions are integrated from theRAD(i)-dt/2 till theRAD(i)+dt/2.\n",
      "                The matrix has length(TH) rows and length(L) columns, unless L\n",
      "                or TH is scalar. Then the output vector follows the shape of\n",
      "                respectively L or TH.\n",
      "\n",
      "    Notes:\n",
      "        The blocks at the pole might become too large under circumstances.\n",
      "        This is not treated separately, i.e. unwanted output may appear.\n",
      "        In case TH is scalar, dt will be 1 (arbitrarily).\n",
      "\n",
      "    TO DO:\n",
      "        Instead of using sys.exit() we could raise exceptions - that would be a better way of error handling\n",
      "\n",
      "    Uses:\n",
      "        `plm`\n",
      "\n",
      "    Author:\n",
      "        Vivek Yadav, Interdisciplinary Center for Water Research (ICWaR), Indian Institute of Science (IISc)\n",
      "\n"
     ]
    }
   ],
   "source": [
    "help(pyshbundle.shutils.iplm)"
   ]
  },
  {
   "cell_type": "code",
   "execution_count": null,
   "metadata": {},
   "outputs": [],
   "source": []
  },
  {
   "cell_type": "code",
   "execution_count": null,
   "metadata": {},
   "outputs": [],
   "source": []
  },
  {
   "cell_type": "code",
   "execution_count": null,
   "metadata": {},
   "outputs": [],
   "source": []
  },
  {
   "cell_type": "code",
   "execution_count": null,
   "metadata": {},
   "outputs": [],
   "source": []
  },
  {
   "cell_type": "code",
   "execution_count": null,
   "metadata": {},
   "outputs": [],
   "source": []
  },
  {
   "cell_type": "markdown",
   "metadata": {},
   "source": [
    "### A.2 Specifying the path to input data.\n",
    "As part of the package we provide the input data from 3 centres `JPL`, `CSR` & `ITSG` and the corresponding (recommended) Technical notes (`TN13`, `TN14`) files as well. User may download there own solutions and provide their paths below."
   ]
  },
  {
   "cell_type": "code",
   "execution_count": null,
   "metadata": {},
   "outputs": [],
   "source": [
    "# source='jpl'\n",
    "# path_sh = \"../sample_input_data/JPL_input/\"\n",
    "source='csr'\n",
    "path_sh = \"../sample_input_data/CSR_input/\"\n",
    "# source='itsg'\n",
    "# path_sh = \"../sample_input_data/ITSG_input/\"\n",
    "\n",
    "path_tn14 = \"../pyshbundle/data/JPL_TN_files/TN-14_C30_C20_GSFC_SLR.txt\"    # Path to TN14\n",
    "path_tn13 = \"../pyshbundle/data/JPL_TN_files/TN-13_GEOC_JPL_RL06.txt\"       # Path to TN13"
   ]
  },
  {
   "cell_type": "code",
   "execution_count": null,
   "metadata": {},
   "outputs": [],
   "source": [
    "files = os.listdir(path_sh)\n",
    "if str.upper(source) == 'ITSG':\n",
    "    file_paths = [path_sh + file for file in files if os.path.splitext(file)[1] == '.gfc'];\n",
    "else:\n",
    "    file_paths = [path_sh + file for file in files if os.path.splitext(file)[1] == '.gz'];"
   ]
  },
  {
   "cell_type": "markdown",
   "metadata": {},
   "source": [
    "### A3. Process each file and store the data in the main dictionary\n",
    "Dictionary to store the extracted data, the data can be accessed using the standard format of any python dictionary with the *key-value* pair. Access using `extracted_data['yyyy-mm'][(degree, order)]`\n"
   ]
  },
  {
   "cell_type": "code",
   "execution_count": 5,
   "metadata": {},
   "outputs": [],
   "source": [
    "extracted_data={} \n",
    "for file_path in file_paths:\n",
    "    # file_data = read_sh(file_path, source=source)\n",
    "    file_data = extract_SH_data(file_path, source=source)\n",
    "    if file_data['time_coverage_start']:\n",
    "        # Convert time_coverage_start to a datetime object and then format it as yyyy-mm\n",
    "        if source == 'itsg':\n",
    "            start_date = datetime.strptime(file_data['time_coverage_start'][-7:], '%Y-%m').strftime('%Y-%m')\n",
    "        else:\n",
    "            start_date = datetime.strptime(file_data['time_coverage_start'], '%Y-%m-%dT%H:%M:%S.%f').strftime('%Y-%m')\n",
    "        # Use the formatted date as the key\n",
    "        extracted_data[start_date] = file_data['coefficients']\n",
    "\n",
    "\n",
    "# Time Sort the dictionary by keys (dates)\n",
    "sorted_data = OrderedDict(sorted(extracted_data.items()));"
   ]
  },
  {
   "cell_type": "markdown",
   "metadata": {},
   "source": [
    "* Lets quickly visualize which month and years of data you have."
   ]
  },
  {
   "cell_type": "code",
   "execution_count": 6,
   "metadata": {},
   "outputs": [
    {
     "data": {
      "image/png": "[encoded data removed]",
      "text/plain": [
       "<Figure size 700x2300 with 23 Axes>"
      ]
     },
     "metadata": {},
     "output_type": "display_data"
    }
   ],
   "source": [
    "datetime_object = sorted_data.keys()\n",
    "\n",
    "plot_calendar_months(datetime_object)"
   ]
  },
  {
   "cell_type": "markdown",
   "metadata": {},
   "source": [
    "### A4. Nested *dictionary* structure of the extracted and time sorted data\n",
    "The keys of the `sorted_data` dictionary are the dates in the format `(yyyy-mm)`. \n",
    "\n",
    "Each key as a dictionary for a particular `(yyyy-mm)` pair has list of dictionaries for each `(degree, order)` pair that was read from the data, see example below."
   ]
  },
  {
   "cell_type": "code",
   "execution_count": 7,
   "metadata": {},
   "outputs": [
    {
     "name": "stdout",
     "output_type": "stream",
     "text": [
      "['2002-04', '2002-05', '2002-08', '2002-09', '2002-10'] \n",
      "\n",
      "[(0, 0), (1, 0), (2, 0), (3, 0), (4, 0)] \n",
      "\n",
      "dict_keys(['Clm', 'Slm', 'Clm_sdev', 'Slm_sdev']) \n",
      "\n",
      "Clm value for (degree, order)=(2,0) is: -0.000484169354622\n"
     ]
    }
   ],
   "source": [
    "print(list(sorted_data.keys())[0:5], '\\n')             # dicitonary for each year-month, printing only first 5\n",
    "print(list(sorted_data['2002-04'].keys())[0:5], '\\n')  # dictionary for each degree and order, , printing only first 5\n",
    "print(sorted_data['2002-04'][(2,0)].keys(), '\\n')      # dictionary with the data for repective year-month, degree and order\n",
    "print('Clm value for (degree, order)=(2,0) is:', sorted_data['2002-04'][(2,0)]['Clm'])"
   ]
  },
  {
   "cell_type": "markdown",
   "metadata": {},
   "source": [
    "### A5. Replacement of degree 2,3 coefficients\n",
    "Since the degree 2 & 3 (order 0) coefficients from GRACE are errorneous, these need to be replaced with the corresponding data from other sources. \n",
    "\n",
    "The recommended method is using Satellite laser ranging data. As mentioned above, we do provide the `TN14` data (JPL, CSR, & ITSG) with the package. Since this data is continuously updated users may download there own solutions for the same and use for replacement of `C20` and `C30` coefficients."
   ]
  },
  {
   "cell_type": "markdown",
   "metadata": {},
   "source": [
    "#### A.5.1 Reading data from TN14 file"
   ]
  },
  {
   "cell_type": "code",
   "execution_count": 8,
   "metadata": {},
   "outputs": [],
   "source": [
    "temp_tn14 = extract_deg2_3_coeff_tn14(path_tn14)"
   ]
  },
  {
   "cell_type": "markdown",
   "metadata": {},
   "source": [
    "* Once again we use python dictionary to store the replacement `C20`, `C30` coefficients for each `yyyy-mm`. They can be easily accessed as below.\n",
    "\n",
    "* Note that lot of the starting `C30` values are `None`, since these did not need replacement in the initial years and hence are defined in `TN14` as `None` itself."
   ]
  },
  {
   "cell_type": "code",
   "execution_count": 9,
   "metadata": {},
   "outputs": [
    {
     "name": "stdout",
     "output_type": "stream",
     "text": [
      "Keys of the TN14 replacement dictionary ['2002-04', '2002-05', '2002-08', '2002-09', '2002-10']\n",
      "Keys of dictionary for year-month 2002-4 dict_keys(['year_frac_start', 'mjd_start', 'c20', 'c20_mean_diff', 'c20_sigma', 'c30', 'c30_mean_diff', 'c30_sigma', 'mjd_end', 'year_frac_end'])\n",
      "For 2002-04 : \n",
      "C20 is: -0.00048416932630052 \n",
      "C30 is: None\n"
     ]
    }
   ],
   "source": [
    "print('Keys of the TN14 replacement dictionary', list(temp_tn14.keys())[0:5],)        # dicitonary for each year-month, , printing only first 5\n",
    "print('Keys of dictionary for year-month 2002-4', temp_tn14['2002-04'].keys())  # dictionary for c20, c30 coefficients for each year-month\n",
    "print('For 2002-04 :',  '\\n'\n",
    "      'C20 is:', temp_tn14['2002-04']['c20'], '\\n'\n",
    "      'C30 is:',temp_tn14['2002-04']['c30'])"
   ]
  },
  {
   "cell_type": "markdown",
   "metadata": {},
   "source": [
    "#### A.5.2 Replacing C20 values in `sorted_data` with the values from `temp_tn14` dictionary "
   ]
  },
  {
   "cell_type": "code",
   "execution_count": 10,
   "metadata": {},
   "outputs": [],
   "source": [
    "for date_key in temp_tn14.keys():\n",
    "    if date_key in sorted_data.keys():\n",
    "        sorted_data[date_key][(2,0)]['Clm'] = temp_tn14[date_key]['c20']\n",
    "        if temp_tn14[date_key]['c30'] is not None:\n",
    "            sorted_data[date_key][(3,0)]['Clm'] = temp_tn14[date_key]['c30'];"
   ]
  },
  {
   "cell_type": "markdown",
   "metadata": {},
   "source": [
    "### A.6 Replacement of degree 1 coefficients\n",
    "\n",
    "Since GRACE does not provide degree 1 coeffieicents, we need to replace (insert) them to get the complete spherical harmonics data starting from (degree, order) [0,0] to [$l_{max}$, $m_{max}$]\n",
    "\n",
    "The degree 1 coefficients are provided by various centres and are called Techinical notes 13. Similar to TN14, Pyshbundle includes TN13 files from JPL, CSR & ITSG. Users are suggested to download there own solutions for use since the TN13 & TN14 data in pyshbundle will not be updated frequently."
   ]
  },
  {
   "cell_type": "markdown",
   "metadata": {},
   "source": [
    "#### A.6.1 Reading data from TN13 file"
   ]
  },
  {
   "cell_type": "code",
   "execution_count": 11,
   "metadata": {},
   "outputs": [],
   "source": [
    "temp_tn13=extract_deg1_coeff_tn13(path_tn13)"
   ]
  },
  {
   "cell_type": "markdown",
   "metadata": {},
   "source": [
    "* The data from TN13 is again saved with a *key-value* pair for each `year-month`. As mentioned above, the coefficients we get from TN13 are `C10`, `S10`, `C11`, `S11`. It can be accessed as below."
   ]
  },
  {
   "cell_type": "code",
   "execution_count": 12,
   "metadata": {},
   "outputs": [
    {
     "name": "stdout",
     "output_type": "stream",
     "text": [
      "Keys of the TN13 replacement dictionary [('2002-04', 1, 0), ('2002-04', 1, 1), ('2002-05', 1, 0), ('2002-05', 1, 1), ('2002-08', 1, 0)]\n",
      "Keys of dictionary for year-month 2002-4 dict_keys(['degree', 'order', 'Clm', 'Slm', 'Clm_sdev', 'Slm_sdev', 'epoch_begin', 'epoch_end'])\n",
      "For 2002-04 : \n",
      "C10 is: 4.935091508e-10 \n",
      "S10 is: 0.0 \n",
      "C11 is: 2.407968956e-10 \n",
      "C11 is: -6.808848629e-11\n"
     ]
    }
   ],
   "source": [
    "print('Keys of the TN13 replacement dictionary', list(temp_tn13.keys())[0:5],)        # dicitonary for each year-month, printing only first 5\n",
    "print('Keys of dictionary for year-month 2002-4', temp_tn13[('2002-04', 1, 0)].keys())  # dictionary for c20, c30 coefficients for each year-month\n",
    "print('For 2002-04 :',  '\\n'\n",
    "       'C10 is:', temp_tn13[('2002-04', 1, 0)]['Clm'], '\\n'\n",
    "       'S10 is:', temp_tn13[('2002-04', 1, 0)]['Slm'], '\\n'\n",
    "       'C11 is:', temp_tn13[('2002-04', 1, 1)]['Clm'], '\\n'\n",
    "       'C11 is:', temp_tn13[('2002-04', 1, 1)]['Slm'])"
   ]
  },
  {
   "cell_type": "markdown",
   "metadata": {},
   "source": [
    "* Since **JPL** solutions do not provide degree 1 coeffs (`C10`, `C11`, `S10`, `S11`) new dictionary key-value pairs need to be initialized for them with 0 values. We shall replace them in the next step"
   ]
  },
  {
   "cell_type": "code",
   "execution_count": 13,
   "metadata": {
    "vscode": {
     "languageId": "ruby"
    }
   },
   "outputs": [],
   "source": [
    "if str.upper(source)=='JPL':\n",
    "    for key in sorted_data:\n",
    "        sorted_data[key][(0, 0)] = {'Clm': 0.0, 'Slm': 0.0, 'Clm_sdev': 0.0, 'Slm_sdev': 0.0}\n",
    "        sorted_data[key][(1, 0)] = {'Clm': 0.0, 'Slm': 0.0, 'Clm_sdev': 0.0, 'Slm_sdev': 0.0}\n",
    "        sorted_data[key][(1, 1)] = {'Clm': 0.0, 'Slm': 0.0, 'Clm_sdev': 0.0, 'Slm_sdev': 0.0};\n",
    "else: pass"
   ]
  },
  {
   "cell_type": "markdown",
   "metadata": {},
   "source": [
    "#### A.6.2 Replacing degree 1 values in `sorted_data` with the values from `temp_tn13` dictionary"
   ]
  },
  {
   "cell_type": "code",
   "execution_count": 14,
   "metadata": {},
   "outputs": [],
   "source": [
    "for date_key in temp_tn13.keys():\n",
    "    if date_key[0] in sorted_data.keys():\n",
    "        # print(date_key)\n",
    "        sorted_data[date_key[0]][(date_key[1], date_key[2])]['Clm'] = temp_tn13[date_key]['Clm']\n",
    "        sorted_data[date_key[0]][(date_key[1], date_key[2])]['Slm'] = temp_tn13[date_key]['Slm']\n",
    "        sorted_data[date_key[0]][(date_key[1], date_key[2])]['Clm_sdev'] = temp_tn13[date_key]['Clm_sdev']\n",
    "        sorted_data[date_key[0]][(date_key[1], date_key[2])]['Slm_sdev'] = temp_tn13[date_key]['Slm_sdev'];"
   ]
  },
  {
   "cell_type": "markdown",
   "metadata": {},
   "source": [
    "Lets see how many months of data we have and what is the maximum degree ($l_{max}$) and order ($m_{max}$) present in our data."
   ]
  },
  {
   "cell_type": "code",
   "execution_count": 15,
   "metadata": {},
   "outputs": [
    {
     "name": "stdout",
     "output_type": "stream",
     "text": [
      "The maximum degree & order in data is: 96 & 96\n",
      "Number of months for which data is available: 226\n"
     ]
    }
   ],
   "source": [
    "max_degree=np.max([degree for date in sorted_data.keys() for degree, order in sorted_data[date].keys()])\n",
    "max_order=np.max([order for date in sorted_data.keys() for degree, order in sorted_data[date].keys()])\n",
    "number_of_months=len(sorted_data.keys())\n",
    "print('The maximum degree & order in data is:' , max_degree, '&', max_order)\n",
    "print('Number of months for which data is available:', number_of_months)"
   ]
  },
  {
   "cell_type": "markdown",
   "metadata": {},
   "source": [
    "#### A.7 Processing level 2 spherical harmonics data\n",
    "\n",
    "Depending on the use, GRACE spherical harmonics data is stored in various formats such as `/S|C\\`, `C|S` and `KLM`. The two figures below show the most common formats.\n",
    "/Users/vivek/jupyter_nbs/gitrepos/pyshbundle/notebooks/imgs/sc_matrix.png\n",
    "<center>\n",
    "<img alt=\"CS matrix\" src=\"./imgs/cs_matrix.png\" width=\"500\" height=\"300\">\n",
    "<center>\n",
    "<img alt=\"SC matrix\" src=\"./imgs/sc_mat.png\" width=\"700\" height=\"350\">"
   ]
  },
  {
   "cell_type": "markdown",
   "metadata": {},
   "source": [
    "### A.7.1 Lets save the data in `/S|C\\` format\n",
    "\n",
    "* Now that we are done with accquring the data and replaced erroneous and missing coefficients. Lets store the SH coeffiecients in `clm` format.\n",
    "\n",
    "* Since the `sorted_data` has the (degree, order) pair as a key for each month, we can access the coefficients using those itself. Below is a simple `for` loop which implements it."
   ]
  },
  {
   "cell_type": "code",
   "execution_count": 16,
   "metadata": {},
   "outputs": [],
   "source": [
    "sc_mat=np.zeros([number_of_months, max_degree+1, 2*(max_degree+1)], dtype=np.longdouble)\n",
    "\n",
    "for index, key in enumerate(sorted_data.keys()):\n",
    "    temp=sorted_data[key]\n",
    "    for l in range(0,max_degree+1):\n",
    "        for m in range(0,l+1):\n",
    "            '''uncomment these two lines to see how the elements are being accessed from the dictionary'''\n",
    "            # print(l,m)\n",
    "            # print(temp[(l,m)]['Clm'])\n",
    "            sc_mat[index, l, max_degree+m+1]=temp[(l,m)]['Clm']\n",
    "            sc_mat[index, l, max_degree-m]=temp[(l,m)]['Slm']\n",
    "    del temp"
   ]
  },
  {
   "cell_type": "markdown",
   "metadata": {},
   "source": [
    "* Since all order 0 coefficients of $S_{lm}$ are 0, we can delete that column."
   ]
  },
  {
   "cell_type": "code",
   "execution_count": 17,
   "metadata": {},
   "outputs": [],
   "source": [
    "sc_mat=np.delete(sc_mat, max_degree, axis=2)"
   ]
  },
  {
   "cell_type": "markdown",
   "metadata": {},
   "source": [
    "### **B**. Processing (A) into global TWSA anomaly fields.\n",
    "\n",
    "Now that we have obtained the corrected the GRACE spherical harmonics coefficients and stored them in a suitable format (`/S|C\\`) we shall now begin the actual processing. The steps that follow will decide the interpretation (with respect to a mean) and spatial resolution of the final solutions."
   ]
  },
  {
   "cell_type": "markdown",
   "metadata": {},
   "source": [
    "#### B.1 Removing a temporal mean to get `delta_SC` matrix\n",
    "\n",
    "* Since the exact density data of the Earth is unkown, a mean gravitational state of the Earth has to be removed.\n",
    "\n",
    "* This can be done by taking a mean of the spherical harmonics coefficients over a period. The most common choice is taking a mean over the period of January 2003 to December 2010 since there is no gap in this period. However user may choose a different period for taking the mean or simply take a mean over the entire period by commenting out the line below."
   ]
  },
  {
   "cell_type": "code",
   "execution_count": 18,
   "metadata": {},
   "outputs": [],
   "source": [
    "SH_long_mean_jpl = np.load('../pyshbundle/data/long_mean/SH_long_mean_jpl.npy')    # load the long term mean SH coeffs---> JPL \n",
    "SH_long_mean_csr = np.load('../pyshbundle/data/long_mean/SH_long_mean_csr.npy')    # load the long term mean SH coeffs---> CSR\n",
    "SH_long_mean_itsg = np.load('../pyshbundle/data/long_mean/SH_long_mean_itsg.npy')    # load the long term mean SH coeffs---> ITSG\n",
    "delta_sc=np.ones_like(sc_mat)*np.nan\n",
    "if source== 'jpl':\n",
    "    delta_sc = sc_mat -   SH_long_mean_jpl\n",
    "    # delta_sc = sc_mat -   sc_mat.mean(axis=0)      # Remove the mean of the data\n",
    "elif source== 'csr':\n",
    "    delta_sc = sc_mat - SH_long_mean_csr\n",
    "elif source== 'itsg':\n",
    "    delta_sc = sc_mat - SH_long_mean_itsg"
   ]
  },
  {
   "cell_type": "code",
   "execution_count": 19,
   "metadata": {},
   "outputs": [
    {
     "data": {
      "text/html": [
       "<div><svg style=\"position: absolute; width: 0; height: 0; overflow: hidden\">\n",
       "<defs>\n",
       "<symbol id=\"icon-database\" viewBox=\"0 0 32 32\">\n",
       "<path d=\"M16 0c-8.837 0-16 2.239-16 5v4c0 2.761 7.163 5 16 5s16-2.239 16-5v-4c0-2.761-7.163-5-16-5z\"></path>\n",
       "<path d=\"M16 17c-8.837 0-16-2.239-16-5v6c0 2.761 7.163 5 16 5s16-2.239 16-5v-6c0 2.761-7.163 5-16 5z\"></path>\n",
       "<path d=\"M16 26c-8.837 0-16-2.239-16-5v6c0 2.761 7.163 5 16 5s16-2.239 16-5v-6c0 2.761-7.163 5-16 5z\"></path>\n",
       "</symbol>\n",
       "<symbol id=\"icon-file-text2\" viewBox=\"0 0 32 32\">\n",
       "<path d=\"M28.681 7.159c-0.694-0.947-1.662-2.053-2.724-3.116s-2.169-2.030-3.116-2.724c-1.612-1.182-2.393-1.319-2.841-1.319h-15.5c-1.378 0-2.5 1.121-2.5 2.5v27c0 1.378 1.122 2.5 2.5 2.5h23c1.378 0 2.5-1.122 2.5-2.5v-19.5c0-0.448-0.137-1.23-1.319-2.841zM24.543 5.457c0.959 0.959 1.712 1.825 2.268 2.543h-4.811v-4.811c0.718 0.556 1.584 1.309 2.543 2.268zM28 29.5c0 0.271-0.229 0.5-0.5 0.5h-23c-0.271 0-0.5-0.229-0.5-0.5v-27c0-0.271 0.229-0.5 0.5-0.5 0 0 15.499-0 15.5 0v7c0 0.552 0.448 1 1 1h7v19.5z\"></path>\n",
       "<path d=\"M23 26h-14c-0.552 0-1-0.448-1-1s0.448-1 1-1h14c0.552 0 1 0.448 1 1s-0.448 1-1 1z\"></path>\n",
       "<path d=\"M23 22h-14c-0.552 0-1-0.448-1-1s0.448-1 1-1h14c0.552 0 1 0.448 1 1s-0.448 1-1 1z\"></path>\n",
       "<path d=\"M23 18h-14c-0.552 0-1-0.448-1-1s0.448-1 1-1h14c0.552 0 1 0.448 1 1s-0.448 1-1 1z\"></path>\n",
       "</symbol>\n",
       "</defs>\n",
       "</svg>\n",
       "<style>/* CSS stylesheet for displaying xarray objects in jupyterlab.\n",
       " *\n",
       " */\n",
       "\n",
       ":root {\n",
       "  --xr-font-color0: var(--jp-content-font-color0, rgba(0, 0, 0, 1));\n",
       "  --xr-font-color2: var(--jp-content-font-color2, rgba(0, 0, 0, 0.54));\n",
       "  --xr-font-color3: var(--jp-content-font-color3, rgba(0, 0, 0, 0.38));\n",
       "  --xr-border-color: var(--jp-border-color2, #e0e0e0);\n",
       "  --xr-disabled-color: var(--jp-layout-color3, #bdbdbd);\n",
       "  --xr-background-color: var(--jp-layout-color0, white);\n",
       "  --xr-background-color-row-even: var(--jp-layout-color1, white);\n",
       "  --xr-background-color-row-odd: var(--jp-layout-color2, #eeeeee);\n",
       "}\n",
       "\n",
       "html[theme=dark],\n",
       "body[data-theme=dark],\n",
       "body.vscode-dark {\n",
       "  --xr-font-color0: rgba(255, 255, 255, 1);\n",
       "  --xr-font-color2: rgba(255, 255, 255, 0.54);\n",
       "  --xr-font-color3: rgba(255, 255, 255, 0.38);\n",
       "  --xr-border-color: #1F1F1F;\n",
       "  --xr-disabled-color: #515151;\n",
       "  --xr-background-color: #111111;\n",
       "  --xr-background-color-row-even: #111111;\n",
       "  --xr-background-color-row-odd: #313131;\n",
       "}\n",
       "\n",
       ".xr-wrap {\n",
       "  display: block !important;\n",
       "  min-width: 300px;\n",
       "  max-width: 700px;\n",
       "}\n",
       "\n",
       ".xr-text-repr-fallback {\n",
       "  /* fallback to plain text repr when CSS is not injected (untrusted notebook) */\n",
       "  display: none;\n",
       "}\n",
       "\n",
       ".xr-header {\n",
       "  padding-top: 6px;\n",
       "  padding-bottom: 6px;\n",
       "  margin-bottom: 4px;\n",
       "  border-bottom: solid 1px var(--xr-border-color);\n",
       "}\n",
       "\n",
       ".xr-header > div,\n",
       ".xr-header > ul {\n",
       "  display: inline;\n",
       "  margin-top: 0;\n",
       "  margin-bottom: 0;\n",
       "}\n",
       "\n",
       ".xr-obj-type,\n",
       ".xr-array-name {\n",
       "  margin-left: 2px;\n",
       "  margin-right: 10px;\n",
       "}\n",
       "\n",
       ".xr-obj-type {\n",
       "  color: var(--xr-font-color2);\n",
       "}\n",
       "\n",
       ".xr-sections {\n",
       "  padding-left: 0 !important;\n",
       "  display: grid;\n",
       "  grid-template-columns: 150px auto auto 1fr 20px 20px;\n",
       "}\n",
       "\n",
       ".xr-section-item {\n",
       "  display: contents;\n",
       "}\n",
       "\n",
       ".xr-section-item input {\n",
       "  display: none;\n",
       "}\n",
       "\n",
       ".xr-section-item input + label {\n",
       "  color: var(--xr-disabled-color);\n",
       "}\n",
       "\n",
       ".xr-section-item input:enabled + label {\n",
       "  cursor: pointer;\n",
       "  color: var(--xr-font-color2);\n",
       "}\n",
       "\n",
       ".xr-section-item input:enabled + label:hover {\n",
       "  color: var(--xr-font-color0);\n",
       "}\n",
       "\n",
       ".xr-section-summary {\n",
       "  grid-column: 1;\n",
       "  color: var(--xr-font-color2);\n",
       "  font-weight: 500;\n",
       "}\n",
       "\n",
       ".xr-section-summary > span {\n",
       "  display: inline-block;\n",
       "  padding-left: 0.5em;\n",
       "}\n",
       "\n",
       ".xr-section-summary-in:disabled + label {\n",
       "  color: var(--xr-font-color2);\n",
       "}\n",
       "\n",
       ".xr-section-summary-in + label:before {\n",
       "  display: inline-block;\n",
       "  content: '►';\n",
       "  font-size: 11px;\n",
       "  width: 15px;\n",
       "  text-align: center;\n",
       "}\n",
       "\n",
       ".xr-section-summary-in:disabled + label:before {\n",
       "  color: var(--xr-disabled-color);\n",
       "}\n",
       "\n",
       ".xr-section-summary-in:checked + label:before {\n",
       "  content: '▼';\n",
       "}\n",
       "\n",
       ".xr-section-summary-in:checked + label > span {\n",
       "  display: none;\n",
       "}\n",
       "\n",
       ".xr-section-summary,\n",
       ".xr-section-inline-details {\n",
       "  padding-top: 4px;\n",
       "  padding-bottom: 4px;\n",
       "}\n",
       "\n",
       ".xr-section-inline-details {\n",
       "  grid-column: 2 / -1;\n",
       "}\n",
       "\n",
       ".xr-section-details {\n",
       "  display: none;\n",
       "  grid-column: 1 / -1;\n",
       "  margin-bottom: 5px;\n",
       "}\n",
       "\n",
       ".xr-section-summary-in:checked ~ .xr-section-details {\n",
       "  display: contents;\n",
       "}\n",
       "\n",
       ".xr-array-wrap {\n",
       "  grid-column: 1 / -1;\n",
       "  display: grid;\n",
       "  grid-template-columns: 20px auto;\n",
       "}\n",
       "\n",
       ".xr-array-wrap > label {\n",
       "  grid-column: 1;\n",
       "  vertical-align: top;\n",
       "}\n",
       "\n",
       ".xr-preview {\n",
       "  color: var(--xr-font-color3);\n",
       "}\n",
       "\n",
       ".xr-array-preview,\n",
       ".xr-array-data {\n",
       "  padding: 0 5px !important;\n",
       "  grid-column: 2;\n",
       "}\n",
       "\n",
       ".xr-array-data,\n",
       ".xr-array-in:checked ~ .xr-array-preview {\n",
       "  display: none;\n",
       "}\n",
       "\n",
       ".xr-array-in:checked ~ .xr-array-data,\n",
       ".xr-array-preview {\n",
       "  display: inline-block;\n",
       "}\n",
       "\n",
       ".xr-dim-list {\n",
       "  display: inline-block !important;\n",
       "  list-style: none;\n",
       "  padding: 0 !important;\n",
       "  margin: 0;\n",
       "}\n",
       "\n",
       ".xr-dim-list li {\n",
       "  display: inline-block;\n",
       "  padding: 0;\n",
       "  margin: 0;\n",
       "}\n",
       "\n",
       ".xr-dim-list:before {\n",
       "  content: '(';\n",
       "}\n",
       "\n",
       ".xr-dim-list:after {\n",
       "  content: ')';\n",
       "}\n",
       "\n",
       ".xr-dim-list li:not(:last-child):after {\n",
       "  content: ',';\n",
       "  padding-right: 5px;\n",
       "}\n",
       "\n",
       ".xr-has-index {\n",
       "  font-weight: bold;\n",
       "}\n",
       "\n",
       ".xr-var-list,\n",
       ".xr-var-item {\n",
       "  display: contents;\n",
       "}\n",
       "\n",
       ".xr-var-item > div,\n",
       ".xr-var-item label,\n",
       ".xr-var-item > .xr-var-name span {\n",
       "  background-color: var(--xr-background-color-row-even);\n",
       "  margin-bottom: 0;\n",
       "}\n",
       "\n",
       ".xr-var-item > .xr-var-name:hover span {\n",
       "  padding-right: 5px;\n",
       "}\n",
       "\n",
       ".xr-var-list > li:nth-child(odd) > div,\n",
       ".xr-var-list > li:nth-child(odd) > label,\n",
       ".xr-var-list > li:nth-child(odd) > .xr-var-name span {\n",
       "  background-color: var(--xr-background-color-row-odd);\n",
       "}\n",
       "\n",
       ".xr-var-name {\n",
       "  grid-column: 1;\n",
       "}\n",
       "\n",
       ".xr-var-dims {\n",
       "  grid-column: 2;\n",
       "}\n",
       "\n",
       ".xr-var-dtype {\n",
       "  grid-column: 3;\n",
       "  text-align: right;\n",
       "  color: var(--xr-font-color2);\n",
       "}\n",
       "\n",
       ".xr-var-preview {\n",
       "  grid-column: 4;\n",
       "}\n",
       "\n",
       ".xr-index-preview {\n",
       "  grid-column: 2 / 5;\n",
       "  color: var(--xr-font-color2);\n",
       "}\n",
       "\n",
       ".xr-var-name,\n",
       ".xr-var-dims,\n",
       ".xr-var-dtype,\n",
       ".xr-preview,\n",
       ".xr-attrs dt {\n",
       "  white-space: nowrap;\n",
       "  overflow: hidden;\n",
       "  text-overflow: ellipsis;\n",
       "  padding-right: 10px;\n",
       "}\n",
       "\n",
       ".xr-var-name:hover,\n",
       ".xr-var-dims:hover,\n",
       ".xr-var-dtype:hover,\n",
       ".xr-attrs dt:hover {\n",
       "  overflow: visible;\n",
       "  width: auto;\n",
       "  z-index: 1;\n",
       "}\n",
       "\n",
       ".xr-var-attrs,\n",
       ".xr-var-data,\n",
       ".xr-index-data {\n",
       "  display: none;\n",
       "  background-color: var(--xr-background-color) !important;\n",
       "  padding-bottom: 5px !important;\n",
       "}\n",
       "\n",
       ".xr-var-attrs-in:checked ~ .xr-var-attrs,\n",
       ".xr-var-data-in:checked ~ .xr-var-data,\n",
       ".xr-index-data-in:checked ~ .xr-index-data {\n",
       "  display: block;\n",
       "}\n",
       "\n",
       ".xr-var-data > table {\n",
       "  float: right;\n",
       "}\n",
       "\n",
       ".xr-var-name span,\n",
       ".xr-var-data,\n",
       ".xr-index-name div,\n",
       ".xr-index-data,\n",
       ".xr-attrs {\n",
       "  padding-left: 25px !important;\n",
       "}\n",
       "\n",
       ".xr-attrs,\n",
       ".xr-var-attrs,\n",
       ".xr-var-data,\n",
       ".xr-index-data {\n",
       "  grid-column: 1 / -1;\n",
       "}\n",
       "\n",
       "dl.xr-attrs {\n",
       "  padding: 0;\n",
       "  margin: 0;\n",
       "  display: grid;\n",
       "  grid-template-columns: 125px auto;\n",
       "}\n",
       "\n",
       ".xr-attrs dt,\n",
       ".xr-attrs dd {\n",
       "  padding: 0;\n",
       "  margin: 0;\n",
       "  float: left;\n",
       "  padding-right: 10px;\n",
       "  width: auto;\n",
       "}\n",
       "\n",
       ".xr-attrs dt {\n",
       "  font-weight: normal;\n",
       "  grid-column: 1;\n",
       "}\n",
       "\n",
       ".xr-attrs dt:hover span {\n",
       "  display: inline-block;\n",
       "  background: var(--xr-background-color);\n",
       "  padding-right: 10px;\n",
       "}\n",
       "\n",
       ".xr-attrs dd {\n",
       "  grid-column: 2;\n",
       "  white-space: pre-wrap;\n",
       "  word-break: break-all;\n",
       "}\n",
       "\n",
       ".xr-icon-database,\n",
       ".xr-icon-file-text2,\n",
       ".xr-no-icon {\n",
       "  display: inline-block;\n",
       "  vertical-align: middle;\n",
       "  width: 1em;\n",
       "  height: 1.5em !important;\n",
       "  stroke-width: 0;\n",
       "  stroke: currentColor;\n",
       "  fill: currentColor;\n",
       "}\n",
       "</style><pre class='xr-text-repr-fallback'>&lt;xarray.Dataset&gt; Size: 34MB\n",
       "Dimensions:  (time: 226, lat: 97, lon: 193)\n",
       "Coordinates:\n",
       "  * time     (time) datetime64[ns] 2kB 2002-04-30 2002-05-31 ... 2024-04-30\n",
       "  * lat      (lat) float64 776B 1.0 1.0 1.0 1.0 1.0 1.0 ... 1.0 1.0 1.0 1.0 1.0\n",
       "  * lon      (lon) float64 2kB 1.0 1.0 1.0 1.0 1.0 1.0 ... 1.0 1.0 1.0 1.0 1.0\n",
       "Data variables:\n",
       "    tws      (time, lat, lon) float64 34MB 0.0 0.0 0.0 ... -7.51e-11 1.387e-11\n",
       "Attributes:\n",
       "    description:  Global gridded TWS Anomaly corresponding to long term (2004...\n",
       "    units:        mm</pre><div class='xr-wrap' style='display:none'><div class='xr-header'><div class='xr-obj-type'>xarray.Dataset</div></div><ul class='xr-sections'><li class='xr-section-item'><input id='section-57af0750-88f7-48a8-8846-bef1066ef49b' class='xr-section-summary-in' type='checkbox' disabled ><label for='section-57af0750-88f7-48a8-8846-bef1066ef49b' class='xr-section-summary'  title='Expand/collapse section'>Dimensions:</label><div class='xr-section-inline-details'><ul class='xr-dim-list'><li><span class='xr-has-index'>time</span>: 226</li><li><span class='xr-has-index'>lat</span>: 97</li><li><span class='xr-has-index'>lon</span>: 193</li></ul></div><div class='xr-section-details'></div></li><li class='xr-section-item'><input id='section-75fb93c3-1eb2-40e5-b199-2db916f1a807' class='xr-section-summary-in' type='checkbox'  checked><label for='section-75fb93c3-1eb2-40e5-b199-2db916f1a807' class='xr-section-summary' >Coordinates: <span>(3)</span></label><div class='xr-section-inline-details'></div><div class='xr-section-details'><ul class='xr-var-list'><li class='xr-var-item'><div class='xr-var-name'><span class='xr-has-index'>time</span></div><div class='xr-var-dims'>(time)</div><div class='xr-var-dtype'>datetime64[ns]</div><div class='xr-var-preview xr-preview'>2002-04-30 ... 2024-04-30</div><input id='attrs-e7982b7c-ed9b-4fe6-b2c9-9e69bb6c11c3' class='xr-var-attrs-in' type='checkbox' disabled><label for='attrs-e7982b7c-ed9b-4fe6-b2c9-9e69bb6c11c3' title='Show/Hide attributes'><svg class='icon xr-icon-file-text2'><use xlink:href='#icon-file-text2'></use></svg></label><input id='data-36602881-d904-469a-b978-9675a897e8d9' class='xr-var-data-in' type='checkbox'><label for='data-36602881-d904-469a-b978-9675a897e8d9' title='Show/Hide data repr'><svg class='icon xr-icon-database'><use xlink:href='#icon-database'></use></svg></label><div class='xr-var-attrs'><dl class='xr-attrs'></dl></div><div class='xr-var-data'><pre>array([&#x27;2002-04-30T00:00:00.000000000&#x27;, &#x27;2002-05-31T00:00:00.000000000&#x27;,\n",
       "       &#x27;2002-08-31T00:00:00.000000000&#x27;, ..., &#x27;2024-02-29T00:00:00.000000000&#x27;,\n",
       "       &#x27;2024-03-31T00:00:00.000000000&#x27;, &#x27;2024-04-30T00:00:00.000000000&#x27;],\n",
       "      dtype=&#x27;datetime64[ns]&#x27;)</pre></div></li><li class='xr-var-item'><div class='xr-var-name'><span class='xr-has-index'>lat</span></div><div class='xr-var-dims'>(lat)</div><div class='xr-var-dtype'>float64</div><div class='xr-var-preview xr-preview'>1.0 1.0 1.0 1.0 ... 1.0 1.0 1.0 1.0</div><input id='attrs-9f43a5b9-c567-443e-8dfd-bcb3cf63dde2' class='xr-var-attrs-in' type='checkbox' disabled><label for='attrs-9f43a5b9-c567-443e-8dfd-bcb3cf63dde2' title='Show/Hide attributes'><svg class='icon xr-icon-file-text2'><use xlink:href='#icon-file-text2'></use></svg></label><input id='data-5c85a2ff-b092-4d7b-9f7e-88d803f7e46b' class='xr-var-data-in' type='checkbox'><label for='data-5c85a2ff-b092-4d7b-9f7e-88d803f7e46b' title='Show/Hide data repr'><svg class='icon xr-icon-database'><use xlink:href='#icon-database'></use></svg></label><div class='xr-var-attrs'><dl class='xr-attrs'></dl></div><div class='xr-var-data'><pre>array([1., 1., 1., 1., 1., 1., 1., 1., 1., 1., 1., 1., 1., 1., 1., 1., 1., 1.,\n",
       "       1., 1., 1., 1., 1., 1., 1., 1., 1., 1., 1., 1., 1., 1., 1., 1., 1., 1.,\n",
       "       1., 1., 1., 1., 1., 1., 1., 1., 1., 1., 1., 1., 1., 1., 1., 1., 1., 1.,\n",
       "       1., 1., 1., 1., 1., 1., 1., 1., 1., 1., 1., 1., 1., 1., 1., 1., 1., 1.,\n",
       "       1., 1., 1., 1., 1., 1., 1., 1., 1., 1., 1., 1., 1., 1., 1., 1., 1., 1.,\n",
       "       1., 1., 1., 1., 1., 1., 1.])</pre></div></li><li class='xr-var-item'><div class='xr-var-name'><span class='xr-has-index'>lon</span></div><div class='xr-var-dims'>(lon)</div><div class='xr-var-dtype'>float64</div><div class='xr-var-preview xr-preview'>1.0 1.0 1.0 1.0 ... 1.0 1.0 1.0 1.0</div><input id='attrs-7801f3c1-c8fb-4b77-8341-28949e75b404' class='xr-var-attrs-in' type='checkbox' disabled><label for='attrs-7801f3c1-c8fb-4b77-8341-28949e75b404' title='Show/Hide attributes'><svg class='icon xr-icon-file-text2'><use xlink:href='#icon-file-text2'></use></svg></label><input id='data-9b46e3dc-5d80-4645-8985-583bc4d59bcf' class='xr-var-data-in' type='checkbox'><label for='data-9b46e3dc-5d80-4645-8985-583bc4d59bcf' title='Show/Hide data repr'><svg class='icon xr-icon-database'><use xlink:href='#icon-database'></use></svg></label><div class='xr-var-attrs'><dl class='xr-attrs'></dl></div><div class='xr-var-data'><pre>array([1., 1., 1., 1., 1., 1., 1., 1., 1., 1., 1., 1., 1., 1., 1., 1., 1., 1.,\n",
       "       1., 1., 1., 1., 1., 1., 1., 1., 1., 1., 1., 1., 1., 1., 1., 1., 1., 1.,\n",
       "       1., 1., 1., 1., 1., 1., 1., 1., 1., 1., 1., 1., 1., 1., 1., 1., 1., 1.,\n",
       "       1., 1., 1., 1., 1., 1., 1., 1., 1., 1., 1., 1., 1., 1., 1., 1., 1., 1.,\n",
       "       1., 1., 1., 1., 1., 1., 1., 1., 1., 1., 1., 1., 1., 1., 1., 1., 1., 1.,\n",
       "       1., 1., 1., 1., 1., 1., 1., 1., 1., 1., 1., 1., 1., 1., 1., 1., 1., 1.,\n",
       "       1., 1., 1., 1., 1., 1., 1., 1., 1., 1., 1., 1., 1., 1., 1., 1., 1., 1.,\n",
       "       1., 1., 1., 1., 1., 1., 1., 1., 1., 1., 1., 1., 1., 1., 1., 1., 1., 1.,\n",
       "       1., 1., 1., 1., 1., 1., 1., 1., 1., 1., 1., 1., 1., 1., 1., 1., 1., 1.,\n",
       "       1., 1., 1., 1., 1., 1., 1., 1., 1., 1., 1., 1., 1., 1., 1., 1., 1., 1.,\n",
       "       1., 1., 1., 1., 1., 1., 1., 1., 1., 1., 1., 1., 1.])</pre></div></li></ul></div></li><li class='xr-section-item'><input id='section-17a85692-24c4-4bc4-94b2-ba48d5eef73f' class='xr-section-summary-in' type='checkbox'  checked><label for='section-17a85692-24c4-4bc4-94b2-ba48d5eef73f' class='xr-section-summary' >Data variables: <span>(1)</span></label><div class='xr-section-inline-details'></div><div class='xr-section-details'><ul class='xr-var-list'><li class='xr-var-item'><div class='xr-var-name'><span>tws</span></div><div class='xr-var-dims'>(time, lat, lon)</div><div class='xr-var-dtype'>float64</div><div class='xr-var-preview xr-preview'>0.0 0.0 0.0 ... -7.51e-11 1.387e-11</div><input id='attrs-55640399-9b4d-438a-b05f-1aae0bd695ff' class='xr-var-attrs-in' type='checkbox' ><label for='attrs-55640399-9b4d-438a-b05f-1aae0bd695ff' title='Show/Hide attributes'><svg class='icon xr-icon-file-text2'><use xlink:href='#icon-file-text2'></use></svg></label><input id='data-d1997088-f7f8-4e40-92c7-7c1856c80399' class='xr-var-data-in' type='checkbox'><label for='data-d1997088-f7f8-4e40-92c7-7c1856c80399' title='Show/Hide data repr'><svg class='icon xr-icon-database'><use xlink:href='#icon-database'></use></svg></label><div class='xr-var-attrs'><dl class='xr-attrs'><dt><span>units :</span></dt><dd>mm</dd></dl></div><div class='xr-var-data'><pre>array([[[ 0.00000000e+00,  0.00000000e+00,  0.00000000e+00, ...,\n",
       "          0.00000000e+00,  0.00000000e+00,  0.00000000e+00],\n",
       "        [ 0.00000000e+00,  0.00000000e+00,  0.00000000e+00, ...,\n",
       "          0.00000000e+00,  0.00000000e+00,  0.00000000e+00],\n",
       "        [ 0.00000000e+00,  0.00000000e+00,  0.00000000e+00, ...,\n",
       "          0.00000000e+00,  0.00000000e+00,  0.00000000e+00],\n",
       "        ...,\n",
       "        [ 0.00000000e+00,  0.00000000e+00,  3.76357716e-11, ...,\n",
       "         -1.37146773e-11,  0.00000000e+00,  0.00000000e+00],\n",
       "        [ 0.00000000e+00,  1.04456394e-12, -1.77108058e-12, ...,\n",
       "         -3.62566789e-12,  3.44002738e-12,  0.00000000e+00],\n",
       "        [ 1.05386628e-11, -3.16173783e-12, -8.06161972e-11, ...,\n",
       "          4.15646362e-11, -2.64754878e-12,  5.52852280e-12]],\n",
       "\n",
       "       [[ 0.00000000e+00,  0.00000000e+00,  0.00000000e+00, ...,\n",
       "          0.00000000e+00,  0.00000000e+00,  0.00000000e+00],\n",
       "        [ 0.00000000e+00,  0.00000000e+00,  0.00000000e+00, ...,\n",
       "          0.00000000e+00,  0.00000000e+00,  0.00000000e+00],\n",
       "        [ 0.00000000e+00,  0.00000000e+00,  0.00000000e+00, ...,\n",
       "          0.00000000e+00,  0.00000000e+00,  0.00000000e+00],\n",
       "...\n",
       "          1.45171321e-11,  0.00000000e+00,  0.00000000e+00],\n",
       "        [ 0.00000000e+00,  1.16315924e-11,  1.24273516e-10, ...,\n",
       "          9.56111838e-11,  6.04123762e-12,  0.00000000e+00],\n",
       "        [-8.17766590e-12,  2.44808032e-11, -4.40854766e-11, ...,\n",
       "         -2.76781590e-11, -5.66087232e-11,  1.44417438e-11]],\n",
       "\n",
       "       [[ 0.00000000e+00,  0.00000000e+00,  0.00000000e+00, ...,\n",
       "          0.00000000e+00,  0.00000000e+00,  0.00000000e+00],\n",
       "        [ 0.00000000e+00,  0.00000000e+00,  0.00000000e+00, ...,\n",
       "          0.00000000e+00,  0.00000000e+00,  0.00000000e+00],\n",
       "        [ 0.00000000e+00,  0.00000000e+00,  0.00000000e+00, ...,\n",
       "          0.00000000e+00,  0.00000000e+00,  0.00000000e+00],\n",
       "        ...,\n",
       "        [ 0.00000000e+00,  0.00000000e+00,  6.52351335e-12, ...,\n",
       "          1.79374801e-11,  0.00000000e+00,  0.00000000e+00],\n",
       "        [ 0.00000000e+00,  1.38238701e-11,  1.64836026e-10, ...,\n",
       "          9.84850258e-11,  9.87067660e-13,  0.00000000e+00],\n",
       "        [ 3.19864492e-12,  2.83638906e-11,  2.11905323e-11, ...,\n",
       "          7.16130773e-12, -7.50992687e-11,  1.38654075e-11]]],\n",
       "      dtype=float64)</pre></div></li></ul></div></li><li class='xr-section-item'><input id='section-d224a3bc-3711-44c2-a238-1cbae976b8d8' class='xr-section-summary-in' type='checkbox'  ><label for='section-d224a3bc-3711-44c2-a238-1cbae976b8d8' class='xr-section-summary' >Indexes: <span>(3)</span></label><div class='xr-section-inline-details'></div><div class='xr-section-details'><ul class='xr-var-list'><li class='xr-var-item'><div class='xr-index-name'><div>time</div></div><div class='xr-index-preview'>PandasIndex</div><div></div><input id='index-cb729e34-1ea6-42c4-ac4a-e0b4e00fa250' class='xr-index-data-in' type='checkbox'/><label for='index-cb729e34-1ea6-42c4-ac4a-e0b4e00fa250' title='Show/Hide index repr'><svg class='icon xr-icon-database'><use xlink:href='#icon-database'></use></svg></label><div class='xr-index-data'><pre>PandasIndex(DatetimeIndex([&#x27;2002-04-30&#x27;, &#x27;2002-05-31&#x27;, &#x27;2002-08-31&#x27;, &#x27;2002-09-30&#x27;,\n",
       "               &#x27;2002-10-31&#x27;, &#x27;2002-11-30&#x27;, &#x27;2002-12-31&#x27;, &#x27;2003-01-31&#x27;,\n",
       "               &#x27;2003-02-28&#x27;, &#x27;2003-03-31&#x27;,\n",
       "               ...\n",
       "               &#x27;2023-07-31&#x27;, &#x27;2023-08-31&#x27;, &#x27;2023-09-30&#x27;, &#x27;2023-10-31&#x27;,\n",
       "               &#x27;2023-11-30&#x27;, &#x27;2023-12-31&#x27;, &#x27;2024-01-31&#x27;, &#x27;2024-02-29&#x27;,\n",
       "               &#x27;2024-03-31&#x27;, &#x27;2024-04-30&#x27;],\n",
       "              dtype=&#x27;datetime64[ns]&#x27;, name=&#x27;time&#x27;, length=226, freq=None))</pre></div></li><li class='xr-var-item'><div class='xr-index-name'><div>lat</div></div><div class='xr-index-preview'>PandasIndex</div><div></div><input id='index-2917e600-56aa-42fb-9975-675b049a1c90' class='xr-index-data-in' type='checkbox'/><label for='index-2917e600-56aa-42fb-9975-675b049a1c90' title='Show/Hide index repr'><svg class='icon xr-icon-database'><use xlink:href='#icon-database'></use></svg></label><div class='xr-index-data'><pre>PandasIndex(Index([1.0, 1.0, 1.0, 1.0, 1.0, 1.0, 1.0, 1.0, 1.0, 1.0, 1.0, 1.0, 1.0, 1.0,\n",
       "       1.0, 1.0, 1.0, 1.0, 1.0, 1.0, 1.0, 1.0, 1.0, 1.0, 1.0, 1.0, 1.0, 1.0,\n",
       "       1.0, 1.0, 1.0, 1.0, 1.0, 1.0, 1.0, 1.0, 1.0, 1.0, 1.0, 1.0, 1.0, 1.0,\n",
       "       1.0, 1.0, 1.0, 1.0, 1.0, 1.0, 1.0, 1.0, 1.0, 1.0, 1.0, 1.0, 1.0, 1.0,\n",
       "       1.0, 1.0, 1.0, 1.0, 1.0, 1.0, 1.0, 1.0, 1.0, 1.0, 1.0, 1.0, 1.0, 1.0,\n",
       "       1.0, 1.0, 1.0, 1.0, 1.0, 1.0, 1.0, 1.0, 1.0, 1.0, 1.0, 1.0, 1.0, 1.0,\n",
       "       1.0, 1.0, 1.0, 1.0, 1.0, 1.0, 1.0, 1.0, 1.0, 1.0, 1.0, 1.0, 1.0],\n",
       "      dtype=&#x27;float64&#x27;, name=&#x27;lat&#x27;))</pre></div></li><li class='xr-var-item'><div class='xr-index-name'><div>lon</div></div><div class='xr-index-preview'>PandasIndex</div><div></div><input id='index-9ab8c7c7-21a2-4a6e-9842-616655d58fa7' class='xr-index-data-in' type='checkbox'/><label for='index-9ab8c7c7-21a2-4a6e-9842-616655d58fa7' title='Show/Hide index repr'><svg class='icon xr-icon-database'><use xlink:href='#icon-database'></use></svg></label><div class='xr-index-data'><pre>PandasIndex(Index([1.0, 1.0, 1.0, 1.0, 1.0, 1.0, 1.0, 1.0, 1.0, 1.0,\n",
       "       ...\n",
       "       1.0, 1.0, 1.0, 1.0, 1.0, 1.0, 1.0, 1.0, 1.0, 1.0],\n",
       "      dtype=&#x27;float64&#x27;, name=&#x27;lon&#x27;, length=193))</pre></div></li></ul></div></li><li class='xr-section-item'><input id='section-c7c3b12a-90bb-46d4-a0db-0fc0ddadde24' class='xr-section-summary-in' type='checkbox'  checked><label for='section-c7c3b12a-90bb-46d4-a0db-0fc0ddadde24' class='xr-section-summary' >Attributes: <span>(2)</span></label><div class='xr-section-inline-details'></div><div class='xr-section-details'><dl class='xr-attrs'><dt><span>description :</span></dt><dd>Global gridded TWS Anomaly corresponding to long term (2004-2010) mean</dd><dt><span>units :</span></dt><dd>mm</dd></dl></div></li></ul></div></div>"
      ],
      "text/plain": [
       "<xarray.Dataset> Size: 34MB\n",
       "Dimensions:  (time: 226, lat: 97, lon: 193)\n",
       "Coordinates:\n",
       "  * time     (time) datetime64[ns] 2kB 2002-04-30 2002-05-31 ... 2024-04-30\n",
       "  * lat      (lat) float64 776B 1.0 1.0 1.0 1.0 1.0 1.0 ... 1.0 1.0 1.0 1.0 1.0\n",
       "  * lon      (lon) float64 2kB 1.0 1.0 1.0 1.0 1.0 1.0 ... 1.0 1.0 1.0 1.0 1.0\n",
       "Data variables:\n",
       "    tws      (time, lat, lon) float64 34MB 0.0 0.0 0.0 ... -7.51e-11 1.387e-11\n",
       "Attributes:\n",
       "    description:  Global gridded TWS Anomaly corresponding to long term (2004...\n",
       "    units:        mm"
      ]
     },
     "execution_count": 19,
     "metadata": {},
     "output_type": "execute_result"
    }
   ],
   "source": [
    "lon = np.ones(193)\n",
    "lat = np.ones(97)\n",
    "dates = pd.to_datetime(list(sorted_data.keys()), format='%Y-%m',) \\\n",
    "            + pd.offsets.MonthEnd(0)  #.dt.strftime('%d-%m-%Y')\n",
    "\n",
    "ds = xr.Dataset(\n",
    "    data_vars=dict(\n",
    "        tws=([\"time\",\"lat\", \"lon\"], delta_sc, {\"units\": \"mm\"})\n",
    "    ),\n",
    "    coords = {\n",
    "        # \"time\":(('time'),dates),\n",
    "        \"time\":dates,\n",
    "        \"lat\":lat,\n",
    "        \"lon\":lon },\n",
    "    attrs=dict(description=\"Global gridded TWS Anomaly corresponding to long term (2004-2010) mean\", \n",
    "               units=\"mm\"),\n",
    ")\n",
    "ds"
   ]
  },
  {
   "cell_type": "code",
   "execution_count": 20,
   "metadata": {},
   "outputs": [
    {
     "data": {
      "text/plain": [
       "DatetimeIndex(['2002-04-30', '2002-05-31', '2002-06-30', '2002-07-31',\n",
       "               '2002-08-31', '2002-09-30', '2002-10-31', '2002-11-30',\n",
       "               '2002-12-31', '2003-01-31',\n",
       "               ...\n",
       "               '2023-07-31', '2023-08-31', '2023-09-30', '2023-10-31',\n",
       "               '2023-11-30', '2023-12-31', '2024-01-31', '2024-02-29',\n",
       "               '2024-03-31', '2024-04-30'],\n",
       "              dtype='datetime64[ns]', length=265, freq='ME')"
      ]
     },
     "execution_count": 20,
     "metadata": {},
     "output_type": "execute_result"
    }
   ],
   "source": [
    "new_dates=pd.date_range(start=ds.time[0].values, \n",
    "                        end=ds.time[-1].values, freq='ME',)\n",
    "new_dates"
   ]
  },
  {
   "cell_type": "code",
   "execution_count": 21,
   "metadata": {},
   "outputs": [
    {
     "data": {
      "text/html": [
       "<div><svg style=\"position: absolute; width: 0; height: 0; overflow: hidden\">\n",
       "<defs>\n",
       "<symbol id=\"icon-database\" viewBox=\"0 0 32 32\">\n",
       "<path d=\"M16 0c-8.837 0-16 2.239-16 5v4c0 2.761 7.163 5 16 5s16-2.239 16-5v-4c0-2.761-7.163-5-16-5z\"></path>\n",
       "<path d=\"M16 17c-8.837 0-16-2.239-16-5v6c0 2.761 7.163 5 16 5s16-2.239 16-5v-6c0 2.761-7.163 5-16 5z\"></path>\n",
       "<path d=\"M16 26c-8.837 0-16-2.239-16-5v6c0 2.761 7.163 5 16 5s16-2.239 16-5v-6c0 2.761-7.163 5-16 5z\"></path>\n",
       "</symbol>\n",
       "<symbol id=\"icon-file-text2\" viewBox=\"0 0 32 32\">\n",
       "<path d=\"M28.681 7.159c-0.694-0.947-1.662-2.053-2.724-3.116s-2.169-2.030-3.116-2.724c-1.612-1.182-2.393-1.319-2.841-1.319h-15.5c-1.378 0-2.5 1.121-2.5 2.5v27c0 1.378 1.122 2.5 2.5 2.5h23c1.378 0 2.5-1.122 2.5-2.5v-19.5c0-0.448-0.137-1.23-1.319-2.841zM24.543 5.457c0.959 0.959 1.712 1.825 2.268 2.543h-4.811v-4.811c0.718 0.556 1.584 1.309 2.543 2.268zM28 29.5c0 0.271-0.229 0.5-0.5 0.5h-23c-0.271 0-0.5-0.229-0.5-0.5v-27c0-0.271 0.229-0.5 0.5-0.5 0 0 15.499-0 15.5 0v7c0 0.552 0.448 1 1 1h7v19.5z\"></path>\n",
       "<path d=\"M23 26h-14c-0.552 0-1-0.448-1-1s0.448-1 1-1h14c0.552 0 1 0.448 1 1s-0.448 1-1 1z\"></path>\n",
       "<path d=\"M23 22h-14c-0.552 0-1-0.448-1-1s0.448-1 1-1h14c0.552 0 1 0.448 1 1s-0.448 1-1 1z\"></path>\n",
       "<path d=\"M23 18h-14c-0.552 0-1-0.448-1-1s0.448-1 1-1h14c0.552 0 1 0.448 1 1s-0.448 1-1 1z\"></path>\n",
       "</symbol>\n",
       "</defs>\n",
       "</svg>\n",
       "<style>/* CSS stylesheet for displaying xarray objects in jupyterlab.\n",
       " *\n",
       " */\n",
       "\n",
       ":root {\n",
       "  --xr-font-color0: var(--jp-content-font-color0, rgba(0, 0, 0, 1));\n",
       "  --xr-font-color2: var(--jp-content-font-color2, rgba(0, 0, 0, 0.54));\n",
       "  --xr-font-color3: var(--jp-content-font-color3, rgba(0, 0, 0, 0.38));\n",
       "  --xr-border-color: var(--jp-border-color2, #e0e0e0);\n",
       "  --xr-disabled-color: var(--jp-layout-color3, #bdbdbd);\n",
       "  --xr-background-color: var(--jp-layout-color0, white);\n",
       "  --xr-background-color-row-even: var(--jp-layout-color1, white);\n",
       "  --xr-background-color-row-odd: var(--jp-layout-color2, #eeeeee);\n",
       "}\n",
       "\n",
       "html[theme=dark],\n",
       "body[data-theme=dark],\n",
       "body.vscode-dark {\n",
       "  --xr-font-color0: rgba(255, 255, 255, 1);\n",
       "  --xr-font-color2: rgba(255, 255, 255, 0.54);\n",
       "  --xr-font-color3: rgba(255, 255, 255, 0.38);\n",
       "  --xr-border-color: #1F1F1F;\n",
       "  --xr-disabled-color: #515151;\n",
       "  --xr-background-color: #111111;\n",
       "  --xr-background-color-row-even: #111111;\n",
       "  --xr-background-color-row-odd: #313131;\n",
       "}\n",
       "\n",
       ".xr-wrap {\n",
       "  display: block !important;\n",
       "  min-width: 300px;\n",
       "  max-width: 700px;\n",
       "}\n",
       "\n",
       ".xr-text-repr-fallback {\n",
       "  /* fallback to plain text repr when CSS is not injected (untrusted notebook) */\n",
       "  display: none;\n",
       "}\n",
       "\n",
       ".xr-header {\n",
       "  padding-top: 6px;\n",
       "  padding-bottom: 6px;\n",
       "  margin-bottom: 4px;\n",
       "  border-bottom: solid 1px var(--xr-border-color);\n",
       "}\n",
       "\n",
       ".xr-header > div,\n",
       ".xr-header > ul {\n",
       "  display: inline;\n",
       "  margin-top: 0;\n",
       "  margin-bottom: 0;\n",
       "}\n",
       "\n",
       ".xr-obj-type,\n",
       ".xr-array-name {\n",
       "  margin-left: 2px;\n",
       "  margin-right: 10px;\n",
       "}\n",
       "\n",
       ".xr-obj-type {\n",
       "  color: var(--xr-font-color2);\n",
       "}\n",
       "\n",
       ".xr-sections {\n",
       "  padding-left: 0 !important;\n",
       "  display: grid;\n",
       "  grid-template-columns: 150px auto auto 1fr 20px 20px;\n",
       "}\n",
       "\n",
       ".xr-section-item {\n",
       "  display: contents;\n",
       "}\n",
       "\n",
       ".xr-section-item input {\n",
       "  display: none;\n",
       "}\n",
       "\n",
       ".xr-section-item input + label {\n",
       "  color: var(--xr-disabled-color);\n",
       "}\n",
       "\n",
       ".xr-section-item input:enabled + label {\n",
       "  cursor: pointer;\n",
       "  color: var(--xr-font-color2);\n",
       "}\n",
       "\n",
       ".xr-section-item input:enabled + label:hover {\n",
       "  color: var(--xr-font-color0);\n",
       "}\n",
       "\n",
       ".xr-section-summary {\n",
       "  grid-column: 1;\n",
       "  color: var(--xr-font-color2);\n",
       "  font-weight: 500;\n",
       "}\n",
       "\n",
       ".xr-section-summary > span {\n",
       "  display: inline-block;\n",
       "  padding-left: 0.5em;\n",
       "}\n",
       "\n",
       ".xr-section-summary-in:disabled + label {\n",
       "  color: var(--xr-font-color2);\n",
       "}\n",
       "\n",
       ".xr-section-summary-in + label:before {\n",
       "  display: inline-block;\n",
       "  content: '►';\n",
       "  font-size: 11px;\n",
       "  width: 15px;\n",
       "  text-align: center;\n",
       "}\n",
       "\n",
       ".xr-section-summary-in:disabled + label:before {\n",
       "  color: var(--xr-disabled-color);\n",
       "}\n",
       "\n",
       ".xr-section-summary-in:checked + label:before {\n",
       "  content: '▼';\n",
       "}\n",
       "\n",
       ".xr-section-summary-in:checked + label > span {\n",
       "  display: none;\n",
       "}\n",
       "\n",
       ".xr-section-summary,\n",
       ".xr-section-inline-details {\n",
       "  padding-top: 4px;\n",
       "  padding-bottom: 4px;\n",
       "}\n",
       "\n",
       ".xr-section-inline-details {\n",
       "  grid-column: 2 / -1;\n",
       "}\n",
       "\n",
       ".xr-section-details {\n",
       "  display: none;\n",
       "  grid-column: 1 / -1;\n",
       "  margin-bottom: 5px;\n",
       "}\n",
       "\n",
       ".xr-section-summary-in:checked ~ .xr-section-details {\n",
       "  display: contents;\n",
       "}\n",
       "\n",
       ".xr-array-wrap {\n",
       "  grid-column: 1 / -1;\n",
       "  display: grid;\n",
       "  grid-template-columns: 20px auto;\n",
       "}\n",
       "\n",
       ".xr-array-wrap > label {\n",
       "  grid-column: 1;\n",
       "  vertical-align: top;\n",
       "}\n",
       "\n",
       ".xr-preview {\n",
       "  color: var(--xr-font-color3);\n",
       "}\n",
       "\n",
       ".xr-array-preview,\n",
       ".xr-array-data {\n",
       "  padding: 0 5px !important;\n",
       "  grid-column: 2;\n",
       "}\n",
       "\n",
       ".xr-array-data,\n",
       ".xr-array-in:checked ~ .xr-array-preview {\n",
       "  display: none;\n",
       "}\n",
       "\n",
       ".xr-array-in:checked ~ .xr-array-data,\n",
       ".xr-array-preview {\n",
       "  display: inline-block;\n",
       "}\n",
       "\n",
       ".xr-dim-list {\n",
       "  display: inline-block !important;\n",
       "  list-style: none;\n",
       "  padding: 0 !important;\n",
       "  margin: 0;\n",
       "}\n",
       "\n",
       ".xr-dim-list li {\n",
       "  display: inline-block;\n",
       "  padding: 0;\n",
       "  margin: 0;\n",
       "}\n",
       "\n",
       ".xr-dim-list:before {\n",
       "  content: '(';\n",
       "}\n",
       "\n",
       ".xr-dim-list:after {\n",
       "  content: ')';\n",
       "}\n",
       "\n",
       ".xr-dim-list li:not(:last-child):after {\n",
       "  content: ',';\n",
       "  padding-right: 5px;\n",
       "}\n",
       "\n",
       ".xr-has-index {\n",
       "  font-weight: bold;\n",
       "}\n",
       "\n",
       ".xr-var-list,\n",
       ".xr-var-item {\n",
       "  display: contents;\n",
       "}\n",
       "\n",
       ".xr-var-item > div,\n",
       ".xr-var-item label,\n",
       ".xr-var-item > .xr-var-name span {\n",
       "  background-color: var(--xr-background-color-row-even);\n",
       "  margin-bottom: 0;\n",
       "}\n",
       "\n",
       ".xr-var-item > .xr-var-name:hover span {\n",
       "  padding-right: 5px;\n",
       "}\n",
       "\n",
       ".xr-var-list > li:nth-child(odd) > div,\n",
       ".xr-var-list > li:nth-child(odd) > label,\n",
       ".xr-var-list > li:nth-child(odd) > .xr-var-name span {\n",
       "  background-color: var(--xr-background-color-row-odd);\n",
       "}\n",
       "\n",
       ".xr-var-name {\n",
       "  grid-column: 1;\n",
       "}\n",
       "\n",
       ".xr-var-dims {\n",
       "  grid-column: 2;\n",
       "}\n",
       "\n",
       ".xr-var-dtype {\n",
       "  grid-column: 3;\n",
       "  text-align: right;\n",
       "  color: var(--xr-font-color2);\n",
       "}\n",
       "\n",
       ".xr-var-preview {\n",
       "  grid-column: 4;\n",
       "}\n",
       "\n",
       ".xr-index-preview {\n",
       "  grid-column: 2 / 5;\n",
       "  color: var(--xr-font-color2);\n",
       "}\n",
       "\n",
       ".xr-var-name,\n",
       ".xr-var-dims,\n",
       ".xr-var-dtype,\n",
       ".xr-preview,\n",
       ".xr-attrs dt {\n",
       "  white-space: nowrap;\n",
       "  overflow: hidden;\n",
       "  text-overflow: ellipsis;\n",
       "  padding-right: 10px;\n",
       "}\n",
       "\n",
       ".xr-var-name:hover,\n",
       ".xr-var-dims:hover,\n",
       ".xr-var-dtype:hover,\n",
       ".xr-attrs dt:hover {\n",
       "  overflow: visible;\n",
       "  width: auto;\n",
       "  z-index: 1;\n",
       "}\n",
       "\n",
       ".xr-var-attrs,\n",
       ".xr-var-data,\n",
       ".xr-index-data {\n",
       "  display: none;\n",
       "  background-color: var(--xr-background-color) !important;\n",
       "  padding-bottom: 5px !important;\n",
       "}\n",
       "\n",
       ".xr-var-attrs-in:checked ~ .xr-var-attrs,\n",
       ".xr-var-data-in:checked ~ .xr-var-data,\n",
       ".xr-index-data-in:checked ~ .xr-index-data {\n",
       "  display: block;\n",
       "}\n",
       "\n",
       ".xr-var-data > table {\n",
       "  float: right;\n",
       "}\n",
       "\n",
       ".xr-var-name span,\n",
       ".xr-var-data,\n",
       ".xr-index-name div,\n",
       ".xr-index-data,\n",
       ".xr-attrs {\n",
       "  padding-left: 25px !important;\n",
       "}\n",
       "\n",
       ".xr-attrs,\n",
       ".xr-var-attrs,\n",
       ".xr-var-data,\n",
       ".xr-index-data {\n",
       "  grid-column: 1 / -1;\n",
       "}\n",
       "\n",
       "dl.xr-attrs {\n",
       "  padding: 0;\n",
       "  margin: 0;\n",
       "  display: grid;\n",
       "  grid-template-columns: 125px auto;\n",
       "}\n",
       "\n",
       ".xr-attrs dt,\n",
       ".xr-attrs dd {\n",
       "  padding: 0;\n",
       "  margin: 0;\n",
       "  float: left;\n",
       "  padding-right: 10px;\n",
       "  width: auto;\n",
       "}\n",
       "\n",
       ".xr-attrs dt {\n",
       "  font-weight: normal;\n",
       "  grid-column: 1;\n",
       "}\n",
       "\n",
       ".xr-attrs dt:hover span {\n",
       "  display: inline-block;\n",
       "  background: var(--xr-background-color);\n",
       "  padding-right: 10px;\n",
       "}\n",
       "\n",
       ".xr-attrs dd {\n",
       "  grid-column: 2;\n",
       "  white-space: pre-wrap;\n",
       "  word-break: break-all;\n",
       "}\n",
       "\n",
       ".xr-icon-database,\n",
       ".xr-icon-file-text2,\n",
       ".xr-no-icon {\n",
       "  display: inline-block;\n",
       "  vertical-align: middle;\n",
       "  width: 1em;\n",
       "  height: 1.5em !important;\n",
       "  stroke-width: 0;\n",
       "  stroke: currentColor;\n",
       "  fill: currentColor;\n",
       "}\n",
       "</style><pre class='xr-text-repr-fallback'>&lt;xarray.Dataset&gt; Size: 40MB\n",
       "Dimensions:  (time: 265, lat: 97, lon: 193)\n",
       "Coordinates:\n",
       "  * time     (time) datetime64[ns] 2kB 2002-04-30 2002-05-31 ... 2024-04-30\n",
       "Dimensions without coordinates: lat, lon\n",
       "Data variables:\n",
       "    tws      (time, lat, lon) float64 40MB nan nan nan nan ... nan nan nan nan</pre><div class='xr-wrap' style='display:none'><div class='xr-header'><div class='xr-obj-type'>xarray.Dataset</div></div><ul class='xr-sections'><li class='xr-section-item'><input id='section-247f2f3c-8e9f-4636-9095-9ef04b7270c6' class='xr-section-summary-in' type='checkbox' disabled ><label for='section-247f2f3c-8e9f-4636-9095-9ef04b7270c6' class='xr-section-summary'  title='Expand/collapse section'>Dimensions:</label><div class='xr-section-inline-details'><ul class='xr-dim-list'><li><span class='xr-has-index'>time</span>: 265</li><li><span>lat</span>: 97</li><li><span>lon</span>: 193</li></ul></div><div class='xr-section-details'></div></li><li class='xr-section-item'><input id='section-618ee00b-496f-4781-aa0e-dfac76fdf494' class='xr-section-summary-in' type='checkbox'  checked><label for='section-618ee00b-496f-4781-aa0e-dfac76fdf494' class='xr-section-summary' >Coordinates: <span>(1)</span></label><div class='xr-section-inline-details'></div><div class='xr-section-details'><ul class='xr-var-list'><li class='xr-var-item'><div class='xr-var-name'><span class='xr-has-index'>time</span></div><div class='xr-var-dims'>(time)</div><div class='xr-var-dtype'>datetime64[ns]</div><div class='xr-var-preview xr-preview'>2002-04-30 ... 2024-04-30</div><input id='attrs-f542f99b-21a9-4c4a-8b06-8bd80cc10844' class='xr-var-attrs-in' type='checkbox' disabled><label for='attrs-f542f99b-21a9-4c4a-8b06-8bd80cc10844' title='Show/Hide attributes'><svg class='icon xr-icon-file-text2'><use xlink:href='#icon-file-text2'></use></svg></label><input id='data-7ad6d8f0-3e7b-4940-bdad-2dae9aa08c68' class='xr-var-data-in' type='checkbox'><label for='data-7ad6d8f0-3e7b-4940-bdad-2dae9aa08c68' title='Show/Hide data repr'><svg class='icon xr-icon-database'><use xlink:href='#icon-database'></use></svg></label><div class='xr-var-attrs'><dl class='xr-attrs'></dl></div><div class='xr-var-data'><pre>array([&#x27;2002-04-30T00:00:00.000000000&#x27;, &#x27;2002-05-31T00:00:00.000000000&#x27;,\n",
       "       &#x27;2002-06-30T00:00:00.000000000&#x27;, ..., &#x27;2024-02-29T00:00:00.000000000&#x27;,\n",
       "       &#x27;2024-03-31T00:00:00.000000000&#x27;, &#x27;2024-04-30T00:00:00.000000000&#x27;],\n",
       "      dtype=&#x27;datetime64[ns]&#x27;)</pre></div></li></ul></div></li><li class='xr-section-item'><input id='section-82377d81-ba3a-4a30-91fe-000e16a948a0' class='xr-section-summary-in' type='checkbox'  checked><label for='section-82377d81-ba3a-4a30-91fe-000e16a948a0' class='xr-section-summary' >Data variables: <span>(1)</span></label><div class='xr-section-inline-details'></div><div class='xr-section-details'><ul class='xr-var-list'><li class='xr-var-item'><div class='xr-var-name'><span>tws</span></div><div class='xr-var-dims'>(time, lat, lon)</div><div class='xr-var-dtype'>float64</div><div class='xr-var-preview xr-preview'>nan nan nan nan ... nan nan nan nan</div><input id='attrs-c5ea2fde-8340-4c1d-8ccc-b1415ac20ed0' class='xr-var-attrs-in' type='checkbox' disabled><label for='attrs-c5ea2fde-8340-4c1d-8ccc-b1415ac20ed0' title='Show/Hide attributes'><svg class='icon xr-icon-file-text2'><use xlink:href='#icon-file-text2'></use></svg></label><input id='data-6df4baed-3a66-4212-913d-f9fffcc6eae1' class='xr-var-data-in' type='checkbox'><label for='data-6df4baed-3a66-4212-913d-f9fffcc6eae1' title='Show/Hide data repr'><svg class='icon xr-icon-database'><use xlink:href='#icon-database'></use></svg></label><div class='xr-var-attrs'><dl class='xr-attrs'></dl></div><div class='xr-var-data'><pre>array([[[nan, nan, nan, ..., nan, nan, nan],\n",
       "        [nan, nan, nan, ..., nan, nan, nan],\n",
       "        [nan, nan, nan, ..., nan, nan, nan],\n",
       "        ...,\n",
       "        [nan, nan, nan, ..., nan, nan, nan],\n",
       "        [nan, nan, nan, ..., nan, nan, nan],\n",
       "        [nan, nan, nan, ..., nan, nan, nan]],\n",
       "\n",
       "       [[nan, nan, nan, ..., nan, nan, nan],\n",
       "        [nan, nan, nan, ..., nan, nan, nan],\n",
       "        [nan, nan, nan, ..., nan, nan, nan],\n",
       "        ...,\n",
       "        [nan, nan, nan, ..., nan, nan, nan],\n",
       "        [nan, nan, nan, ..., nan, nan, nan],\n",
       "        [nan, nan, nan, ..., nan, nan, nan]],\n",
       "\n",
       "       [[nan, nan, nan, ..., nan, nan, nan],\n",
       "        [nan, nan, nan, ..., nan, nan, nan],\n",
       "        [nan, nan, nan, ..., nan, nan, nan],\n",
       "        ...,\n",
       "...\n",
       "        ...,\n",
       "        [nan, nan, nan, ..., nan, nan, nan],\n",
       "        [nan, nan, nan, ..., nan, nan, nan],\n",
       "        [nan, nan, nan, ..., nan, nan, nan]],\n",
       "\n",
       "       [[nan, nan, nan, ..., nan, nan, nan],\n",
       "        [nan, nan, nan, ..., nan, nan, nan],\n",
       "        [nan, nan, nan, ..., nan, nan, nan],\n",
       "        ...,\n",
       "        [nan, nan, nan, ..., nan, nan, nan],\n",
       "        [nan, nan, nan, ..., nan, nan, nan],\n",
       "        [nan, nan, nan, ..., nan, nan, nan]],\n",
       "\n",
       "       [[nan, nan, nan, ..., nan, nan, nan],\n",
       "        [nan, nan, nan, ..., nan, nan, nan],\n",
       "        [nan, nan, nan, ..., nan, nan, nan],\n",
       "        ...,\n",
       "        [nan, nan, nan, ..., nan, nan, nan],\n",
       "        [nan, nan, nan, ..., nan, nan, nan],\n",
       "        [nan, nan, nan, ..., nan, nan, nan]]])</pre></div></li></ul></div></li><li class='xr-section-item'><input id='section-c8f03d13-cf65-49dd-9bc7-7a95fb6127b8' class='xr-section-summary-in' type='checkbox'  ><label for='section-c8f03d13-cf65-49dd-9bc7-7a95fb6127b8' class='xr-section-summary' >Indexes: <span>(1)</span></label><div class='xr-section-inline-details'></div><div class='xr-section-details'><ul class='xr-var-list'><li class='xr-var-item'><div class='xr-index-name'><div>time</div></div><div class='xr-index-preview'>PandasIndex</div><div></div><input id='index-4da38b09-0ef2-45e3-9c77-31cfb00181ae' class='xr-index-data-in' type='checkbox'/><label for='index-4da38b09-0ef2-45e3-9c77-31cfb00181ae' title='Show/Hide index repr'><svg class='icon xr-icon-database'><use xlink:href='#icon-database'></use></svg></label><div class='xr-index-data'><pre>PandasIndex(DatetimeIndex([&#x27;2002-04-30&#x27;, &#x27;2002-05-31&#x27;, &#x27;2002-06-30&#x27;, &#x27;2002-07-31&#x27;,\n",
       "               &#x27;2002-08-31&#x27;, &#x27;2002-09-30&#x27;, &#x27;2002-10-31&#x27;, &#x27;2002-11-30&#x27;,\n",
       "               &#x27;2002-12-31&#x27;, &#x27;2003-01-31&#x27;,\n",
       "               ...\n",
       "               &#x27;2023-07-31&#x27;, &#x27;2023-08-31&#x27;, &#x27;2023-09-30&#x27;, &#x27;2023-10-31&#x27;,\n",
       "               &#x27;2023-11-30&#x27;, &#x27;2023-12-31&#x27;, &#x27;2024-01-31&#x27;, &#x27;2024-02-29&#x27;,\n",
       "               &#x27;2024-03-31&#x27;, &#x27;2024-04-30&#x27;],\n",
       "              dtype=&#x27;datetime64[ns]&#x27;, name=&#x27;time&#x27;, length=265, freq=&#x27;ME&#x27;))</pre></div></li></ul></div></li><li class='xr-section-item'><input id='section-35fbac0d-11ee-4012-8e18-9ecfb34755d3' class='xr-section-summary-in' type='checkbox' disabled ><label for='section-35fbac0d-11ee-4012-8e18-9ecfb34755d3' class='xr-section-summary'  title='Expand/collapse section'>Attributes: <span>(0)</span></label><div class='xr-section-inline-details'></div><div class='xr-section-details'><dl class='xr-attrs'></dl></div></li></ul></div></div>"
      ],
      "text/plain": [
       "<xarray.Dataset> Size: 40MB\n",
       "Dimensions:  (time: 265, lat: 97, lon: 193)\n",
       "Coordinates:\n",
       "  * time     (time) datetime64[ns] 2kB 2002-04-30 2002-05-31 ... 2024-04-30\n",
       "Dimensions without coordinates: lat, lon\n",
       "Data variables:\n",
       "    tws      (time, lat, lon) float64 40MB nan nan nan nan ... nan nan nan nan"
      ]
     },
     "execution_count": 21,
     "metadata": {},
     "output_type": "execute_result"
    }
   ],
   "source": [
    "ds_gapped = xr.Dataset(\n",
    "        data_vars = dict(   tws=([\"time\",\"lat\", \"lon\"], np.nan*np.ones([265, 97, 193]))),\n",
    "        coords=dict(time=new_dates),)\n",
    "ds_gapped"
   ]
  },
  {
   "cell_type": "code",
   "execution_count": 22,
   "metadata": {},
   "outputs": [
    {
     "data": {
      "text/plain": [
       "(226, 97, 193)"
      ]
     },
     "execution_count": 22,
     "metadata": {},
     "output_type": "execute_result"
    }
   ],
   "source": [
    "delta_sc.shape"
   ]
  },
  {
   "cell_type": "code",
   "execution_count": 23,
   "metadata": {},
   "outputs": [],
   "source": [
    "ds_gapped['tws'] = ds['tws'].where(     ds['time'].isin(ds_gapped['time']),     )"
   ]
  },
  {
   "cell_type": "code",
   "execution_count": 24,
   "metadata": {},
   "outputs": [
    {
     "data": {
      "text/plain": [
       "array([[[ 0.00000000e+00,  0.00000000e+00,  0.00000000e+00, ...,\n",
       "          0.00000000e+00,  0.00000000e+00,  0.00000000e+00],\n",
       "        [ 0.00000000e+00,  0.00000000e+00,  0.00000000e+00, ...,\n",
       "          0.00000000e+00,  0.00000000e+00,  0.00000000e+00],\n",
       "        [ 0.00000000e+00,  0.00000000e+00,  0.00000000e+00, ...,\n",
       "          0.00000000e+00,  0.00000000e+00,  0.00000000e+00],\n",
       "        ...,\n",
       "        [ 0.00000000e+00,  0.00000000e+00,  3.76357716e-11, ...,\n",
       "         -1.37146773e-11,  0.00000000e+00,  0.00000000e+00],\n",
       "        [ 0.00000000e+00,  1.04456394e-12, -1.77108058e-12, ...,\n",
       "         -3.62566789e-12,  3.44002738e-12,  0.00000000e+00],\n",
       "        [ 1.05386628e-11, -3.16173783e-12, -8.06161972e-11, ...,\n",
       "          4.15646362e-11, -2.64754878e-12,  5.52852280e-12]],\n",
       "\n",
       "       [[ 0.00000000e+00,  0.00000000e+00,  0.00000000e+00, ...,\n",
       "          0.00000000e+00,  0.00000000e+00,  0.00000000e+00],\n",
       "        [ 0.00000000e+00,  0.00000000e+00,  0.00000000e+00, ...,\n",
       "          0.00000000e+00,  0.00000000e+00,  0.00000000e+00],\n",
       "        [ 0.00000000e+00,  0.00000000e+00,  0.00000000e+00, ...,\n",
       "          0.00000000e+00,  0.00000000e+00,  0.00000000e+00],\n",
       "        ...,\n",
       "        [ 0.00000000e+00,  0.00000000e+00, -2.37176648e-11, ...,\n",
       "          4.26065828e-11,  0.00000000e+00,  0.00000000e+00],\n",
       "        [ 0.00000000e+00, -5.72164871e-12,  4.07640886e-12, ...,\n",
       "          1.78200034e-11, -4.41466350e-12,  0.00000000e+00],\n",
       "        [ 5.25103132e-12,  2.81894451e-11,  7.57353352e-11, ...,\n",
       "         -1.19923118e-10,  9.05167742e-12,  4.23370149e-12]],\n",
       "\n",
       "       [[            nan,             nan,             nan, ...,\n",
       "                     nan,             nan,             nan],\n",
       "        [            nan,             nan,             nan, ...,\n",
       "                     nan,             nan,             nan],\n",
       "        [            nan,             nan,             nan, ...,\n",
       "                     nan,             nan,             nan],\n",
       "        ...,\n",
       "        [            nan,             nan,             nan, ...,\n",
       "                     nan,             nan,             nan],\n",
       "        [            nan,             nan,             nan, ...,\n",
       "                     nan,             nan,             nan],\n",
       "        [            nan,             nan,             nan, ...,\n",
       "                     nan,             nan,             nan]],\n",
       "\n",
       "       ...,\n",
       "\n",
       "       [[ 0.00000000e+00,  0.00000000e+00,  0.00000000e+00, ...,\n",
       "          0.00000000e+00,  0.00000000e+00,  0.00000000e+00],\n",
       "        [ 0.00000000e+00,  0.00000000e+00,  0.00000000e+00, ...,\n",
       "          0.00000000e+00,  0.00000000e+00,  0.00000000e+00],\n",
       "        [ 0.00000000e+00,  0.00000000e+00,  0.00000000e+00, ...,\n",
       "          0.00000000e+00,  0.00000000e+00,  0.00000000e+00],\n",
       "        ...,\n",
       "        [ 0.00000000e+00,  0.00000000e+00, -1.66685622e-11, ...,\n",
       "          3.07662148e-11,  0.00000000e+00,  0.00000000e+00],\n",
       "        [ 0.00000000e+00,  1.56499747e-13,  1.31190259e-10, ...,\n",
       "          6.32576973e-11,  2.04169020e-11,  0.00000000e+00],\n",
       "        [ 1.76466847e-11,  2.39483303e-11,  5.40139301e-11, ...,\n",
       "         -5.61133272e-11, -6.83058299e-11,  1.86956694e-11]],\n",
       "\n",
       "       [[ 0.00000000e+00,  0.00000000e+00,  0.00000000e+00, ...,\n",
       "          0.00000000e+00,  0.00000000e+00,  0.00000000e+00],\n",
       "        [ 0.00000000e+00,  0.00000000e+00,  0.00000000e+00, ...,\n",
       "          0.00000000e+00,  0.00000000e+00,  0.00000000e+00],\n",
       "        [ 0.00000000e+00,  0.00000000e+00,  0.00000000e+00, ...,\n",
       "          0.00000000e+00,  0.00000000e+00,  0.00000000e+00],\n",
       "        ...,\n",
       "        [ 0.00000000e+00,  0.00000000e+00,  2.18574982e-11, ...,\n",
       "          1.45171321e-11,  0.00000000e+00,  0.00000000e+00],\n",
       "        [ 0.00000000e+00,  1.16315924e-11,  1.24273516e-10, ...,\n",
       "          9.56111838e-11,  6.04123762e-12,  0.00000000e+00],\n",
       "        [-8.17766590e-12,  2.44808032e-11, -4.40854766e-11, ...,\n",
       "         -2.76781590e-11, -5.66087232e-11,  1.44417438e-11]],\n",
       "\n",
       "       [[ 0.00000000e+00,  0.00000000e+00,  0.00000000e+00, ...,\n",
       "          0.00000000e+00,  0.00000000e+00,  0.00000000e+00],\n",
       "        [ 0.00000000e+00,  0.00000000e+00,  0.00000000e+00, ...,\n",
       "          0.00000000e+00,  0.00000000e+00,  0.00000000e+00],\n",
       "        [ 0.00000000e+00,  0.00000000e+00,  0.00000000e+00, ...,\n",
       "          0.00000000e+00,  0.00000000e+00,  0.00000000e+00],\n",
       "        ...,\n",
       "        [ 0.00000000e+00,  0.00000000e+00,  6.52351335e-12, ...,\n",
       "          1.79374801e-11,  0.00000000e+00,  0.00000000e+00],\n",
       "        [ 0.00000000e+00,  1.38238701e-11,  1.64836026e-10, ...,\n",
       "          9.84850258e-11,  9.87067660e-13,  0.00000000e+00],\n",
       "        [ 3.19864492e-12,  2.83638906e-11,  2.11905323e-11, ...,\n",
       "          7.16130773e-12, -7.50992687e-11,  1.38654075e-11]]],\n",
       "      dtype=float64)"
      ]
     },
     "execution_count": 24,
     "metadata": {},
     "output_type": "execute_result"
    }
   ],
   "source": [
    "ds_gapped['tws'].values"
   ]
  },
  {
   "cell_type": "code",
   "execution_count": 31,
   "metadata": {},
   "outputs": [],
   "source": [
    "from scipy.io import savemat\n",
    "savemat('/Users/vivek/Downloads/del_scmat_04_2002_04_2024.mat', {'del_sc_mat': ds_gapped['tws'].values})"
   ]
  },
  {
   "cell_type": "markdown",
   "metadata": {},
   "source": [
    "#### B2. $L_{max}$, Gaussian half radius and grid resolution"
   ]
  },
  {
   "cell_type": "markdown",
   "metadata": {},
   "source": [
    "* $L_{max}$\n",
    "   \n",
    "  Now we choose the truncation limit of the spherical harmonics expansion.\n",
    "  \n",
    "  Know that the upper limit of this expansion is the maximum degree coefficient present in your data. \n",
    "  Thus the highest limit can be $l_{max}$. The higher the limit of truncation, the higher the spatial resolution of the solutions, the trade-off being increasing levels of noise."
   ]
  },
  {
   "cell_type": "markdown",
   "metadata": {},
   "source": [
    "* Gaussian half radius\n",
    "\n",
    "  Since the GRACE spherical harmonics coefficients are extremely nosiy, certain levels of filtering are required to reduce the same.\n",
    "\n",
    "  The simplest form of filtering is applying a Gaussian filter. More advance methods of filtering do exist such as `etc` as well as dynamic filters such as DDK, DDK5.\n",
    "\n",
    "  We provide Gaussian filtering, the filter can be imagined as a symmetrical hat moving (convolution) over the surface of the sphere (Earth in our case), weighting the values under it. The extent of surrounding weighting is decided by the radius of the filter. The values can be calculated using the `Gaussian()` function. The function takes in the maximum degree to which the filterhas to be created for, and the radius of the Gaussian function. Since a Gaussian function is a symmterical function, the function only returns only one half of the values. This can be seen below in the plot."
   ]
  },
  {
   "cell_type": "code",
   "execution_count": null,
   "metadata": {},
   "outputs": [],
   "source": [
    "from pyshbundle.shutils import Gaussian\n",
    "import matplotlib.pyplot as plt"
   ]
  },
  {
   "cell_type": "code",
   "execution_count": null,
   "metadata": {},
   "outputs": [],
   "source": [
    "temp=Gaussian(L=40, cap=500);\n",
    "plt.plot(temp)"
   ]
  },
  {
   "cell_type": "markdown",
   "metadata": {},
   "source": [
    "* Grid resolution\n",
    "  \n",
    "  The resolution of the gridded TWSA fields to which the global spherical harmonics synthesis (`GSHS`) applies is needed to be decided by the user. Depending on their use, they may choose any positive integer for the grid size.\n",
    "\n",
    "  Users should take note that choosing a finer grid size does not mean a higher spatial resolution of the data since that is mathematically contrained by the limit of truncation ($L_{max}$) of the spherical harmoics function (as mentioned above)"
   ]
  },
  {
   "cell_type": "code",
   "execution_count": null,
   "metadata": {},
   "outputs": [],
   "source": [
    "# print('Kindly enter the following parameters based on your application')\n",
    "# lmax = int(input(\"Enter lmax: \"))\n",
    "# gs = int(input(\"Enter grid size: \"))\n",
    "# half_rad_gf = int(input(\"Enter half radius of Gaussian filter: \"))\n",
    "# print(\"lmax , grid size & half raduius of gaussian filter are : \", lmax ,\", \" , gs,\", \",half_rad_gf)\n",
    "lmax,gs,half_rad_gf=96, 1, 500"
   ]
  },
  {
   "cell_type": "markdown",
   "metadata": {},
   "source": [
    "#### B3. Global spherical harmonics synthesis to get gridded global TWSA data.\n",
    "\n",
    "Now that we have decided the choices of processing, we shall now do the actual processing.\n",
    "\n",
    "The `TWSCalc` function does thre things:\n",
    "* Calls the `Gaussian` function to generate the filtering values.\n",
    "* Applies the gaussian filter on the `delta_SC` matrix.\n",
    "* Converts the filtered `delta_SC` matrix to gridded global TWSA field using the `GSHS` function."
   ]
  },
  {
   "cell_type": "code",
   "execution_count": null,
   "metadata": {},
   "outputs": [],
   "source": [
    "%%time\n",
    "tws_fields = TWSCalc(delta_sc,lmax, gs,half_rad_gf, number_of_months)"
   ]
  },
  {
   "cell_type": "markdown",
   "metadata": {},
   "source": [
    "The precision required for the calculations uptill now was of very high order, since the coefficients are of order `1e-12`, with all digits significant. But now we can reduce the precision since the generated TWSA values are of much higher order and lesser singificant digits after (3) decimal. This reduces the size of the dataset and saves system memory."
   ]
  },
  {
   "cell_type": "code",
   "execution_count": null,
   "metadata": {},
   "outputs": [],
   "source": [
    "tws_fields = np.float32(tws_fields)"
   ]
  },
  {
   "cell_type": "markdown",
   "metadata": {},
   "source": [
    "#### B4. Creating a netcdf dataset\n",
    "\n",
    "Netcdf is a popular format for sharing climate & hydrological data, let us create a netcdf dataset of our gridded results for easier analysis and sharing.\n",
    "\n",
    "A global gridded netcdf file needs three coordinates, latitude, longitude and time for the data. We can create the latitude and longitude coordinates using the grid size (`gs`) decided above. The time information can be extracted from the keys of the `sorted_data` dictioanry. "
   ]
  },
  {
   "cell_type": "code",
   "execution_count": null,
   "metadata": {},
   "outputs": [],
   "source": [
    "lon = np.arange(-180,180,gs)\n",
    "lat = np.arange(89,-91,-gs)\n",
    "dates = pd.to_datetime(list(sorted_data.keys()), format='%Y-%m',) \\\n",
    "            + pd.offsets.MonthEnd(0)  #.dt.strftime('%d-%m-%Y')\n",
    "\n",
    "ds = xr.Dataset(\n",
    "    data_vars=dict(\n",
    "        tws=([\"time\",\"lat\", \"lon\"], tws_fields, {\"units\": \"mm\"})\n",
    "    ),\n",
    "    coords = {\n",
    "        # \"time\":(('time'),dates),\n",
    "        \"time\":dates,\n",
    "        \"lat\":lat,\n",
    "        \"lon\":lon },\n",
    "    attrs=dict(description=\"Global gridded TWS Anomaly corresponding to long term (2004-2010) mean\", \n",
    "               units=\"mm\"),\n",
    ")\n",
    "ds"
   ]
  },
  {
   "cell_type": "code",
   "execution_count": null,
   "metadata": {},
   "outputs": [],
   "source": [
    "ds['tws'].isel(time=-1).plot(figsize=(8, 4))"
   ]
  },
  {
   "cell_type": "markdown",
   "metadata": {},
   "source": [
    "## **C**. Clipping TWSA for a particular basin and calculating basin average TWSA time series.\n",
    "#### (Additional)"
   ]
  },
  {
   "cell_type": "markdown",
   "metadata": {},
   "source": [
    "For basin-scale analysis such as closing the water budget.\n",
    "\n",
    "$$\n",
    "\\frac{dS_t}{dt} = P + R +ET\n",
    "$$\n",
    "\n",
    "One needs to calculate the change in storage over the entire basin. This can be done by clipping the above global dataset within the region of interest (typically a basin or area shapefile).\n",
    "\n",
    "Below we use commonly used python packages shapely, gepopandas and rioxarray to clip data from a shapefile for the Ganges basin."
   ]
  },
  {
   "cell_type": "markdown",
   "metadata": {},
   "source": [
    "#### C1. Selection of basin or shapefile in region of interest"
   ]
  },
  {
   "cell_type": "code",
   "execution_count": null,
   "metadata": {},
   "outputs": [],
   "source": [
    "import geopandas as gpd\n",
    "import matplotlib.pyplot as plt"
   ]
  },
  {
   "cell_type": "markdown",
   "metadata": {},
   "source": [
    "* The pyshbundle includes the shapefiles from of the major river basins across the world, obtained from the **HydroBASINS** project `mrb` (major river basins).\n",
    "\n",
    "* Note that user may find their basin of analysis from the `mrb` as shown below or load their own shapefile and save it in the `shp_basin` variable and its area in the `basin_area` variable"
   ]
  },
  {
   "cell_type": "code",
   "execution_count": null,
   "metadata": {},
   "outputs": [],
   "source": [
    "path_shapefile = '/Users/vivek/Desktop/vivek_desktop/mrb_shp_zip/mrb_basins.shp'\n",
    "shp = gpd.read_file(path_shapefile)\n",
    "shp.plot(figsize=(8, 4))  "
   ]
  },
  {
   "cell_type": "code",
   "execution_count": null,
   "metadata": {},
   "outputs": [],
   "source": [
    "shp"
   ]
  },
  {
   "cell_type": "markdown",
   "metadata": {},
   "source": [
    "* Find your basin from the `shp` geodataframe. \n",
    "  \n",
    "  My choice of basin is Ganga basin in the Asian subcontinent.\n",
    "\n",
    "  I subset the large `shp` geodataframe for the 'Asia' continet and inspect the `temp` variable for the Ganga basin, note that sometimes there maybe difference in the spelling of a certain basin's name. Which is the case with the Ganga basin being spelled as \"GANGES\"."
   ]
  },
  {
   "cell_type": "code",
   "execution_count": null,
   "metadata": {},
   "outputs": [],
   "source": [
    "temp=shp['RIVER_BASI'].where(shp['CONTINENT']=='Asia').dropna()\n",
    "print(temp)\n",
    "del temp"
   ]
  },
  {
   "cell_type": "code",
   "execution_count": null,
   "metadata": {},
   "outputs": [],
   "source": [
    "basin_name='GANGES'"
   ]
  },
  {
   "cell_type": "markdown",
   "metadata": {},
   "source": [
    "* Now we will extract the shapefile of the basin selected above"
   ]
  },
  {
   "cell_type": "code",
   "execution_count": null,
   "metadata": {},
   "outputs": [],
   "source": [
    "shp_basin=shp[shp['RIVER_BASI']==basin_name]\n",
    "print(shp_basin.head(), '\\n')\n",
    "shp_basin.plot()\n",
    "basin_area=np.float64(shp_basin['SUM_SUB_AR'].values[0])*1e6          # basin area already in m^2\n",
    "print('Basin area is :', basin_area, 'm\\u00b2');"
   ]
  },
  {
   "cell_type": "markdown",
   "metadata": {},
   "source": [
    "#### C2. Area weighting\n",
    "\n",
    "* Before clipping the data inside the shapefile, the dataset has to be area weighted according to the area of the grid cell. This is due to Earth's spherical shape and size of grids reduces as one moves from the equator towards the poles. This becomes pertinent if the region of interest is spread across several latitudes.\n",
    "\n",
    "* Thus we area weight our dataset by multiplying the area of each grid with the corresponding grid value. Then we take an average over that area by summing up the values inside the shapefile and dividing by the area of the shapefile (`basin_area`).\n",
    "\n",
    "* `area_weighting` function generates a matrix with area of each grid at each latitude and longitude box. Once again we use the `gs` variable to create the global area matrix. The plot below shows how the area decreases from the equator to the poles."
   ]
  },
  {
   "cell_type": "code",
   "execution_count": null,
   "metadata": {},
   "outputs": [],
   "source": [
    "from pyshbundle.hydro import area_weighting\n",
    "\n",
    "temp = area_weighting(gs)\n",
    "lons, lats = np.meshgrid(np.linspace(-180, 180, temp.shape[1]), np.linspace(-90, 90, temp.shape[0]))\n",
    "\n",
    "fig, ax = plt.subplots(figsize=(8, 4), subplot_kw={'projection': ccrs.Orthographic()})\n",
    "cax = ax.pcolormesh(lons, lats, temp, cmap='viridis', transform=ccrs.PlateCarree())\n",
    "\n",
    "# Add a colorbar with a label for clarity\n",
    "cbar = fig.colorbar(cax, ax=ax, orientation='vertical', pad=0.07)\n",
    "cbar.set_label('Area ($m^2$)', rotation=270, labelpad=15, fontsize=10)\n",
    "\n",
    "ax.set_ylabel('Latitude', fontsize=10)\n",
    "ax.set_xlabel('Longitude', fontsize=10)\n",
    "ax.gridlines(draw_labels=True)\n",
    "plt.title('Global Area Matrix Showing Area of Each Grid Cell in $m^2$', fontsize=11, pad=20)\n",
    "plt.show()\n",
    "plt.tight_layout()"
   ]
  },
  {
   "cell_type": "markdown",
   "metadata": {},
   "source": [
    "* Clip data using shapefile"
   ]
  },
  {
   "cell_type": "code",
   "execution_count": null,
   "metadata": {},
   "outputs": [],
   "source": [
    "from pyshbundle.hydro import Basinaverage\n",
    "basin_tws, basin_avg_tws = Basinaverage(ds, gs, shp_basin, basin_area)"
   ]
  },
  {
   "cell_type": "code",
   "execution_count": null,
   "metadata": {},
   "outputs": [],
   "source": [
    "basin_avg_tws"
   ]
  },
  {
   "cell_type": "code",
   "execution_count": null,
   "metadata": {},
   "outputs": [],
   "source": [
    "fig = plt.figure(figsize=(10, 4))\n",
    "basin_avg_tws['tws'].plot()\n",
    "plt.grid(alpha=0.3)\n",
    "fig.suptitle(f'TWSA for basin: {basin_name}', fontsize=11)\n",
    "fig.tight_layout()"
   ]
  },
  {
   "cell_type": "markdown",
   "metadata": {},
   "source": [
    "#### C4. Adding gaps in the data\n",
    "\n",
    "The dataset we have created does not yet have the gaps in the time series."
   ]
  },
  {
   "cell_type": "markdown",
   "metadata": {},
   "source": [
    "#### C.4.1. First lets create a gapped dataset with NaN values. We will then fill the data that we have and leave the gaps as NaN"
   ]
  },
  {
   "cell_type": "markdown",
   "metadata": {},
   "source": [
    "* Create a new time index with monthly frequency for the gapped data"
   ]
  },
  {
   "cell_type": "code",
   "execution_count": null,
   "metadata": {},
   "outputs": [],
   "source": [
    "new_dates=pd.date_range(start=basin_avg_tws.time[0].values, \n",
    "                        end=basin_avg_tws.time[-1].values, freq='ME',)\n",
    "new_dates"
   ]
  },
  {
   "cell_type": "markdown",
   "metadata": {},
   "source": [
    "* Initializing an empty dataset for the gapped dataset, `basin_avg_tws_gapped`. "
   ]
  },
  {
   "cell_type": "code",
   "execution_count": null,
   "metadata": {},
   "outputs": [],
   "source": [
    "basin_avg_tws_gapped = xr.Dataset(\n",
    "        data_vars = dict(   tws=([\"time\"], np.nan*np.arange(len(new_dates)))),\n",
    "        coords=dict(time=new_dates),)\n",
    "basin_avg_tws_gapped"
   ]
  },
  {
   "cell_type": "markdown",
   "metadata": {},
   "source": [
    "#### C.4.2. Now fill the data for the months where data is available"
   ]
  },
  {
   "cell_type": "markdown",
   "metadata": {},
   "source": [
    "* We can use the `.isin()` method to check if the time values in `basin_avg_tws` are present in `basin_avg_tws_gapped`"
   ]
  },
  {
   "cell_type": "code",
   "execution_count": null,
   "metadata": {},
   "outputs": [],
   "source": [
    "basin_avg_tws_gapped['time'].isin(basin_avg_tws['time'])  # shows where indices where the dates match"
   ]
  },
  {
   "cell_type": "markdown",
   "metadata": {},
   "source": [
    "This can used to fill the values in the gapped dataset (`basin_avg_tws_gapped`) that was intialized for the dates where the data is available (`basin_avg_tws`)"
   ]
  },
  {
   "cell_type": "code",
   "execution_count": null,
   "metadata": {},
   "outputs": [],
   "source": [
    "basin_avg_tws_gapped['tws'] = basin_avg_tws['tws'].where(\n",
    "    basin_avg_tws['time'].isin(basin_avg_tws_gapped['time']),)"
   ]
  },
  {
   "cell_type": "code",
   "execution_count": null,
   "metadata": {},
   "outputs": [],
   "source": [
    "basin_avg_tws_gapped"
   ]
  },
  {
   "cell_type": "markdown",
   "metadata": {},
   "source": [
    "#### 3. Lets see how the data looks now"
   ]
  },
  {
   "cell_type": "code",
   "execution_count": null,
   "metadata": {},
   "outputs": [],
   "source": [
    "fig = plt.figure(figsize=(10, 4))\n",
    "basin_avg_tws['tws'].plot()\n",
    "basin_avg_tws_gapped['tws'].plot()\n",
    "plt.grid(alpha=0.3)\n",
    "plt.legend(['Original', 'Gapped'])\n",
    "plt.suptitle(f'GRACE TWSA anomaly in {basin_name} (with gaps)')\n",
    "plt.show()"
   ]
  },
  {
   "cell_type": "markdown",
   "metadata": {},
   "source": [
    "* Same can be done quickly with the original dataset `ds`."
   ]
  },
  {
   "cell_type": "code",
   "execution_count": null,
   "metadata": {},
   "outputs": [],
   "source": [
    "# Creating an empty gapped dataset\n",
    "ds_gapped = xr.Dataset(\n",
    "    data_vars=dict(\n",
    "        tws=([\"time\",\"lat\", \"lon\"], np.nan * np.ones(   [len(new_dates), len(lat), len(lon)]   )     )  ),\n",
    "    coords = {\n",
    "        \"time\":new_dates,\n",
    "        \"lat\":lat,\n",
    "        \"lon\":lon },\n",
    "    attrs=dict(description=\"TWS Anomaly corresponding to long term (2004-2010) mean \\n \\\n",
    "               data contains missing values for the months where GRACE data is unavailable\"),    )\n",
    "\n",
    "# Filling the gaps where data is available\n",
    "ds_gapped['tws'] = ds['tws'].where(     ds['time'].isin(ds_gapped['time']),     )"
   ]
  },
  {
   "cell_type": "code",
   "execution_count": null,
   "metadata": {},
   "outputs": [],
   "source": [
    "ds_gapped"
   ]
  },
  {
   "cell_type": "markdown",
   "metadata": {},
   "source": [
    "* Lets have a glance at the complete dataset now"
   ]
  },
  {
   "cell_type": "code",
   "execution_count": null,
   "metadata": {},
   "outputs": [],
   "source": [
    "fig, ax = plt.subplots(nrows=(ds_gapped['time'].shape[0]//10+1), ncols=10, figsize=(10, 20))\n",
    "ax_flat = ax.flatten()\n",
    "for timeindex, index in enumerate(ds_gapped.time.values):\n",
    "    ax_flat[timeindex].imshow(ds_gapped['tws'].sel(time=index), cmap='RdBu_r', vmin=-200, vmax=300)\n",
    "    ax_flat[timeindex].set_title(ds_gapped['time'].isel(time=timeindex).dt.strftime('%Y-%m').values)\n",
    "    ax_flat[timeindex].axis('off')\n",
    "plt.tight_layout()\n",
    "plt.show()"
   ]
  },
  {
   "cell_type": "code",
   "execution_count": null,
   "metadata": {},
   "outputs": [],
   "source": [
    "# ds.to_netcdf('../pyshbundle/validation_data/tws_py.nc')\n",
    "# delta_sc.shape\n",
    "# import scipy\n",
    "\n",
    "# scipy.io.savemat('../pyshbundle/delta_sc.mat', {'delta_sc': delta_sc})"
   ]
  },
  {
   "cell_type": "markdown",
   "metadata": {},
   "source": [
    "* Want to save the data?"
   ]
  },
  {
   "cell_type": "code",
   "execution_count": null,
   "metadata": {},
   "outputs": [],
   "source": [
    "# Path to save the gridded data\n",
    "save_path_gridded = ''\n",
    "# Path to save the basin data\n",
    "save_path_basin = ''"
   ]
  },
  {
   "cell_type": "code",
   "execution_count": null,
   "metadata": {},
   "outputs": [],
   "source": [
    "# ds_gapped.to_netcdf(f'{save_path_gridded}')\n",
    "# basin_avg_tws_gapped.to_pandas().to_csv(f'{save_path_basin}', sep=',',)"
   ]
  },
  {
   "cell_type": "markdown",
   "metadata": {},
   "source": [
    "#### Thank you for reading!"
   ]
  },
  {
   "cell_type": "markdown",
   "metadata": {},
   "source": []
  }
 ],
 "metadata": {
  "kernelspec": {
   "display_name": "pyshbundle",
   "language": "python",
   "name": "python3"
  },
  "language_info": {
   "codemirror_mode": {
    "name": "ipython",
    "version": 3
   },
   "file_extension": ".py",
   "mimetype": "text/x-python",
   "name": "python",
   "nbconvert_exporter": "python",
   "pygments_lexer": "ipython3",
   "version": "3.12.4"
  }
 },
 "nbformat": 4,
 "nbformat_minor": 2
}
