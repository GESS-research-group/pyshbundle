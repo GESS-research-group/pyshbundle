{
 "cells": [
  {
   "cell_type": "markdown",
   "metadata": {},
   "source": [
    "# ITSG Bug"
   ]
  },
  {
   "cell_type": "code",
   "execution_count": null,
   "metadata": {},
   "outputs": [],
   "source": [
    "import os\n",
    "os.chdir('/media/abhishek/DATA/pyshbundle/')\n",
    "\n",
    "import pyshbundle\n",
    "from tqdm import trange\n",
    "from datetime import datetime\n",
    "\n",
    "from pyshbundle.new_io import read_jpl, read_csr, read_tn13, read_tn14, extract_C10_11_replcmnt_coeff, cklm2sc_new\n",
    "from pyshbundle.new_io import extract_C20_replcmnt_coeff, extract_C30_replcmnt_coeff, replace_zonal_coeff, find_date_in_replacemnt_file\n",
    "from pyshbundle.new_io import read_itsg\n",
    "\n",
    "import numpy as np\n",
    "import matplotlib.pyplot as plt"
   ]
  },
  {
   "cell_type": "code",
   "execution_count": null,
   "metadata": {},
   "outputs": [],
   "source": [
    "import pyshbundle.reader_replacer_jpl\n",
    "import pyshbundle.reader_replacer_csr\n",
    "import pyshbundle.reader_replacer_itsg\n",
    "\n",
    "from pyshbundle import gshs\n",
    "from pyshbundle import clm2sc"
   ]
  },
  {
   "cell_type": "code",
   "execution_count": null,
   "metadata": {},
   "outputs": [],
   "source": [
    "def last_4chars(x):\n",
    "        #print(x[-39:-32])\n",
    "        return(x[-11:-4])"
   ]
  },
  {
   "cell_type": "code",
   "execution_count": null,
   "metadata": {},
   "outputs": [],
   "source": [
    "def clm2sc_new2(data_mat, lmax):\n",
    "    sc_mat = np.zeros((lmax+1, 2*lmax + 2))\n",
    "    dev_sc_mat = np.zeros((lmax+1, 2*lmax + 2))\n",
    "    clm = data_mat[:, 2]\n",
    "    slm = data_mat[:, 3]\n",
    "    clm_std_dev = data_mat[:, 4]\n",
    "    slm_std_dev = data_mat[:, 5]\n",
    "\n",
    "    i = 0\n",
    "    for index1 in range(0,lmax+1, 1):\n",
    "        for index2 in range(0,index1+1, 1):\n",
    "            \n",
    "            sc_mat[index1, lmax-index2] = slm[i]\n",
    "            sc_mat[index1, lmax+index2+1] = clm[i]\n",
    "\n",
    "            dev_sc_mat[index1, lmax-index2] = slm_std_dev[i]\n",
    "            dev_sc_mat[index1, lmax+index2+1] = clm_std_dev[i]\n",
    "\n",
    "            i = i + 1\n",
    "    \n",
    "    sc_mat = np.delete(sc_mat, lmax, 1)\n",
    "    dev_sc_mat = np.delete(dev_sc_mat, lmax, 1)\n",
    "    return sc_mat, dev_sc_mat"
   ]
  },
  {
   "cell_type": "code",
   "execution_count": null,
   "metadata": {},
   "outputs": [],
   "source": [
    "tn14_path_itsg = '../pyshbundle/pyshbundle/data/ITSG_TN_files/TN-14_C30_C20_SLR_GSFC.txt'\n",
    "tn_13_path_itsg = '../pyshbundle/pyshbundle/data/ITSG_TN_files/TN-13_GEOC_CSR_RL06.1.txt'\n",
    "itsg_folder = '../pyshbundle/sample_input_data/ITSG_input'\n",
    "itsg_file = '../pyshbundle/sample_input_data/ITSG_input/ITSG-Grace2018_n96_2011-05.gfc'"
   ]
  },
  {
   "cell_type": "markdown",
   "metadata": {},
   "source": []
  },
  {
   "cell_type": "code",
   "execution_count": null,
   "metadata": {},
   "outputs": [],
   "source": [
    "data_itsg_mat= np.ndarray((4753, 6))\n",
    "header = read_itsg(itsg_file)[0]\n",
    "data_itsg_mat = read_itsg(itsg_file)[1]\n",
    "dates_itsg = read_itsg(itsg_file)[2]"
   ]
  },
  {
   "cell_type": "code",
   "execution_count": null,
   "metadata": {},
   "outputs": [],
   "source": [
    "type(dates_itsg)"
   ]
  },
  {
   "cell_type": "code",
   "execution_count": null,
   "metadata": {},
   "outputs": [],
   "source": [
    "from datetime import datetime, timedelta\n",
    "def STR2DON(str_date, source='itsg'):\n",
    "    if source == \"itsg\":\n",
    "        #print(\"NOTE: ITSG only provides Year-Month, the Date Object Notation will assume it to be the first day of the corresponding month by default! \\n\")\n",
    "        return datetime.strptime(str_date, \"%Y-%m\").date()\n",
    "    elif source == \"csr\":\n",
    "        return datetime.strptime(str_date, \"%Y-%m-%d\").date()\n",
    "    elif source == \"jpl\":\n",
    "        return datetime.strptime(str_date, \"%Y-%m-%d\").date()\n",
    "    else:\n",
    "        raise ValueError(\"Enter a valid data source (Processing Centre). Currently only supported for CSR, JPl and ITSG Processing Centers\")"
   ]
  },
  {
   "cell_type": "code",
   "execution_count": null,
   "metadata": {},
   "outputs": [],
   "source": [
    "def dates_by_year(date_list: list, source='itsg'):\n",
    "    if source == 'itsg':\n",
    "        # accertain the type of list\n",
    "        if type(date_list[0] == 'str'):\n",
    "            for i in range(len(date_list)):\n",
    "                date_list[i] = STR2DON(date_list[i], source='itsg')\n",
    "        \n",
    "        else:\n",
    "            raise ValueError(\"dates should be a list of strings\")\n",
    "        \n",
    "        list_of_years = []\n",
    "        valid_months = set(range(1, 13))\n",
    "        dates_by_year = {}\n",
    "        # Group the dates by year\n",
    "        for date in date_list:\n",
    "            year = date.year\n",
    "            if year not in dates_by_year:\n",
    "                dates_by_year[year] = []\n",
    "            dates_by_year[year].append(date)\n",
    "\n",
    "        # Print the dates grouped by year\n",
    "        return dates_by_year\n",
    "\n",
    "\n",
    "\n",
    "        pass\n",
    "    elif source == 'csr':\n",
    "        pass\n",
    "    elif source == 'jpl':\n",
    "        pass\n",
    "    pass"
   ]
  },
  {
   "cell_type": "code",
   "execution_count": null,
   "metadata": {},
   "outputs": [],
   "source": [
    "import copy\n",
    "dates_list = copy.deepcopy(dates_start)"
   ]
  },
  {
   "cell_type": "code",
   "execution_count": null,
   "metadata": {},
   "outputs": [],
   "source": [
    "dates_by_year = dates_by_year(dates_list, source='itsg')"
   ]
  },
  {
   "cell_type": "code",
   "execution_count": null,
   "metadata": {},
   "outputs": [],
   "source": [
    "# pretty printing the header info\n",
    "import pprint\n",
    "\n",
    "pp = pprint.PrettyPrinter(indent=2, width=2, compact=True)\n",
    "pp.pprint(dates_by_year)"
   ]
  },
  {
   "cell_type": "code",
   "execution_count": null,
   "metadata": {},
   "outputs": [],
   "source": [
    "dates_by_year[list(dates_by_year.keys())[0]][0].month"
   ]
  },
  {
   "cell_type": "code",
   "execution_count": null,
   "metadata": {},
   "outputs": [],
   "source": [
    "def missing_months(yearwise_dates: dict):\n",
    "    year_keys = list(yearwise_dates.keys())\n",
    "    valid_months = set(range(1, 13))\n",
    "    missing_data = {}\n",
    "\n",
    "    for year in year_keys:\n",
    "        \n",
    "        dates_in_year = yearwise_dates[year]\n",
    "        months_present = set(date.month for date in dates_in_year)\n",
    "        missing_months = valid_months - months_present\n",
    "        \n",
    "        if len(missing_months) != 0:\n",
    "            missing_data[year] = list(missing_months)\n",
    "        else:\n",
    "            missing_data[year] = 0\n",
    "    \n",
    "\n",
    "    return missing_data\n"
   ]
  },
  {
   "cell_type": "code",
   "execution_count": null,
   "metadata": {},
   "outputs": [],
   "source": [
    "missing_months = missing_months(yearwise_dates=dates_by_year)"
   ]
  },
  {
   "cell_type": "code",
   "execution_count": null,
   "metadata": {},
   "outputs": [],
   "source": [
    "missing_months[2002]"
   ]
  },
  {
   "cell_type": "code",
   "execution_count": null,
   "metadata": {},
   "outputs": [],
   "source": [
    "min(missing_months.keys())"
   ]
  },
  {
   "cell_type": "code",
   "execution_count": null,
   "metadata": {},
   "outputs": [],
   "source": [
    "missing_months"
   ]
  },
  {
   "cell_type": "code",
   "execution_count": null,
   "metadata": {},
   "outputs": [],
   "source": [
    "def timeseries_dataframe(data_dates: list, data: list, missing_months, column_header):\n",
    "    \n",
    "    \n",
    "    \n",
    "\n",
    "    \n",
    "    pass"
   ]
  },
  {
   "cell_type": "code",
   "execution_count": null,
   "metadata": {},
   "outputs": [],
   "source": [
    "STR2DON(dates_itsg, source='itsg')"
   ]
  },
  {
   "cell_type": "code",
   "execution_count": null,
   "metadata": {},
   "outputs": [],
   "source": [
    "scmat_itsg, devscmat_itsg = clm2sc_new2(data_itsg_mat, lmax=96)"
   ]
  },
  {
   "cell_type": "code",
   "execution_count": null,
   "metadata": {},
   "outputs": [],
   "source": [
    "type(data_itsg_mat)"
   ]
  },
  {
   "cell_type": "code",
   "execution_count": null,
   "metadata": {},
   "outputs": [],
   "source": [
    "from pyshbundle import sc2cs"
   ]
  },
  {
   "cell_type": "code",
   "execution_count": null,
   "metadata": {},
   "outputs": [],
   "source": [
    "a = sc2cs.sc2cs(clm2sc_new2(data_itsg_mat, 96)[0])"
   ]
  },
  {
   "cell_type": "code",
   "execution_count": null,
   "metadata": {},
   "outputs": [],
   "source": [
    "plt.imshow(np.ma.log10(np.absolute(a)))"
   ]
  },
  {
   "cell_type": "code",
   "execution_count": null,
   "metadata": {},
   "outputs": [],
   "source": [
    "type(scmat_itsg)"
   ]
  },
  {
   "cell_type": "code",
   "execution_count": null,
   "metadata": {},
   "outputs": [],
   "source": [
    "fig, ax = plt.subplots(figsize=(20, 10))\n",
    "degree_mean = []\n",
    "for i in range(97):\n",
    "    desparsed = np.absolute(de_sparse(scmat_itsg[i, :]))\n",
    "    degree_mean.append(np.mean(desparsed))\n",
    "    x = i * np.ones((len(desparsed)))\n",
    "\n",
    "    ax.scatter(x, np.log10(desparsed), color='blue', marker='+', alpha=0.5)\n",
    "\n",
    "ax.plot(range(97), np.log10(degree_mean), 'k', linestyle='--', label=\"Mean per degree\")\n",
    "\n",
    "x_vec = np.arange(0, 96+1, 6)\n",
    "\n",
    "plt.ylim([-11, -5])\n",
    "plt.xlim([0, 97])\n",
    "plt.ylabel(\"coefficients log10\")\n",
    "plt.xlabel(\"Degree (n)\")\n",
    "plt.xticks(x_vec)\n",
    "plt.title(\"Absolute value of the normalized (Unreplaced) GRACE ITSG coeficients\")\n",
    "plt.legend()\n",
    "plt.show()"
   ]
  },
  {
   "cell_type": "code",
   "execution_count": null,
   "metadata": {},
   "outputs": [],
   "source": [
    "\n",
    "fig, ax = plt.subplots(figsize=(20, 10))\n",
    "degree_mean = []\n",
    "for i in range(97):\n",
    "    desparsed = np.absolute(de_sparse(rep_sc[i, :]))\n",
    "    degree_mean.append(np.mean(desparsed))\n",
    "    x = i * np.ones((len(desparsed)))\n",
    "\n",
    "    ax.scatter(x, np.log10(desparsed), color='blue', marker='+', alpha=0.5)\n",
    "\n",
    "ax.plot(range(97), np.log10(degree_mean), 'k', linestyle='--', label=\"Mean per degree\")\n",
    "\n",
    "x_vec = np.arange(0, 96+1, 6)\n",
    "\n",
    "plt.ylim([-11, -5])\n",
    "plt.xlim([0, 97])\n",
    "plt.ylabel(\"coefficients log10\")\n",
    "plt.xlabel(\"Degree (n)\")\n",
    "plt.xticks(x_vec)\n",
    "plt.title(\"Absolute value of the normalized (Replaced) GRACE ITSG coeficients\")\n",
    "plt.legend()\n",
    "plt.show()"
   ]
  },
  {
   "cell_type": "code",
   "execution_count": null,
   "metadata": {},
   "outputs": [],
   "source": [
    "import scipy.sparse as sps\n",
    "\n",
    "a = sps.csr_matrix(scmat_itsg)\n"
   ]
  },
  {
   "cell_type": "code",
   "execution_count": null,
   "metadata": {},
   "outputs": [],
   "source": [
    "fig, ax = plt.subplots(figsize=(25, 10))\n",
    "plt.imshow(np.ma.log10(abs(scmat_itsg)), cmap=\"Spectral_r\")\n",
    "plt.colorbar()\n",
    "plt.title(\"Raw Data - New Implementaion\")\n",
    "plt.show()"
   ]
  },
  {
   "cell_type": "code",
   "execution_count": null,
   "metadata": {},
   "outputs": [],
   "source": [
    "scmat_itsg[0:5, 91:102]"
   ]
  },
  {
   "cell_type": "code",
   "execution_count": null,
   "metadata": {},
   "outputs": [],
   "source": [
    "# Read replacemnt file\n",
    "data_tn13_itsg = read_tn13(tn_13_path_itsg)\n",
    "data_tn14_itsg = read_tn14(tn14_path_itsg)"
   ]
  },
  {
   "cell_type": "code",
   "execution_count": null,
   "metadata": {},
   "outputs": [],
   "source": [
    "data_tn13_itsg[0:5, :]"
   ]
  },
  {
   "cell_type": "code",
   "execution_count": null,
   "metadata": {},
   "outputs": [],
   "source": [
    "data_tn14_itsg[0:5, :]"
   ]
  },
  {
   "cell_type": "markdown",
   "metadata": {},
   "source": [
    "# Let's Observe the Replacemnt Procedure"
   ]
  },
  {
   "cell_type": "code",
   "execution_count": null,
   "metadata": {},
   "outputs": [],
   "source": [
    "replaced_data_mat = replace_zonal_coeff(data_itsg_mat, 'itsg', 96, data_tn13_itsg, data_tn14_itsg, dates_itsg, epoch_end=None)"
   ]
  },
  {
   "cell_type": "code",
   "execution_count": null,
   "metadata": {},
   "outputs": [],
   "source": [
    "rep_sc, rep_dev = clm2sc_new2(replaced_data_mat, lmax=96)"
   ]
  },
  {
   "cell_type": "code",
   "execution_count": null,
   "metadata": {},
   "outputs": [],
   "source": [
    "rep_sc[0:5, 91:102]"
   ]
  },
  {
   "cell_type": "code",
   "execution_count": null,
   "metadata": {},
   "outputs": [],
   "source": [
    "epoch_begin = datetime.strptime(dates_itsg, '%Y-%m').date()\n",
    "tn_13_idx = find_date_in_replacemnt_file(data_tn13_itsg, \"tn-13\", \"itsg\", epoch_begin)\n",
    "print(f\"The TN-13 indices found to match : {tn_13_idx}\")"
   ]
  },
  {
   "cell_type": "code",
   "execution_count": null,
   "metadata": {},
   "outputs": [],
   "source": [
    "# This is the TN-14 Replacement file data from the matrix\n",
    "\n",
    "epoch_begin = datetime.strptime(dates_itsg, '%Y-%m').date()\n",
    "tn_14_idx = find_date_in_replacemnt_file(data_tn14_itsg, \"tn-14\", \"itsg\", epoch_begin)\n",
    "print(f\"The TN-14 indices found to match : {tn_14_idx}\")"
   ]
  },
  {
   "cell_type": "markdown",
   "metadata": {},
   "source": [
    "## Vivek's Approach"
   ]
  },
  {
   "cell_type": "code",
   "execution_count": null,
   "metadata": {},
   "outputs": [],
   "source": [
    "itsg_clm, dates_start, no_of_files = pyshbundle.reader_replacer_itsg.reader_replacer_itsg(itsg_folder, tn14_path_itsg, tn_13_path_itsg)"
   ]
  },
  {
   "cell_type": "code",
   "execution_count": null,
   "metadata": {},
   "outputs": [],
   "source": [
    "itsg_sc, itsg_dev_sc = pyshbundle.clm2sc.clm2sc(itsg_clm)"
   ]
  },
  {
   "cell_type": "code",
   "execution_count": null,
   "metadata": {},
   "outputs": [],
   "source": [
    "itsg_sc[105, 0:5, 91:102]"
   ]
  },
  {
   "cell_type": "code",
   "execution_count": null,
   "metadata": {},
   "outputs": [],
   "source": [
    "np.sum(abs(itsg_sc[105, :] - rep_sc))"
   ]
  },
  {
   "cell_type": "code",
   "execution_count": null,
   "metadata": {},
   "outputs": [],
   "source": [
    "fig, ax = plt.subplots(figsize=(25, 10))\n",
    "plt.imshow(np.ma.log10(abs((itsg_sc[105, :] - rep_sc))), )\n",
    "plt.colorbar()\n",
    "plt.title(\"Replaced Data - Difference\")\n",
    "plt.show()"
   ]
  },
  {
   "cell_type": "code",
   "execution_count": null,
   "metadata": {},
   "outputs": [],
   "source": [
    "# load all the itsg files\n",
    "files = os.listdir(itsg_folder)\n",
    "files = sorted(files, key = last_4chars)\n",
    "\n",
    "data_itsg_mat = np.ndarray((len(files), 4753, 6))\n",
    "dates_itsg = []\n",
    "for i in trange(len(files)):\n",
    "    file_path = itsg_folder + '\\\\' + files[i]\n",
    "    header = read_itsg(file_path)[0]\n",
    "    data_itsg_mat[i, :, :] = read_itsg(file_path)[1]\n",
    "    dates_itsg.append(read_itsg(file_path)[2])"
   ]
  },
  {
   "cell_type": "code",
   "execution_count": null,
   "metadata": {},
   "outputs": [],
   "source": [
    "header"
   ]
  },
  {
   "cell_type": "code",
   "execution_count": null,
   "metadata": {},
   "outputs": [],
   "source": [
    "type(read_itsg(file_path)[2])"
   ]
  },
  {
   "cell_type": "code",
   "execution_count": null,
   "metadata": {},
   "outputs": [],
   "source": [
    "#replace_zonal_coeff(data_mat, data_tn13, data_tn14, epoch_begin, epoch_end)\n",
    "# Replace zonal coeff\n",
    "replaced_data_mat_itsg = np.ndarray((len(files), 4753, 6))\n",
    "\n",
    "unreplaced_idx = set()\n",
    "for i in trange(len(files)):\n",
    "    try:\n",
    "        replaced_data_mat_itsg[i, :, :] = replace_zonal_coeff(data_itsg_mat[i, :, :], 'itsg', 96, data_tn13_itsg, data_tn14_itsg, dates_itsg[i], epoch_end=None)\n",
    "        print(\"\\n\")\n",
    "    except IndexError:\n",
    "        print(f\"Replacement data for File Index {i} - {dates_itsg[i]} could not be found.... procedding to next file\")\n",
    "        unreplaced_idx.add(i)\n",
    "\n",
    "unreplaced_idx = list(unreplaced_idx)"
   ]
  },
  {
   "cell_type": "code",
   "execution_count": null,
   "metadata": {},
   "outputs": [],
   "source": []
  },
  {
   "cell_type": "code",
   "execution_count": null,
   "metadata": {},
   "outputs": [],
   "source": [
    "scmat_deck_itsg = np.ndarray((len(files), 97, 193))\n",
    "devscmat_deck_itsg = np.ndarray((len(files), 97, 193))\n",
    "\n",
    "for i in trange(196):\n",
    "    if i not in unreplaced_idx:\n",
    "        scmat_deck_itsg[i, :, :], devscmat_deck_itsg[i, :, :] = clm2sc_new2(replaced_data_mat_itsg[i, :, :], lmax=96)"
   ]
  },
  {
   "cell_type": "code",
   "execution_count": null,
   "metadata": {},
   "outputs": [],
   "source": [
    "scmat_diff_itsg = np.ndarray((len(files), 97, 193))\n",
    "devscmat_diff_itsg = np.ndarray((len(files), 97, 193))\n",
    "\n",
    "for i in range(193):\n",
    "    scmat_diff_itsg[i, :, :] = scmat_deck_itsg[i, :, :] - itsg_sc[i, :, :]\n",
    "    devscmat_diff_itsg[i, :, :] = devscmat_deck_itsg[i, :, :] - itsg_dev_sc[i, :, :]"
   ]
  },
  {
   "cell_type": "code",
   "execution_count": null,
   "metadata": {},
   "outputs": [],
   "source": [
    "fig, ax = plt.subplots(figsize=(25, 10))\n",
    "plt.imshow(np.ma.log10(abs(devscmat_diff_itsg[0, :, :])))\n",
    "plt.colorbar()\n",
    "plt.title(\"Replaced Data - Difference\")\n",
    "plt.show()"
   ]
  },
  {
   "cell_type": "code",
   "execution_count": null,
   "metadata": {},
   "outputs": [],
   "source": []
  }
 ],
 "metadata": {
  "kernelspec": {
   "display_name": "geoenv",
   "language": "python",
   "name": "python3"
  },
  "language_info": {
   "codemirror_mode": {
    "name": "ipython",
    "version": 3
   },
   "file_extension": ".py",
   "mimetype": "text/x-python",
   "name": "python",
   "nbconvert_exporter": "python",
   "pygments_lexer": "ipython3",
   "version": "3.11.0"
  },
  "orig_nbformat": 4
 },
 "nbformat": 4,
 "nbformat_minor": 2
}
