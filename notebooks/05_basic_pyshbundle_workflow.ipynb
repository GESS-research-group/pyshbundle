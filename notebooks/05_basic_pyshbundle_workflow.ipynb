{
 "cells": [
  {
   "cell_type": "markdown",
   "id": "bf9d2520-06ae-4128-8a3f-f7ba269ed7b3",
   "metadata": {},
   "source": [
    "<img src=\"imgs/IISc_Master_Seal_Black_Transparent.png\" height=\"120px\" width=\"120px\" align=\"right\" />\n",
    "\n",
    "<img src=\"imgs/logoGESS.jpg\" height=\"120px\" width=\"120px\" align=\"right\" />\n",
    "\n",
    "<font face=\"Calibri\">\n",
    "<font size=\"7\"> <b> PySHBundle Tutorials </b> </font>\n",
    "<br> \n",
    "<font size=\"5\"> <b> Tutorial 5: Basic Workflow with PySHBundle<font color='rgba(200,0,0,0.2)'>  </font> </b> </font>\n",
    "<br> <br>\n",
    "    \n",
    "<font size=\"3\"> <b> by: Abhishek Mhamane, IIT Kanpur</b> \n",
    "<font size=\"2\">  <br>\n",
    "<font> <b>Date: </b> Jan 27, 2024 </font>\n",
    "</font>\n"
   ]
  },
  {
   "cell_type": "code",
   "execution_count": 1,
   "id": "a84b032d-8993-47fd-b644-0ab5ac28058e",
   "metadata": {},
   "outputs": [],
   "source": [
    "# TO BE WRITTEN"
   ]
  },
  {
   "cell_type": "code",
   "execution_count": null,
   "id": "79b6031a",
   "metadata": {},
   "outputs": [],
   "source": []
  }
 ],
 "metadata": {
  "kernelspec": {
   "display_name": "Python 3 (ipykernel)",
   "language": "python",
   "name": "python3"
  },
  "language_info": {
   "codemirror_mode": {
    "name": "ipython",
    "version": 3
   },
   "file_extension": ".py",
   "mimetype": "text/x-python",
   "name": "python",
   "nbconvert_exporter": "python",
   "pygments_lexer": "ipython3",
   "version": "3.11.5"
  },
  "vscode": {
   "interpreter": {
    "hash": "c942a33ffa182542ea7eb705673c4cde756b073012d32ad559a923b584d30dd7"
   }
  }
 },
 "nbformat": 4,
 "nbformat_minor": 5
}
