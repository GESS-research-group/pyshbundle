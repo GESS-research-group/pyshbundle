{
 "cells": [
  {
   "cell_type": "markdown",
   "metadata": {},
   "source": [
    "<img src=\"imgs/IISc_Master_Seal_Black_Transparent.png\" height=\"120px\" width=\"120px\" align=\"right\" />\n",
    "\n",
    "<img src=\"imgs/logoGESS.jpg\" height=\"120px\" width=\"120px\" align=\"right\" />\n",
    "\n",
    "<font face=\"Calibri\">\n",
    "<font size=\"7\"> <b> PySHBundle Tutorials </b> </font>\n",
    "<br> \n",
    "<font size=\"5\"> <b> Tutorial 2: Visualizations with PySHBundle<font color='rgba(200,0,0,0.2)'>  </font> </b> </font>\n",
    "<br> <br>\n",
    "    \n",
    "<font size=\"3\"> <b> by: Abhishek Mhamane, IIT Kanpur</b> \n",
    "<font size=\"2\">  <br>\n",
    "<font> <b>Date: </b> August 27, 2023 </font>\n",
    "</font>\n"
   ]
  },
  {
   "cell_type": "markdown",
   "metadata": {},
   "source": []
  },
  {
   "cell_type": "code",
   "execution_count": null,
   "metadata": {
    "vscode": {
     "languageId": "plaintext"
    }
   },
   "outputs": [],
   "source": []
  },
  {
   "cell_type": "code",
   "execution_count": null,
   "metadata": {
    "vscode": {
     "languageId": "plaintext"
    }
   },
   "outputs": [],
   "source": []
  },
  {
   "cell_type": "markdown",
   "metadata": {},
   "source": []
  }
 ],
 "metadata": {
  "language_info": {
   "name": "python"
  },
  "orig_nbformat": 4
 },
 "nbformat": 4,
 "nbformat_minor": 2
}
