{
 "cells": [
  {
   "cell_type": "markdown",
   "id": "764a0b1e-139b-4c3f-bc4f-c19c32a87c5a",
   "metadata": {
    "tags": []
   },
   "source": [
    "<img src=\"imgs/IISc_Master_Seal_Black_Transparent.png\" height=\"120px\" width=\"120px\" align=\"right\" />\n",
    "\n",
    "<img src=\"imgs/logoGESS.jpg\" height=\"120px\" width=\"120px\" align=\"right\" />\n",
    "\n",
    "<font face=\"Calibri\">\n",
    "<font size=\"7\"> <b> PySHBundle Tutorials </b> </font>\n",
    "<br> \n",
    "<font size=\"5\"> <b> Tutorial 1: Loading the data from different Data Centers (JPL, CSR and ITSG)<font color='rgba(200,0,0,0.2)'>  </font> </b> </font>\n",
    "<br> <br>\n",
    "    \n",
    "<font size=\"3\"> <b> by: Abhishek Mhamane, IIT Kanpur</b> \n",
    "<font size=\"2\">  <br>\n",
    "<font> <b>Date: </b> July 1, 2023 </font>\n",
    "</font>\n"
   ]
  },
  {
   "cell_type": "code",
   "execution_count": 6,
   "id": "ff88f333-2efc-490a-8737-ab0bb7abcd17",
   "metadata": {},
   "outputs": [],
   "source": [
    "import os"
   ]
  },
  {
   "cell_type": "code",
   "execution_count": 9,
   "id": "bfd21972-5acf-45bf-a5d1-d26aefe8b6dd",
   "metadata": {},
   "outputs": [],
   "source": [
    "os.chdir('/media/abhishek/DATA/open_source/pyshbundle')\n",
    "import pyshbundle"
   ]
  },
  {
   "cell_type": "code",
   "execution_count": 10,
   "id": "5e532a6d-f66b-40be-bad0-b9539e45128e",
   "metadata": {},
   "outputs": [],
   "source": [
    "import pyshbundle.reader_replacer_jpl"
   ]
  },
  {
   "cell_type": "markdown",
   "id": "3f35fe35-b32a-4db0-86e7-da81d82da164",
   "metadata": {},
   "source": [
    "<font face=\"Calibri\" size=\"3\"> In this notebook, we will demonstrate how to use <em>PySHBundle</em> to load Level-2 Spherical Harmonic Data from different processing centers like JPL, CSR and ITSG.\n",
    "\n",
    "1.0 [Background](#section-1)<br>\n",
    "> 1.1 [GRACE Level-2 Data](#section-1.1) <br>\n",
    "> 1.2 [Why Replacement is needed?](#section-1.2)  <br>\n",
    "> 1.3 [Download Data](#section-1.3) <br>\n",
    "\n",
    "2.0 [Reading the Level-2 Data](#section-2)  <br>\n",
    "> 2.1 [...](#section-2.1) <br>\n",
    "> 2.2 [...](#section-2.2) <br>\n",
    "\n",
    "3.0 [Replacing the coefficients](#section-3) <br>\n",
    "> 3.1 [...](#section-3.1) <br>\n",
    "> 3.2 [...](#section-3.2) \n",
    "\n",
    "</font>"
   ]
  },
  {
   "cell_type": "markdown",
   "id": "97d976e8-de12-4bbe-9215-3961a9fc4a87",
   "metadata": {
    "tags": []
   },
   "source": [
    "# 1.0 Background"
   ]
  },
  {
   "cell_type": "markdown",
   "id": "9c7afb1a-0ff7-4623-8c9e-88bf2763c12a",
   "metadata": {},
   "source": [
    "## 1.1 GRACE Level-2 Data"
   ]
  },
  {
   "cell_type": "markdown",
   "id": "5ecda43c-5d90-406f-9bdd-9c23720ae963",
   "metadata": {},
   "source": [
    "This dataset contains estimates of the total month-by-month geopotential of the Earth, derived from the Gravity Recovery and Climate Experiment Follow-On (GRACE-FO) mission measurements\n",
    "\n",
    "For more details refer to [GRACE Products by GFZ Postdam](https://www.gfz-potsdam.de/en/section/global-geomonitoring-and-gravity-field/projects/grace/grace-products)"
   ]
  },
  {
   "cell_type": "code",
   "execution_count": 4,
   "id": "012c0a1a-9a14-4e3e-babf-ad38b0c41e62",
   "metadata": {},
   "outputs": [],
   "source": []
  },
  {
   "cell_type": "code",
   "execution_count": null,
   "id": "9aef91bc-1416-41f7-8d03-ccde297e7146",
   "metadata": {},
   "outputs": [],
   "source": []
  }
 ],
 "metadata": {
  "kernelspec": {
   "display_name": "Python 3 (ipykernel)",
   "language": "python",
   "name": "python3"
  },
  "language_info": {
   "codemirror_mode": {
    "name": "ipython",
    "version": 3
   },
   "file_extension": ".py",
   "mimetype": "text/x-python",
   "name": "python",
   "nbconvert_exporter": "python",
   "pygments_lexer": "ipython3",
   "version": "3.11.0"
  }
 },
 "nbformat": 4,
 "nbformat_minor": 5
}
