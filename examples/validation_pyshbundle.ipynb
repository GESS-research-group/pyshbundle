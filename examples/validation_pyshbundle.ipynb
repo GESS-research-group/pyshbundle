{
 "cells": [
  {
   "cell_type": "markdown",
   "id": "1348f884",
   "metadata": {},
   "source": [
    "# Jupyter Notebook for Validation of Results\n",
    "\n",
    "## Overview\n",
    "\n",
    "This notebook compares the results obtained from the two implementations, `shbundle` and `pyshbundle`, for a specific task.<br>\n",
    "We will focus on evaluating the following:\n",
    "1. Root Mean Squared Error (RMSE)\n",
    "2. Normalized Root Mean Squared Error (NRMSE)\n",
    "3. Difference in global area weighted water budget closure.\n",
    "4. The difference in time series for a given basin.\n",
    "\n",
    "## Evaluation Metrics\n",
    "\n",
    "### 1. Root Mean Squared Error (RMSE)\n",
    "\n",
    "The RMSE is a measure of the average magnitude of the errors between predicted and observed values.<br> It is calculated as follows:\n",
    "\n",
    "$$ RMSE = \\sqrt{\\frac{1}{n}\\Sigma_{i=1}^{n}{\\Big({y_i - \\bar{y}}\\Big)^2}}$$\n",
    "\n",
    "where:\n",
    "- $n$ is the number of observations\n",
    "- ${y_i}$ is the $i_{th}$ observation\n",
    "- $\\bar{y}$ is the mean of observations\n",
    "\n",
    "### 2. Normalized Root Mean Squared Error (NRMSE)\n",
    "\n",
    "NRMSE is a normalized version of RMSE, which provides a relative measure of the error compared to the range of the observed values. It is calculated as:\n",
    "\n",
    "$$ NRMSE = \\frac{RMSE}{\\max(y) - \\min(y)}$$\n",
    "\n",
    "### 3. Difference in global area weighted water budget closure.\n",
    "\n",
    "Since the total mass of Earth is conserved (at the accuracy we can currently observe), the mass change observed over any month should sum up to zero. To verify this, we area weight the solutions from `shbundle` & `pyshbundle` using the area_weighting() function by creating a global area grid. Then we multiply this with the global solutions at each time step and take the average, followed by plotting the results.\n",
    "\n",
    "### 4. Difference in basin-average Time Series\n",
    "\n",
    "Finally we create a basin-average TWSA time-series from both the implementations."
   ]
  },
  {
   "cell_type": "markdown",
   "id": "61ad9a48",
   "metadata": {},
   "source": [
    "## Data Preparation\n",
    "\n",
    "Before proceeding with the analysis, ensure that the data from both `shbundle` and `pyshbundle` are loaded into the notebook."
   ]
  },
  {
   "cell_type": "code",
   "execution_count": null,
   "id": "b244d043-7498-4e8a-a638-b9d0703a5755",
   "metadata": {},
   "outputs": [],
   "source": [
    "import numpy as np\n",
    "import pandas as pd\n",
    "import xarray as xr\n",
    "import matplotlib.pyplot as plt\n",
    "import os"
   ]
  },
  {
   "cell_type": "code",
   "execution_count": null,
   "id": "a07fc51a-4640-4f03-a2e2-d65fc8da751b",
   "metadata": {
    "tags": []
   },
   "outputs": [],
   "source": [
    "''' Load tws processed data from shbundle as .mat file & from pyshbundle as xarray dataset '''\n",
    "import scipy.io\n",
    "# Load the .mat file\n",
    "# data = scipy.io.loadmat('../pyshbundle/validation_data/tws_m.mat')\n",
    "data = scipy.io.loadmat('/Users/vivek/Desktop/vivek_desktop/test/tws_m.mat')\n",
    "\n",
    "# Access the variables in the .mat file\n",
    "var1 = data['tws_m']\n",
    "\n",
    "# temp=xr.open_dataset('../pyshbundle/validation_data/tws_py.nc', engine=\"netcdf4\")\n",
    "temp=xr.open_dataset('/Users/vivek/Desktop/vivek_desktop/test/ds_py_float64.nc', engine=\"netcdf4\")\n",
    "\n",
    "var2=temp.tws.values"
   ]
  },
  {
   "cell_type": "markdown",
   "id": "25c2914c",
   "metadata": {},
   "source": [
    "#### Lets convert both datasets to a netcdf format for easier calculations."
   ]
  },
  {
   "cell_type": "markdown",
   "id": "d18571e3",
   "metadata": {},
   "source": [
    "* Converting `pyshbundle` processed data into netcdf format using xarray, to `ds_pysh`"
   ]
  },
  {
   "cell_type": "code",
   "execution_count": null,
   "id": "8f7bbce8",
   "metadata": {},
   "outputs": [],
   "source": [
    "gs=1;\n",
    "lon = np.arange(-180,180,gs)\n",
    "lat = np.arange(89,-91,-gs)\n",
    "ds_pysh = xr.Dataset(\n",
    "    data_vars=dict(\n",
    "        tws=([\"time\",\"lat\", \"lon\"], var2)\n",
    "    ),\n",
    "    coords = {\n",
    "        \"time\":(('time'),temp.time.data),\n",
    "        \"lat\":lat,\n",
    "        \"lon\":lon },\n",
    "        attrs=dict(units=\"mm\",),\n",
    ")"
   ]
  },
  {
   "cell_type": "markdown",
   "id": "420b8c91",
   "metadata": {},
   "source": [
    "* Same with `shubundle` processed data, to `ds_msh`"
   ]
  },
  {
   "cell_type": "code",
   "execution_count": null,
   "id": "e7a5cc51-23ce-41f9-a595-be1682a8d92c",
   "metadata": {
    "tags": []
   },
   "outputs": [],
   "source": [
    "ds_msh = xr.Dataset(\n",
    "    data_vars=dict(\n",
    "        tws=([\"time\",\"lat\", \"lon\"], var1)\n",
    "    ),\n",
    "    coords = {\n",
    "        \"time\":(('time'),temp.time.data),\n",
    "        \"lat\":lat,\n",
    "        \"lon\":lon },\n",
    "    attrs=dict(units=\"mm\",),\n",
    ")"
   ]
  },
  {
   "cell_type": "markdown",
   "id": "752c524a",
   "metadata": {},
   "source": [
    "* Quick glance at the 2 datsets"
   ]
  },
  {
   "cell_type": "code",
   "execution_count": null,
   "id": "50cafff0",
   "metadata": {},
   "outputs": [],
   "source": [
    "ds_pysh"
   ]
  },
  {
   "cell_type": "code",
   "execution_count": null,
   "id": "9237daa9",
   "metadata": {},
   "outputs": [],
   "source": [
    "ds_msh"
   ]
  },
  {
   "cell_type": "markdown",
   "id": "c723028d-2e39-4450-b77f-c303e7beb8c1",
   "metadata": {},
   "source": [
    "## 1. Gridwise RMSE calculation\n",
    "\n",
    "Before finding the grid-wise RMSE values we need to ignore the data for the missing months."
   ]
  },
  {
   "cell_type": "code",
   "execution_count": null,
   "id": "6da40302",
   "metadata": {},
   "outputs": [],
   "source": [
    "# Calculate the difference between the two datasets\n",
    "diff = ds_msh['tws'].dropna(dim='time').values - ds_pysh['tws'].dropna(dim='time').values    # dropna is used to remove nan values, the dates where the GRACE data is missing\n",
    "\n",
    "# Calculate the squared difference\n",
    "squared_diff = diff**2\n",
    "\n",
    "# Calculate the mean squared difference along the time axis\n",
    "mean_squared_diff = np.mean(squared_diff, axis=0)\n",
    "\n",
    "# Calculate the root mean squared error (RMSE)\n",
    "gridwise_rmse = np.sqrt(mean_squared_diff)"
   ]
  },
  {
   "cell_type": "code",
   "execution_count": null,
   "id": "21808164-08f8-4e9f-a708-0af22c23164e",
   "metadata": {
    "tags": []
   },
   "outputs": [],
   "source": [
    "fig, (ax1) = plt.subplots(figsize=(6, 3), dpi=150, layout=\"constrained\")    #gridspec_kw={'wspace': 0.01, 'hspace':0.2} \n",
    "\n",
    "# Set ticks and labels for the first subplot (ax1)\n",
    "ax1.set_xticks(np.linspace(0, 359, 7)) \n",
    "ax1.set_xticklabels(['180W', '120W', '60W', '0', '60E', '120E', '180E'])\n",
    "ax1.set_yticks(np.linspace(0, 179, 5))\n",
    "ax1.set_yticklabels(['90N', '45N', '0', '45S', '90S'])\n",
    "\n",
    "im1 = ax1.imshow(gridwise_rmse, cmap='jet')\n",
    "cbar1 = fig.colorbar(im1, ax=ax1, pad=0.0, shrink=0.9)\n",
    "ax1.set_title('RMSE between shbundle & pyshbundle generated TWS', fontsize=10, y=1.0)\n",
    "\n",
    "\n",
    "plt.savefig('../pic/02_error_rmse.png', dpi=300, bbox_inches='tight')\n",
    "plt.show()"
   ]
  },
  {
   "cell_type": "code",
   "execution_count": null,
   "id": "9364162f",
   "metadata": {},
   "outputs": [],
   "source": [
    "if np.all(gridwise_rmse < 1e-3):\n",
    "    print('The two datasets are almost identical')"
   ]
  },
  {
   "cell_type": "markdown",
   "id": "23da5968",
   "metadata": {},
   "source": [
    "## 2. Gridwise NRMSE"
   ]
  },
  {
   "cell_type": "code",
   "execution_count": null,
   "id": "c744b51b",
   "metadata": {},
   "outputs": [],
   "source": [
    "# Calculate the normalized root mean squared error (NRMSE)\n",
    "gridwise_nrmse = gridwise_rmse/np.std(ds_msh['tws'].dropna(dim='time').values, axis=0)"
   ]
  },
  {
   "cell_type": "code",
   "execution_count": null,
   "id": "7273a06b",
   "metadata": {},
   "outputs": [],
   "source": [
    "fig, (ax2) = plt.subplots(figsize=(6, 3), dpi=150, layout=\"constrained\")    #gridspec_kw={'wspace': 0.01, 'hspace':0.2} \n",
    "\n",
    "# Set ticks and labels for the first subplot (ax2)\n",
    "ax2.set_xticks(np.linspace(0, 359, 7))  # Adjust as needed\n",
    "ax2.set_xticklabels(['180W', '120W', '60W', '0', '60E', '120E', '180E'])  # Adjust as needed\n",
    "ax2.set_yticks(np.linspace(0, 179, 5))  # Adjust as needed\n",
    "ax2.set_yticklabels(['90N', '45N', '0', '45S', '90S'])  # Adjust as needed\n",
    "\n",
    "im1 = ax2.imshow(gridwise_nrmse, cmap='jet')\n",
    "cbar1 = fig.colorbar(im1, ax=ax2, pad=0.0, shrink=0.9)\n",
    "ax2.set_title('NRMSE between shbundle & pyshbundle generated TWS', fontsize=10, y=1)\n",
    "\n",
    "\n",
    "plt.savefig('../pic/02_error_nrmse.png', dpi=300, bbox_inches='tight')\n",
    "plt.show()"
   ]
  },
  {
   "cell_type": "markdown",
   "id": "3c5c054a",
   "metadata": {},
   "source": [
    "## 3. Global area weighted water budget closure"
   ]
  },
  {
   "cell_type": "code",
   "execution_count": null,
   "id": "74c427ba",
   "metadata": {},
   "outputs": [],
   "source": [
    "# Area of grids\n",
    "from pyshbundle.hydro import area_weighting\n",
    "global_grid_area=area_weighting(1)\n",
    "global_grid_area_sum = np.sum(global_grid_area)\n",
    "print('global surface area in m\\u00b2:', global_grid_area_sum)"
   ]
  },
  {
   "cell_type": "markdown",
   "id": "2ce2de03",
   "metadata": {},
   "source": [
    "* Calculate the global area weighted water budget closure error"
   ]
  },
  {
   "cell_type": "code",
   "execution_count": null,
   "id": "1e736b5c",
   "metadata": {},
   "outputs": [],
   "source": [
    "# Create a copy of the datasets\n",
    "ds_msh_area_weighted, ds_pysh_area_weighted = ds_msh.copy(), ds_pysh.copy()\n",
    "\n",
    "# Area weight with the global grid area and calculate the sum over lat and lon\n",
    "ds_msh_area_weighted = ds_msh['tws']*global_grid_area / global_grid_area_sum\n",
    "ds_msh_area_weighted = ds_msh_area_weighted.sum(dim=['lat', 'lon'])\n",
    "\n",
    "# Same for the pyshbundle dataset\n",
    "ds_pysh_area_weighted = ds_pysh['tws']*global_grid_area / global_grid_area_sum\n",
    "ds_pysh_area_weighted = ds_pysh_area_weighted.sum(dim=['lat', 'lon'])\n",
    "\n",
    "diff_global = ds_msh_area_weighted - ds_pysh_area_weighted\n",
    "\n",
    "# Reinsert the NaN values where the GRACE data is missing and the time coordinate\n",
    "ds_msh_area_weighted=ds_msh_area_weighted.where(~np.isnan(ds_pysh['tws'][:,0,0]), np.nan)\n",
    "ds_pysh_area_weighted=ds_pysh_area_weighted.where(~np.isnan(ds_pysh['tws'][:,0,0]), np.nan)\n",
    "diff_global=diff_global.where(~np.isnan(ds_pysh['tws'][:,0,0]), np.nan)"
   ]
  },
  {
   "cell_type": "code",
   "execution_count": null,
   "id": "82e6fd17",
   "metadata": {},
   "outputs": [],
   "source": [
    "# Create a figure with three subplots\n",
    "fig, axes = plt.subplots(3, 1, figsize=(12, 15),)\n",
    "fig.suptitle('Global water budget closure', fontsize=16)\n",
    "\n",
    "# Plot 1\n",
    "ds_msh_area_weighted.plot(ax=axes[0], color='#807dba', label='SHbundle')\n",
    "axes[0].set_title('a) Water Budget Closure with SHbundle', fontsize=14)\n",
    "axes[0].set_ylabel('Area Weighted TWSA (in cm)', fontsize=9)\n",
    "axes[0].legend()\n",
    "axes[0].grid(True, alpha=0.7)\n",
    "\n",
    "# Plot 2\n",
    "ds_pysh_area_weighted.plot(ax=axes[1], color='#4292c6', label='PySHbundle')\n",
    "axes[1].set_title('b) Water Budget Closure with PySHbundle', fontsize=14)\n",
    "axes[1].set_ylabel('Area Weighted TWSA (in cm)', fontsize=9)\n",
    "axes[1].legend()\n",
    "axes[1].grid(True, alpha=0.7)\n",
    "\n",
    "# Plot 3\n",
    "diff_global.plot(ax=axes[2], color='#525252', label='Difference')\n",
    "axes[2].set_title('Difference between SHbundle and PySHbundle (a-b)', fontsize=14)\n",
    "axes[2].set_ylabel('Area Weighted TWSA (in cm)', fontsize=9)\n",
    "axes[2].legend()\n",
    "axes[2].grid(True, alpha=0.7)\n",
    "\n",
    "# Adjust layout for better spacing\n",
    "plt.tight_layout()\n",
    "plt.show()"
   ]
  },
  {
   "cell_type": "markdown",
   "id": "cb7f9fb7",
   "metadata": {},
   "source": [
    "## 4. Difference in basin-average Time Series"
   ]
  },
  {
   "cell_type": "code",
   "execution_count": null,
   "id": "70251113",
   "metadata": {},
   "outputs": [],
   "source": [
    "import geopandas as gpd"
   ]
  },
  {
   "cell_type": "code",
   "execution_count": null,
   "id": "66ce0c8e",
   "metadata": {},
   "outputs": [],
   "source": [
    "path_shapefile = '../pyshbundle/data/mrb_shapefiles/mrb_basins.shp'\n",
    "shp = gpd.read_file(path_shapefile)\n",
    "shp.plot(figsize=(8, 4))  "
   ]
  },
  {
   "cell_type": "code",
   "execution_count": null,
   "id": "b4553891",
   "metadata": {},
   "outputs": [],
   "source": [
    "basin_name='KRISHNA'\n",
    "shp_basin=shp[shp['RIVER_BASI']==basin_name]\n",
    "print(shp_basin.head(), '\\n')\n",
    "shp_basin.plot()\n",
    "basin_area=np.float64(shp_basin['SUM_SUB_AR'].values[0])*1e6          # basin area already in m^2\n",
    "print('Basin area is :', basin_area, 'm\\u00b2');"
   ]
  },
  {
   "cell_type": "code",
   "execution_count": null,
   "id": "8026ba9a",
   "metadata": {},
   "outputs": [],
   "source": [
    "from pyshbundle.hydro import Basinaverage\n",
    "_, basin_avg_tws_msh = Basinaverage(ds_msh, gs, shp_basin, basin_area)\n",
    "_, basin_avg_tws_pysh = Basinaverage(ds_pysh, gs, shp_basin, basin_area)"
   ]
  },
  {
   "cell_type": "code",
   "execution_count": null,
   "id": "21d5740e",
   "metadata": {},
   "outputs": [],
   "source": [
    "new_dates=pd.date_range(start=basin_avg_tws_msh.time[0].values, \n",
    "                        end=basin_avg_tws_msh.time[-1].values, freq='ME',)\n",
    "new_dates"
   ]
  },
  {
   "cell_type": "code",
   "execution_count": null,
   "id": "1a1bb63a",
   "metadata": {},
   "outputs": [],
   "source": [
    "# Empty dataset for the gapped data, msh\n",
    "basin_avg_tws_gapped_msh = xr.Dataset(\n",
    "        data_vars = dict(   tws=([\"time\"], np.nan*np.arange(len(new_dates)))),\n",
    "        coords=dict(time=new_dates),);\n",
    "# Empty dataset for the gapped data, pysh\n",
    "basin_avg_tws_gapped_pysh = xr.Dataset(\n",
    "        data_vars = dict(   tws=([\"time\"], np.nan*np.arange(len(new_dates)))),\n",
    "        coords=dict(time=new_dates),);"
   ]
  },
  {
   "cell_type": "code",
   "execution_count": null,
   "id": "446f1123",
   "metadata": {},
   "outputs": [],
   "source": [
    "#\n",
    "basin_avg_tws_gapped_msh['tws'] = basin_avg_tws_msh['tws'].where(\n",
    "    basin_avg_tws_msh['time'].isin(basin_avg_tws_gapped_msh['time']),)\n",
    "#\n",
    "basin_avg_tws_gapped_pysh['tws'] = basin_avg_tws_pysh['tws'].where(\n",
    "    basin_avg_tws_pysh['time'].isin(basin_avg_tws_gapped_pysh['time']),)\n",
    "\n",
    "diff_global_basin = basin_avg_tws_gapped_msh['tws'] - basin_avg_tws_gapped_pysh['tws']"
   ]
  },
  {
   "cell_type": "code",
   "execution_count": null,
   "id": "bc6ba19a",
   "metadata": {},
   "outputs": [],
   "source": [
    "# Create a figure with three subplots\n",
    "fig, axes = plt.subplots(3, 1, figsize=(12, 15),)\n",
    "fig.suptitle('Basin average comparision', fontsize=16)\n",
    "\n",
    "# Plot 1\n",
    "basin_avg_tws_gapped_msh['tws'].plot(ax=axes[0], color='#807dba', label='SHbundle')\n",
    "axes[0].set_title('a) Basin average with SHbundle', fontsize=14)\n",
    "axes[0].set_ylabel('TWSA (in cm)', fontsize=9)\n",
    "axes[0].legend()\n",
    "axes[0].grid(True, alpha=0.7)\n",
    "\n",
    "# Plot 2\n",
    "basin_avg_tws_gapped_pysh['tws'].plot(ax=axes[1], color='#4292c6', label='PySHbundle')\n",
    "axes[1].set_title('b) Basin average with with PySHbundle', fontsize=14)\n",
    "axes[1].set_ylabel('TWSA (in cm)', fontsize=9)\n",
    "axes[1].legend()\n",
    "axes[1].grid(True, alpha=0.7)\n",
    "\n",
    "# Plot 3\n",
    "diff_global_basin.plot(ax=axes[2], color='#525252', label='Difference')\n",
    "axes[2].set_title('Difference between SHbundle and PySHbundle (a-b)', fontsize=14)\n",
    "axes[2].set_ylabel('Area Weighted TWSA (in cm)', fontsize=9)\n",
    "axes[2].legend()\n",
    "axes[2].grid(True, alpha=0.7)\n",
    "\n",
    "# Adjust layout for better spacing\n",
    "plt.tight_layout()\n",
    "plt.show()"
   ]
  },
  {
   "cell_type": "markdown",
   "id": "41658f69",
   "metadata": {},
   "source": [
    "* Thank you for reading!"
   ]
  }
 ],
 "metadata": {
  "kernelspec": {
   "display_name": "Python 3 (ipykernel)",
   "language": "python",
   "name": "python3"
  },
  "language_info": {
   "codemirror_mode": {
    "name": "ipython",
    "version": 3
   },
   "file_extension": ".py",
   "mimetype": "text/x-python",
   "name": "python",
   "nbconvert_exporter": "python",
   "pygments_lexer": "ipython3",
   "version": "3.9.19"
  }
 },
 "nbformat": 4,
 "nbformat_minor": 5
}
