{
 "cells": [
  {
   "cell_type": "markdown",
   "id": "764a0b1e-139b-4c3f-bc4f-c19c32a87c5a",
   "metadata": {
    "tags": []
   },
   "source": [
    "<img src=\"imgs/IISc_Master_Seal_Black_Transparent.png\" height=\"120px\" width=\"120px\" align=\"right\" />\n",
    "\n",
    "<img src=\"imgs/logoGESS.jpg\" height=\"120px\" width=\"120px\" align=\"right\" />\n",
    "\n",
    "<font face=\"Calibri\">\n",
    "<br>\n",
    "<font size=\"7\"> <b> PySHBundle Tutorials </b> </font>\n",
    "<br> <br>\n",
    "<font size=\"5\"> <b> Tutorial 2: Load Spherical Harmonics data from JPL, CSR and ITSG<font color='rgba(200,0,0,0.2)'>  </font> </b> </font>\n",
    "<br> <br>\n",
    "    \n",
    "<font size=\"3\"> <b> by: Abhishek Mhamane, IIT Kanpur</b> \n",
    "<font size=\"2\">  <br>\n",
    "<font> <b>Date: </b> August 23, 2023 </font>\n",
    "</font>\n"
   ]
  },
  {
   "cell_type": "code",
   "execution_count": null,
   "id": "ff88f333-2efc-490a-8737-ab0bb7abcd17",
   "metadata": {},
   "outputs": [],
   "source": [
    "import os\n",
    "import pprint\n",
    "import numpy as np\n",
    "from tqdm import tqdm, trange\n",
    "from datetime import datetime\n",
    "from collections import OrderedDict\n",
    "import matplotlib.pyplot as plt"
   ]
  },
  {
   "cell_type": "code",
   "execution_count": null,
   "id": "5e532a6d-f66b-40be-bad0-b9539e45128e",
   "metadata": {},
   "outputs": [],
   "source": [
    "from pyshbundle.io import parse_jpl_file, parse_csr_file, parse_itsg_file\n",
    "from pyshbundle.io import extract_SH_data\n",
    "from pyshbundle.io import extract_SH_data, extract_deg1_coeff_tn13, extract_deg2_3_coeff_tn14\n",
    "from pyshbundle.reshape_SH_coefficients import klm2sc\n",
    "from pyshbundle.viz_utils import plot_calendar_months"
   ]
  },
  {
   "cell_type": "markdown",
   "id": "9c7afb1a-0ff7-4623-8c9e-88bf2763c12a",
   "metadata": {},
   "source": [
    "## 1.1 GRACE Level-2 Data"
   ]
  },
  {
   "cell_type": "markdown",
   "id": "5ecda43c-5d90-406f-9bdd-9c23720ae963",
   "metadata": {},
   "source": [
    "This dataset contains estimates of the total month-by-month geopotential of the Earth, derived from the Gravity Recovery and Climate Experiment Follow-On (GRACE-FO) mission measurements\n",
    "\n",
    "For more details refer to [GRACE Products by GFZ Postdam](https://www.gfz-potsdam.de/en/section/global-geomonitoring-and-gravity-field/projects/grace/grace-products)"
   ]
  },
  {
   "cell_type": "markdown",
   "id": "40864b8c-9fa5-4292-adda-1382b07b4b76",
   "metadata": {},
   "source": [
    "## Data Source - CSR"
   ]
  },
  {
   "cell_type": "markdown",
   "id": "faa4a3ab-2005-4048-a0fa-dc85d170ae03",
   "metadata": {},
   "source": [
    "Data loading steps are more or less similar for different data sources, still procedure for different sources have been explained in this tutorial."
   ]
  },
  {
   "cell_type": "code",
   "execution_count": null,
   "id": "e2a0677d-3b5e-47b7-ae6b-58bda3731b4f",
   "metadata": {},
   "outputs": [],
   "source": [
    "# path_sh = \"../sample_input_data/JPL_input/\"\n",
    "# source='csr'\n",
    "# path_sh = \"../sample_input_data/CSR_input/\"\n",
    "# source='itsg'\n",
    "# path_sh = \"../sample_input_data/ITSG_input/\"\n",
    "\n",
    "source='itsg'\n",
    "path_sh='../sample_input_data/ITSG_input/'\n",
    "file_path='../sample_input_data/ITSG_input/ITSG-Grace2018_n96_2002-04.gfc'"
   ]
  },
  {
   "cell_type": "markdown",
   "id": "b04caaa4-1cff-470a-af7d-6ac16c77f1ad",
   "metadata": {},
   "source": [
    "## Read the files (single and multiple files)"
   ]
  },
  {
   "cell_type": "markdown",
   "id": "9c47a4db",
   "metadata": {},
   "source": [
    "For the GRACE data files, the function `read_csr` parses the header info as well as the numerical data into a `dict` and `matrix` format respectively. <br>\n",
    "\n",
    "for additional information see the documentation or use `help(read_csr)`"
   ]
  },
  {
   "cell_type": "markdown",
   "id": "36d29cff",
   "metadata": {},
   "source": [
    "### Single file"
   ]
  },
  {
   "cell_type": "code",
   "execution_count": null,
   "id": "a92d2ff6",
   "metadata": {},
   "outputs": [],
   "source": [
    "itsg_header, itsg_data = parse_itsg_file(file_path)"
   ]
  },
  {
   "cell_type": "code",
   "execution_count": null,
   "id": "9e1ad2ad",
   "metadata": {},
   "outputs": [],
   "source": [
    "# pretty printing the header info\n",
    "pp = pprint.PrettyPrinter(indent=2, width=2, compact=True);\n",
    "pp.pprint(itsg_header[0:1])"
   ]
  },
  {
   "cell_type": "markdown",
   "id": "0fb88f0b",
   "metadata": {},
   "source": [
    "The `klm_mat` contains the numerical data; of size (n, 6) <br> <br>\n",
    "\n",
    "The columns of the matrix (np.ndarray) are [degree, order, c_lm, s_lm, dev_c_lm, dev_s_lm] <br>\n",
    "\n",
    "NOTE: CSR provides data in the `KLM` format whereas JPL and ITSG provides in `CLM` format"
   ]
  },
  {
   "cell_type": "code",
   "execution_count": null,
   "id": "245a71a8",
   "metadata": {},
   "outputs": [],
   "source": [
    "# the numerical data\n",
    "itsg_data['coefficients'][(0,0)]"
   ]
  },
  {
   "cell_type": "markdown",
   "id": "37a44610",
   "metadata": {},
   "source": [
    "The shape of the `klm_mat` matrix indicates there are 4753 data rows in the "
   ]
  },
  {
   "cell_type": "markdown",
   "id": "fe1ffbe2",
   "metadata": {},
   "source": [
    "The dates have been reported seperately so as to maintain consistency with data provided by other data processing centers."
   ]
  },
  {
   "cell_type": "markdown",
   "id": "9628f13e",
   "metadata": {},
   "source": [
    "### Format conversion"
   ]
  },
  {
   "cell_type": "code",
   "execution_count": null,
   "id": "d373cd59",
   "metadata": {},
   "outputs": [],
   "source": [
    "max_degree, max_order=max(itsg_data['coefficients'].keys())\n",
    "number_of_months=len(itsg_data['coefficients'].keys())\n",
    "print('The maximum degree & order in data is:' , max_degree, '&', max_order)"
   ]
  },
  {
   "cell_type": "code",
   "execution_count": null,
   "id": "69b2ce55",
   "metadata": {},
   "outputs": [],
   "source": [
    "# Currently the data is in an data matrix, for efficient computation it needs to converted to /S|C\\ or |C\\S| format\n",
    "\n",
    "sc_mat=np.zeros([max_degree+1, 2*(max_degree+1)], dtype=np.double)\n",
    "sc_mat_std_dev=np.zeros([max_degree+1, 2*(max_degree+1)], dtype=np.double)\n",
    "\n",
    "temp=itsg_data['coefficients']\n",
    "for l in range(0,max_degree+1):\n",
    "    for m in range(0,l+1):\n",
    "        '''uncomment these two lines to see how the elements are being accessed from the dictionary'''\n",
    "        # print(l,m)\n",
    "        # print(temp[(l,m)]['Clm'])\n",
    "        sc_mat[l, max_degree+m+1]=temp[(l,m)]['Clm']\n",
    "        sc_mat[l, max_degree-m]=temp[(l,m)]['Slm']\n",
    "        sc_mat_std_dev[l, max_degree+m+1]=temp[(l,m)]['Clm_sdev']\n",
    "        sc_mat_std_dev[l, max_degree-m]=temp[(l,m)]['Slm_sdev']\n",
    "del temp\n",
    "sc_mat=np.delete(sc_mat, max_degree, axis=1);\n",
    "sc_mat_std_dev=np.delete(sc_mat_std_dev, max_degree, axis=1);"
   ]
  },
  {
   "cell_type": "markdown",
   "id": "b57ae227",
   "metadata": {},
   "source": [
    "Visualize the /C|S\\ foramt"
   ]
  },
  {
   "cell_type": "code",
   "execution_count": null,
   "id": "d117b268",
   "metadata": {},
   "outputs": [],
   "source": [
    "plt.rcParams.update({'font.size': 16})\n",
    "\n",
    "x_vec = np.arange(-96, 96+1, 6)\n",
    "y_vec = np.arange(96, -2, -6)\n",
    "\n",
    "fig, ax = plt.subplots(2, 1,figsize=(40, 15), sharex=True, sharey=True)\n",
    "raw_dat = ax[0].imshow(np.ma.log10(np.absolute(sc_mat)), extent=[-96, 96, 96, 0], cmap='Spectral_r', vmin=-10, vmax=-7, )\n",
    "ax[0].title.set_text(\"CSR Raw Data\")\n",
    "\n",
    "fig.colorbar(raw_dat, )\n",
    "\n",
    "raw_dev = ax[1].imshow(np.ma.log10(np.absolute(sc_mat_std_dev)), extent=[-96, 96, 96, 0], cmap='Spectral_r', vmin=-12, vmax=-10)\n",
    "ax[1].title.set_text(\"CSR Raw Standard Deviations\")\n",
    "plt.sca(ax[1])\n",
    "plt.xticks(x_vec, color='black')\n",
    "fig.colorbar(raw_dev,)\n",
    "\n",
    "ax[0].grid()\n",
    "ax[1].grid()\n",
    "\n",
    "# plt.colorbar()\n",
    "\n",
    "fig.tight_layout()\n",
    "plt.show()\n"
   ]
  },
  {
   "cell_type": "markdown",
   "id": "93e77f21",
   "metadata": {},
   "source": [
    "### Reading Multiple Files"
   ]
  },
  {
   "cell_type": "markdown",
   "id": "396a635b",
   "metadata": {},
   "source": [
    "Lets create a list of the file paths in of our data."
   ]
  },
  {
   "cell_type": "code",
   "execution_count": null,
   "id": "137425a9",
   "metadata": {},
   "outputs": [],
   "source": [
    "files = os.listdir(path_sh)\n",
    "if str.upper(source) == 'ITSG':\n",
    "    file_paths = [path_sh + file for file in files if os.path.splitext(file)[1] == '.gfc'];\n",
    "else:\n",
    "    file_paths = [path_sh + file for file in files if os.path.splitext(file)[1] == '.gz'];"
   ]
  },
  {
   "cell_type": "code",
   "execution_count": null,
   "id": "9f83a5ec",
   "metadata": {},
   "outputs": [],
   "source": [
    "extracted_data={} \n",
    "for file_path in file_paths:\n",
    "    # file_data = read_sh(file_path, source=source)\n",
    "    file_data = extract_SH_data(file_path, source=source)\n",
    "    if file_data['time_coverage_start']:\n",
    "        # Convert time_coverage_start to a datetime object and then format it as yyyy-mm\n",
    "        if source == 'itsg':\n",
    "            start_date = datetime.strptime(file_data['time_coverage_start'][-7:], '%Y-%m').strftime('%Y-%m')\n",
    "        else:\n",
    "            start_date = datetime.strptime(file_data['time_coverage_start'], '%Y-%m-%dT%H:%M:%S.%f').strftime('%Y-%m')\n",
    "        # Use the formatted date as the key\n",
    "        extracted_data[start_date] = file_data['coefficients']\n",
    "\n",
    "\n",
    "# Time Sort the dictionary by keys (dates)\n",
    "sorted_data = OrderedDict(sorted(extracted_data.items()));"
   ]
  },
  {
   "attachments": {},
   "cell_type": "markdown",
   "id": "0c2286fd",
   "metadata": {},
   "source": [
    "## Read Replacement files"
   ]
  },
  {
   "attachments": {},
   "cell_type": "markdown",
   "id": "86d9d56b",
   "metadata": {},
   "source": [
    "Since the degree 2 & 3 (order 0) coefficients from GRACE are errorneous, these need to be replaced with the corresponding data from other sources. \n",
    "\n",
    "The recommended method is using Satellite laser ranging data. As mentioned above, we do provide the `TN14` data (JPL, CSR, & ITSG) with the package. Since this data is continuously updated users may download there own solutions for the same and use for replacement of `C20` and `C30` coefficients."
   ]
  },
  {
   "cell_type": "code",
   "execution_count": null,
   "id": "22288c18-1c81-4c26-b9c7-762126898822",
   "metadata": {},
   "outputs": [],
   "source": [
    "# here example is shown for the csr replacement files\n",
    "\n",
    "path_csr_tn13 = '../pyshbundle/data/CSR_TN_files/TN-13_GEOC_CSR_RL06.1.txt'\n",
    "path_csr_tn14 = '../pyshbundle/data/CSR_TN_files/TN-14_C30_C20_SLR_GSFC.txt'\n"
   ]
  },
  {
   "cell_type": "code",
   "execution_count": null,
   "id": "13f777d8",
   "metadata": {},
   "outputs": [],
   "source": [
    "data_tn13_csr = extract_deg1_coeff_tn13(path_csr_tn13)"
   ]
  },
  {
   "cell_type": "code",
   "execution_count": null,
   "id": "ebe9f813",
   "metadata": {},
   "outputs": [],
   "source": [
    "print('Keys of the TN13 replacement dictionary', data_tn13_csr.keys(),)        # dicitonary for each year-month\n",
    "print('Keys of dictionary for year-month 2002-4', data_tn13_csr[('2002-04', 1, 0)].keys())  # dictionary for c20, c30 coefficients for each year-month\n",
    "print('For 2002-04 :',  '\\n'\n",
    "       'C10 is:', data_tn13_csr[('2002-04', 1, 0)]['Clm'], '\\n'\n",
    "       'S10 is:', data_tn13_csr[('2002-04', 1, 0)]['Slm'], '\\n'\n",
    "       'C11 is:', data_tn13_csr[('2002-04', 1, 1)]['Clm'], '\\n'\n",
    "       'C11 is:', data_tn13_csr[('2002-04', 1, 1)]['Slm'])"
   ]
  },
  {
   "cell_type": "code",
   "execution_count": null,
   "id": "a4398d89",
   "metadata": {},
   "outputs": [],
   "source": [
    "data_tn14_csr = extract_deg2_3_coeff_tn14(path_csr_tn14)"
   ]
  },
  {
   "cell_type": "code",
   "execution_count": null,
   "id": "cdbbc9b4",
   "metadata": {},
   "outputs": [],
   "source": [
    "print('Keys of the TN14 replacement dictionary', data_tn14_csr.keys(),)        # dicitonary for each year-month\n",
    "print('Keys of dictionary for year-month 2002-4', data_tn14_csr['2002-04'].keys())  # dictionary for c20, c30 coefficients for each year-month\n",
    "print('For 2002-04 :',  '\\n'\n",
    "      'C20 is:', data_tn14_csr['2002-04']['c20'], '\\n'\n",
    "      'C30 is:',data_tn14_csr['2002-04']['c30'])"
   ]
  },
  {
   "attachments": {},
   "cell_type": "markdown",
   "id": "0dd172c8",
   "metadata": {},
   "source": [
    "## Replace Low Degree Coefficients"
   ]
  },
  {
   "cell_type": "markdown",
   "id": "bce52737",
   "metadata": {},
   "source": [
    "###  Let's Observe the Replacement Steps/Procedure"
   ]
  },
  {
   "cell_type": "code",
   "execution_count": null,
   "id": "ca759125",
   "metadata": {},
   "outputs": [],
   "source": []
  },
  {
   "cell_type": "code",
   "execution_count": null,
   "id": "2a767edf",
   "metadata": {},
   "outputs": [],
   "source": []
  },
  {
   "cell_type": "code",
   "execution_count": null,
   "id": "d571b9aa",
   "metadata": {},
   "outputs": [],
   "source": []
  },
  {
   "cell_type": "code",
   "execution_count": null,
   "id": "62fdbe39",
   "metadata": {},
   "outputs": [],
   "source": []
  },
  {
   "cell_type": "code",
   "execution_count": null,
   "id": "bf8d72ab",
   "metadata": {},
   "outputs": [],
   "source": []
  },
  {
   "cell_type": "markdown",
   "id": "b98fd89a",
   "metadata": {},
   "source": [
    "## Visualizing the Coefficients"
   ]
  },
  {
   "cell_type": "markdown",
   "id": "dc689994",
   "metadata": {},
   "source": [
    "* First we need to convert the data into the `/S|C\\` format"
   ]
  },
  {
   "cell_type": "code",
   "execution_count": null,
   "id": "8faf394f",
   "metadata": {},
   "outputs": [],
   "source": [
    "sc_mat=np.zeros([number_of_months, max_degree+1, 2*(max_degree+1)], dtype=np.double)\n",
    "sc_mat_std_dev=np.zeros([number_of_months, max_degree+1, 2*(max_degree+1)], dtype=np.double)\n",
    "\n",
    "for index, key in enumerate(sorted_data.keys()):\n",
    "    temp=sorted_data[key]\n",
    "    for l in range(0,max_degree+1):\n",
    "        for m in range(0,l+1):\n",
    "            '''uncomment these two lines to see how the elements are being accessed from the dictionary'''\n",
    "            # print(l,m)\n",
    "            # print(temp[(l,m)]['Clm'])\n",
    "            sc_mat[index, l, max_degree+m+1]=temp[(l,m)]['Clm']\n",
    "            sc_mat[index, l, max_degree-m]=temp[(l,m)]['Slm']\n",
    "            sc_mat_std_dev[index, l, max_degree+m+1]=temp[(l,m)]['Clm_sdev']\n",
    "            sc_mat_std_dev[index, l, max_degree+m+1]=temp[(l,m)]['Slm_sdev']\n",
    "    del temp\n",
    "sc_mat=np.delete(sc_mat, max_degree, axis=2);"
   ]
  },
  {
   "cell_type": "code",
   "execution_count": null,
   "id": "23f99565",
   "metadata": {},
   "outputs": [],
   "source": [
    "def de_sparse(vec):\n",
    "    de_sparse_vec = []\n",
    "    for elem in vec:\n",
    "        if elem:\n",
    "            de_sparse_vec.append(elem)\n",
    "    \n",
    "    return de_sparse_vec"
   ]
  },
  {
   "cell_type": "code",
   "execution_count": null,
   "id": "f4028dcb",
   "metadata": {},
   "outputs": [],
   "source": [
    "sc_matrix=sc_mat[0,:,:]  # select the first months spherical harmonic coefficients \n",
    "\n",
    "plt.rcParams.update({'font.size': 14})\n",
    "fig, ax = plt.subplots(figsize=(15, 5))\n",
    "degree_mean = []\n",
    "for i in range(97):\n",
    "    desparsed = np.absolute(de_sparse(sc_matrix[i, :]))\n",
    "    degree_mean.append(np.mean(desparsed))\n",
    "    x = i * np.ones((len(desparsed)))\n",
    "\n",
    "    ax.scatter(x, np.log10(desparsed), color='blue', marker='+', alpha=0.5)\n",
    "\n",
    "ax.plot(range(97), np.log10(degree_mean), 'k', linestyle='--', label=\"Mean per degree\")\n",
    "\n",
    "x_vec = np.arange(0, 96+1, 6)\n",
    "\n",
    "plt.ylim([-11, -5])\n",
    "plt.xlim([0, 97])\n",
    "plt.ylabel(\"$\\\\Delta$SC coefficients log10\", fontsize=14)\n",
    "plt.xlabel(\"Degree (n)\")\n",
    "plt.xticks(x_vec)\n",
    "plt.title(\"Absolute value of the normalized (Unreplaced) GRACE ITSG coeficients\")\n",
    "plt.legend()\n",
    "plt.show()"
   ]
  },
  {
   "cell_type": "markdown",
   "id": "2249d911-9cff-4f28-a434-989d7b1723c6",
   "metadata": {},
   "source": [
    "* Thank you for reading this notebook."
   ]
  },
  {
   "cell_type": "markdown",
   "id": "0d96860d",
   "metadata": {},
   "source": []
  }
 ],
 "metadata": {
  "kernelspec": {
   "display_name": "Python 3 (ipykernel)",
   "language": "python",
   "name": "python3"
  },
  "language_info": {
   "codemirror_mode": {
    "name": "ipython",
    "version": 3
   },
   "file_extension": ".py",
   "mimetype": "text/x-python",
   "name": "python",
   "nbconvert_exporter": "python",
   "pygments_lexer": "ipython3",
   "version": "3.9.19"
  },
  "vscode": {
   "interpreter": {
    "hash": "c942a33ffa182542ea7eb705673c4cde756b073012d32ad559a923b584d30dd7"
   }
  }
 },
 "nbformat": 4,
 "nbformat_minor": 5
}
