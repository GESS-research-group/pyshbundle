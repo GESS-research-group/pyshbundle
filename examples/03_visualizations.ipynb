{
 "cells": [
  {
   "cell_type": "markdown",
   "metadata": {},
   "source": [
    "<img src=\"imgs/IISc_Master_Seal_Black_Transparent.png\" height=\"120px\" width=\"120px\" align=\"right\" />\n",
    "\n",
    "<img src=\"imgs/logoGESS.jpg\" height=\"120px\" width=\"120px\" align=\"right\" />\n",
    "\n",
    "<font face=\"Calibri\">\n",
    "<font size=\"7\"> <b> PySHBundle Tutorials </b> </font>\n",
    "<br> \n",
    "<font size=\"5\"> <b> Tutorial 3: Visualizations with PySHBundle<font color='rgba(200,0,0,0.2)'>  </font> </b> </font>\n",
    "<br> <br>\n",
    "    \n",
    "<font size=\"3\"> <b> by: Abhishek Mhamane, IIT Kanpur</b> \n",
    "<font size=\"2\">  <br>\n",
    "<font> <b>Date: </b> August 27, 2023 </font>\n",
    "</font>\n"
   ]
  },
  {
   "cell_type": "code",
   "execution_count": null,
   "metadata": {},
   "outputs": [],
   "source": [
    "from tqdm import trange\n",
    "from datetime import datetime\n",
    "import numpy as np\n",
    "import cartopy\n",
    "import os\n",
    "import cartopy.crs as ccrs\n",
    "import matplotlib.pyplot as plt\n",
    "from mpl_toolkits.axes_grid1 import make_axes_locatable\n",
    "import pandas as pd\n",
    "import xarray as xr\n",
    "import pyshbundle\n",
    "from collections import OrderedDict"
   ]
  },
  {
   "cell_type": "code",
   "execution_count": null,
   "metadata": {},
   "outputs": [],
   "source": [
    "from pyshbundle.pysh_core import GSHS\n",
    "from pyshbundle.shutils import PLM, normalklm\n",
    "from pyshbundle.reshape_SH_coefficients import clm2sc, clm2cs, sc2cs, cs2sc, klm2sc"
   ]
  },
  {
   "cell_type": "code",
   "execution_count": null,
   "metadata": {},
   "outputs": [],
   "source": [
    "from pyshbundle.io import extract_SH_data, extract_deg1_coeff_tn13, extract_deg2_3_coeff_tn14\n",
    "from pyshbundle.io import extract_C10_11_replcmnt_coeff\n",
    "from pyshbundle.io import extract_C20_replcmnt_coeff, extract_C30_replcmnt_coeff, find_date_in_replacemnt_file"
   ]
  },
  {
   "cell_type": "code",
   "execution_count": null,
   "metadata": {},
   "outputs": [],
   "source": [
    "from pyshbundle.shutils import Gaussian"
   ]
  },
  {
   "cell_type": "code",
   "execution_count": null,
   "metadata": {},
   "outputs": [],
   "source": [
    "from pyshbundle.viz_utils import sc_triplot, cs_sqplot, ylm, ylm_plot, mapfield, polar_plot, gshs_prepare"
   ]
  },
  {
   "cell_type": "markdown",
   "metadata": {},
   "source": [
    "## Load Data"
   ]
  },
  {
   "cell_type": "code",
   "execution_count": null,
   "metadata": {},
   "outputs": [],
   "source": [
    "source='itsg'\n",
    "path_tn14 = \"../pyshbundle/data/JPL_TN_files/TN-14_C30_C20_GSFC_SLR.txt\"    # Path to TN14\n",
    "path_tn13 = \"../pyshbundle/data/JPL_TN_files/TN-13_GEOC_JPL_RL06.txt\"       # Path to TN13\n",
    "path_sh = \"../sample_input_data/ITSG_input/\"\n",
    "itsg_file = '../sample_input_data/ITSG_input/ITSG-Grace2018_n96_2004-03.gfc'"
   ]
  },
  {
   "cell_type": "code",
   "execution_count": null,
   "metadata": {},
   "outputs": [],
   "source": [
    "files = os.listdir(path_sh)\n",
    "if str.upper(source) == 'ITSG':\n",
    "    file_paths = [path_sh + file for file in files if os.path.splitext(file)[1] == '.gfc'];\n",
    "else:\n",
    "    file_paths = [path_sh + file for file in files if os.path.splitext(file)[1] == '.gz'];"
   ]
  },
  {
   "cell_type": "code",
   "execution_count": null,
   "metadata": {},
   "outputs": [],
   "source": [
    "extracted_data={} \n",
    "for file_path in file_paths:\n",
    "    # file_data = read_sh(file_path, source=source)\n",
    "    file_data = extract_SH_data(file_path, source=source)\n",
    "    if file_data['time_coverage_start']:\n",
    "        # Convert time_coverage_start to a datetime object and then format it as yyyy-mm\n",
    "        if source == 'itsg':\n",
    "            start_date = datetime.strptime(file_data['time_coverage_start'][-7:], '%Y-%m').strftime('%Y-%m')\n",
    "        else:\n",
    "            start_date = datetime.strptime(file_data['time_coverage_start'], '%Y-%m-%dT%H:%M:%S.%f').strftime('%Y-%m')\n",
    "        # Use the formatted date as the key\n",
    "        extracted_data[start_date] = file_data['coefficients']\n",
    "\n",
    "\n",
    "# Time Sort the dictionary by keys (dates)\n",
    "itsg_data = OrderedDict(sorted(extracted_data.items()));"
   ]
  },
  {
   "cell_type": "code",
   "execution_count": null,
   "metadata": {},
   "outputs": [],
   "source": [
    "list(itsg_data.keys())[0:5]"
   ]
  },
  {
   "cell_type": "code",
   "execution_count": null,
   "metadata": {},
   "outputs": [],
   "source": [
    "max_degree=np.max([degree for date in itsg_data.keys() for degree, order in itsg_data[date].keys()])\n",
    "max_order=np.max([order for date in itsg_data.keys() for degree, order in itsg_data[date].keys()])\n",
    "number_of_months=len(itsg_data.keys())\n",
    "print('The maximum degree & order in data is:' , max_degree, '&', max_order)\n",
    "print('Number of months for which data is available:', number_of_months)"
   ]
  },
  {
   "cell_type": "code",
   "execution_count": null,
   "metadata": {},
   "outputs": [],
   "source": [
    "sc_mat=np.zeros([number_of_months, max_degree+1, 2*(max_degree+1)], dtype=np.double)\n",
    "sc_mat_std_dev=np.zeros([number_of_months, max_degree+1, 2*(max_degree+1)], dtype=np.double)\n",
    "\n",
    "for index, key in enumerate(itsg_data.keys()):\n",
    "    temp=itsg_data[key]\n",
    "    for l in range(0,max_degree+1):\n",
    "        for m in range(0,l+1):\n",
    "            '''uncomment these two lines to see how the elements are being accessed from the dictionary'''\n",
    "            # print(l,m)\n",
    "            # print(temp[(l,m)]['Clm'])\n",
    "            sc_mat[index, l, max_degree+m+1]=temp[(l,m)]['Clm']\n",
    "            sc_mat[index, l, max_degree-m]=temp[(l,m)]['Slm']\n",
    "            sc_mat_std_dev[index, l, max_degree+m+1]=temp[(l,m)]['Clm_sdev']\n",
    "            sc_mat_std_dev[index, l, max_degree+m+1]=temp[(l,m)]['Slm_sdev']\n",
    "    del temp\n",
    "sc_mat=np.delete(sc_mat, max_degree, axis=2);"
   ]
  },
  {
   "cell_type": "code",
   "execution_count": null,
   "metadata": {},
   "outputs": [],
   "source": [
    "# Read replacemnt file\n",
    "data_tn13_itsg = read_tn13(tn_13_path_itsg)\n",
    "data_tn14_itsg = read_tn14(tn14_path_itsg)"
   ]
  },
  {
   "cell_type": "code",
   "execution_count": null,
   "metadata": {},
   "outputs": [],
   "source": [
    "replaced_data_mat = replace_zonal_coeff(data_itsg_mat, 'itsg', 96, data_tn13_itsg, data_tn14_itsg, dates_itsg, epoch_end=None)"
   ]
  },
  {
   "cell_type": "code",
   "execution_count": null,
   "metadata": {},
   "outputs": [],
   "source": [
    "rep_sc, rep_dev = clm2sc(replaced_data_mat, lmax=96, sigma_flag=True)"
   ]
  },
  {
   "cell_type": "markdown",
   "metadata": {},
   "source": [
    "# Visualise data"
   ]
  },
  {
   "cell_type": "code",
   "execution_count": null,
   "metadata": {},
   "outputs": [],
   "source": [
    "from pyshbundle.viz_utils import sc_triplot"
   ]
  },
  {
   "cell_type": "code",
   "execution_count": null,
   "metadata": {},
   "outputs": [],
   "source": [
    "handle = sc_triplot(scmat=sc_mat[0], lmax=96, title=\"ITSG Replaced\", vmin=-10, vmax=-8)"
   ]
  },
  {
   "cell_type": "code",
   "execution_count": null,
   "metadata": {},
   "outputs": [],
   "source": [
    "from pyshbundle.io import sc2cs"
   ]
  },
  {
   "cell_type": "code",
   "execution_count": null,
   "metadata": {},
   "outputs": [],
   "source": [
    "rep_cs = sc2cs()"
   ]
  },
  {
   "cell_type": "code",
   "execution_count": null,
   "metadata": {},
   "outputs": [],
   "source": [
    "handle2 = cs_sqplot(csmat=rep_cs, lmax=96, title=\"ITSG Replaced\", vmin=-10, vmax=-8)"
   ]
  },
  {
   "cell_type": "markdown",
   "metadata": {},
   "source": [
    "# Long Term Gravity Field"
   ]
  },
  {
   "cell_type": "code",
   "execution_count": null,
   "metadata": {},
   "outputs": [],
   "source": [
    "# load long term mean\n",
    "long_mean_itsg = '../pyshbundle/data/long_mean/SH_long_mean_itsg.npy'\n",
    "SH_long_mean_itsg = np.load(long_mean_itsg)\n",
    "\n",
    "\n",
    "normal_cs = normalklm(lmax=96, typ='wgs84')\n",
    "\n",
    "# convert the format \n",
    "normal_sc = cs2sc(normal_cs)\n"
   ]
  },
  {
   "cell_type": "code",
   "execution_count": null,
   "metadata": {},
   "outputs": [],
   "source": [
    "# \n",
    "W = Gaussian(L=96, cap=500)"
   ]
  },
  {
   "cell_type": "code",
   "execution_count": null,
   "metadata": {},
   "outputs": [],
   "source": [
    "#basic computation\n",
    "lngtrm_grav_field = gshs_prepare(lmax=96, gs=0.20, quant='gravity', grd='cell', h=0, jflag=0, sc_coeff=SH_long_mean_itsg)"
   ]
  },
  {
   "cell_type": "code",
   "execution_count": null,
   "metadata": {},
   "outputs": [],
   "source": [
    "# Visualization for long term gravity field\n",
    "mapfield(field=lngtrm_grav_field, img_extent=(-180, 180, -90, 90), title=\"Long Term Field\", colorbar_bounds=None,)"
   ]
  },
  {
   "cell_type": "markdown",
   "metadata": {},
   "source": [
    "# Normal Gravity Field "
   ]
  },
  {
   "cell_type": "code",
   "execution_count": null,
   "metadata": {},
   "outputs": [],
   "source": [
    "#basic computation\n",
    "normal_field = gshs_prepare(lmax=96, gs=0.20, quant='gravity', grd='cell', h=0, jflag=0, sc_coeff=normal_sc)"
   ]
  },
  {
   "cell_type": "code",
   "execution_count": null,
   "metadata": {},
   "outputs": [],
   "source": [
    "mapfield(field=normal_field, img_extent=(-180, 180, -90, 90), title=\"Normal Gravity Field - WGS84 Ellipsoid\", colorbar_bounds=None)"
   ]
  },
  {
   "cell_type": "markdown",
   "metadata": {},
   "source": [
    "# Temporal Gravity Field"
   ]
  },
  {
   "cell_type": "code",
   "execution_count": null,
   "metadata": {},
   "outputs": [],
   "source": [
    "temp_grav_field  = gshs_prepare(lmax=96, gs=0.20, quant='gravity', grd='cell', h=0, jflag=0, sc_coeff=rep_sc)"
   ]
  },
  {
   "cell_type": "code",
   "execution_count": null,
   "metadata": {},
   "outputs": [],
   "source": [
    "mapfield(field=temp_grav_field, img_extent=(-180, 180, -90, 90), title=\"Temporal Gravity Field\", colorbar_bounds=None)"
   ]
  },
  {
   "cell_type": "markdown",
   "metadata": {},
   "source": [
    "# Gravity Anomalies"
   ]
  },
  {
   "cell_type": "code",
   "execution_count": null,
   "metadata": {},
   "outputs": [],
   "source": [
    "# compute the gravity anomalies and compute the field\n",
    "anom_sc = rep_sc-SH_long_mean_itsg\n",
    "grav_anom_field = gshs_prepare(lmax=96, gs=1, quant='gravity', grd='cell', h=0, jflag=0, sc_coeff=anom_sc)"
   ]
  },
  {
   "cell_type": "code",
   "execution_count": null,
   "metadata": {},
   "outputs": [],
   "source": [
    "mapfield(field=grav_anom_field, img_extent=(-180, 180, -90, 90), title=\"Gravity Anomalies with Vertical Stripe Noise\", colorbar_bounds=None)"
   ]
  },
  {
   "cell_type": "markdown",
   "metadata": {},
   "source": [
    "* Thank you for reading this notebook. I hope you found it helpful. If you have any questions, please feel free to ask me via Github Issues"
   ]
  },
  {
   "cell_type": "code",
   "execution_count": null,
   "metadata": {},
   "outputs": [],
   "source": []
  }
 ],
 "metadata": {
  "kernelspec": {
   "display_name": "Python 3 (ipykernel)",
   "language": "python",
   "name": "python3"
  },
  "language_info": {
   "codemirror_mode": {
    "name": "ipython",
    "version": 3
   },
   "file_extension": ".py",
   "mimetype": "text/x-python",
   "name": "python",
   "nbconvert_exporter": "python",
   "pygments_lexer": "ipython3",
   "version": "3.12.3"
  }
 },
 "nbformat": 4,
 "nbformat_minor": 4
}
