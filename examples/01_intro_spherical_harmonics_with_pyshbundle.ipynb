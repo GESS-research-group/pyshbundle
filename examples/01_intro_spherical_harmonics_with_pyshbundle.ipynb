{
 "cells": [
  {
   "cell_type": "markdown",
   "id": "c17337c4-703d-45b1-a0e9-08d00605a120",
   "metadata": {},
   "source": [
    "<img src=\"imgs/IISc_Master_Seal_Black_Transparent.png\" height=\"120px\" width=\"120px\" align=\"right\" />\n",
    "\n",
    "<img src=\"imgs/logoGESS.jpg\" height=\"120px\" width=\"120px\" align=\"right\" />\n",
    "\n",
    "<font face=\"Calibri\">\n",
    "<font size=\"7\"> <b> PySHBundle Tutorials </b> </font>\n",
    "<br> \n",
    "<font size=\"5\"> <b> Tutorial 1: Introduction to Spherical Harmonics using PySHBundle<font color='rgba(200,0,0,0.2)'>  </font> </b> </font>\n",
    "<br> <br>\n",
    "    \n",
    "<font size=\"3\"> <b> by: Abhishek Mhamane, IIT Kanpur</b> \n",
    "<font size=\"2\">  <br>\n",
    "<font> <b>Date: </b> July 1, 2023 </font>\n",
    "</font>\n"
   ]
  },
  {
   "cell_type": "code",
   "execution_count": null,
   "id": "435c8c43",
   "metadata": {},
   "outputs": [],
   "source": [
    "import pandas as pd\n",
    "import os\n",
    "import xarray as xr\n",
    "import numpy as np\n",
    "import matplotlib.pyplot as plt\n",
    "import cartopy.crs as ccrs\n",
    "import pyshbundle"
   ]
  },
  {
   "cell_type": "code",
   "execution_count": null,
   "id": "657d71e8",
   "metadata": {},
   "outputs": [],
   "source": [
    "from pyshbundle.shutils import PLM\n",
    "from pyshbundle.viz_utils import ylm, ylm_plot"
   ]
  },
  {
   "cell_type": "markdown",
   "id": "6d5d4e28",
   "metadata": {},
   "source": [
    "# What are Spherical Harmonics?"
   ]
  },
  {
   "cell_type": "markdown",
   "id": "5ed7a911",
   "metadata": {},
   "source": [
    "Solid and Surface spherical harmonics\n",
    "1. Harmonics - solutions of Laplace equation\n",
    "2. Spherical - they are in spherical coordinates ($\\theta$, $\\lambda$, <em>r</em>)\n",
    "3. Solid - cause they are 3D functions \n",
    "4. Surface - when we remove the radial part (or consider a unit sphere)"
   ]
  },
  {
   "cell_type": "markdown",
   "id": "00d4ae6c",
   "metadata": {},
   "source": [
    "# Representing Gravitational potential as spherical harmonic expansion\n",
    "\n",
    "$$\n",
    "V(r, \\theta, \\lambda) = \\frac{GM}{R} \\sum_{l=0}^{\\infty} \\left(\\frac{R}{r} \\right)^{l+1} \\sum_{m=0}^{l} P_{lm}(\\cos{\\theta}) (C_{lm}\\cos{m\\lambda} + S_{lm}\\sin{m\\lambda})\n",
    "$$"
   ]
  },
  {
   "cell_type": "markdown",
   "id": "30eb9c0e",
   "metadata": {},
   "source": [
    "Where, <br>\n",
    "- <em>l</em> is the spherical harmonic **degree** <br>\n",
    "- <em>m </em> is the spherical harmonic **order**"
   ]
  },
  {
   "attachments": {},
   "cell_type": "markdown",
   "id": "d8e6bdc5",
   "metadata": {},
   "source": [
    "## Associated Legendre Polynomials\n"
   ]
  },
  {
   "cell_type": "code",
   "execution_count": null,
   "id": "b4fb61b2",
   "metadata": {},
   "outputs": [],
   "source": [
    "help(PLM)"
   ]
  },
  {
   "cell_type": "code",
   "execution_count": null,
   "id": "49131664",
   "metadata": {},
   "outputs": [],
   "source": [
    "#\n",
    "l = np.zeros((1,1))\n",
    "l[0] = 7\n",
    "\n",
    "l2 = np.zeros((1,1))\n",
    "l2[0] = 7\n",
    "n = [0, 7, 14, 20]\n",
    "colatitude = np.deg2rad(np.arange(0, 180.5, 0.5))\n",
    "lon = np.deg2rad(np.arange(-180, 180.5, 0.5))"
   ]
  },
  {
   "cell_type": "code",
   "execution_count": null,
   "id": "45c22d10",
   "metadata": {},
   "outputs": [],
   "source": [
    "print(l)"
   ]
  },
  {
   "cell_type": "code",
   "execution_count": null,
   "id": "e9dfb57e",
   "metadata": {},
   "outputs": [],
   "source": [
    "# computing polynomial \n",
    "plm_7_0 = PLM(l=l, m=0, thetaRAD=colatitude, nargin=1, nargout=1)\n",
    "plm_7_4 = PLM(l=l2, m=4, thetaRAD=colatitude, nargin=1, nargout=1)\n",
    "plm_7_7 = PLM(l=l2, m=7, thetaRAD=colatitude, nargin=1, nargout=1)"
   ]
  },
  {
   "cell_type": "code",
   "execution_count": null,
   "id": "a0e06e59",
   "metadata": {},
   "outputs": [],
   "source": [
    "plm_7_0.shape"
   ]
  },
  {
   "cell_type": "code",
   "execution_count": null,
   "id": "7333c734",
   "metadata": {},
   "outputs": [],
   "source": [
    "# Plotting the plm \n",
    "fig, ax = plt.subplots(figsize=(8, 5))\n",
    "plt.plot(np.rad2deg(colatitude), plm_7_0[:, 0, 0], label=\"PLM(7, 0)\")\n",
    "plt.plot(np.rad2deg(colatitude), plm_7_4[:, 0, 0], label=\"PLM(7, 4)\")\n",
    "plt.plot(np.rad2deg(colatitude), plm_7_7[:, 0, 0], label=\"PLM(7, 7)\")\n",
    "\n",
    "plt.hlines(y=0, xmin=0, xmax=180, linestyles='--', colors='k')\n",
    "plt.xlim([0, 180])\n",
    "plt.legend()\n",
    "\n",
    "plt.title(\"Visualizing the PLM function -> number of zeros = degree - order\")\n",
    "plt.xlabel(\"Co-latitude\")\n",
    "plt.ylabel(\"plm(l, m)\")\n",
    "\n",
    "plt.show()"
   ]
  },
  {
   "attachments": {},
   "cell_type": "markdown",
   "id": "039024bb",
   "metadata": {},
   "source": [
    "## Check Orthogonality of Spherical Harmonic Coefficients"
   ]
  },
  {
   "cell_type": "markdown",
   "id": "8d3e96bc",
   "metadata": {},
   "source": [
    "Refering to Stack Overflow post - https://stackoverflow.com/questions/39537794/orthogonality-issue-in-scipys-legendre-polynomials\n",
    "\n",
    "Great GitHub Repo by @markmbaum for 2-D Orthogonal Spherical Harmonic. Find the docs for `orthopoly` - https://markmbaum.github.io/orthopoly/"
   ]
  },
  {
   "cell_type": "markdown",
   "id": "960951b2",
   "metadata": {},
   "source": [
    "## Visualizing the orthogonality of Legendre Polynomial"
   ]
  },
  {
   "cell_type": "code",
   "execution_count": null,
   "id": "6ad84a0c",
   "metadata": {},
   "outputs": [],
   "source": [
    "# the plm implementation using a co-latitude vector (geodetic use-case)\n",
    "l1 = np.zeros((1,1))\n",
    "l1[0] = 2\n",
    "\n",
    "l2 = np.zeros((1,1))\n",
    "l2[0] = 4\n",
    "\n",
    "\n",
    "colatitude = np.deg2rad(np.arange(0, 180.5, 0.5))\n",
    "\n",
    "plm_2_0 = PLM(l=l1, m=0, thetaRAD=colatitude, nargin=1, nargout=1)\n",
    "plm_4_0 = PLM(l=l2, m=0, thetaRAD=colatitude, nargin=1, nargout=1)\n",
    "\n",
    "product_2_4 = plm_2_0*plm_4_0\n",
    "\n",
    "# Plotting the plm \n",
    "fig, ax = plt.subplots(figsize=(9, 5))\n",
    "plt.plot(np.rad2deg(colatitude), plm_2_0[:, 0, 0], label=\"PLM(2, 0)\")\n",
    "plt.plot(np.rad2deg(colatitude), plm_4_0[:, 0, 0], label=\"PLM(4, 0)\")\n",
    "\n",
    "plt.plot(np.rad2deg(colatitude), product_2_4[:, 0, 0], label=\"PLM(2, 0)*PLM(4, 0)\")\n",
    "\n",
    "plt.fill_between(np.rad2deg(colatitude),product_2_4[:, 0, 0],color='green',alpha=0.5)\n",
    "\n",
    "plt.hlines(y=0, xmin=0, xmax=180, linestyles='--', colors='k')\n",
    "plt.xlim([0, 180])\n",
    "plt.legend()\n",
    "\n",
    "plt.title(\"Orthogonality of Legendre Polynomials - different degree with same order\")\n",
    "plt.xlabel(\"Co-latitude\")\n",
    "plt.ylabel(\"plm(l, m)\")\n",
    "\n",
    "plt.show()"
   ]
  },
  {
   "cell_type": "markdown",
   "id": "6e9d8efd",
   "metadata": {},
   "source": [
    "It can be observed that the product of PLM(2,0) and PLM4(4,0) yields a output symmetric about X-axis and also about co-latitude = 90 deg. Thus area under \n",
    "the plot turns out to be zero -> both are orthogonal functions"
   ]
  },
  {
   "cell_type": "code",
   "execution_count": null,
   "id": "63e7c51c",
   "metadata": {},
   "outputs": [],
   "source": [
    "# the plm implementation using a co-latitude vector (geodetic use-case)\n",
    "\n",
    "l3 = np.zeros((1,1))\n",
    "l3[0] = 3\n",
    "\n",
    "colatitude = np.deg2rad(np.arange(0, 180.5, 0.5))\n",
    "\n",
    "plm_3_0 = PLM(l=l3, m=0, thetaRAD=colatitude, nargin=1, nargout=1)\n",
    "\n",
    "product_3_3 = plm_3_0*plm_3_0\n",
    "\n",
    "# Plotting the plm \n",
    "fig, ax = plt.subplots(figsize=(9, 5))\n",
    "plt.plot(np.rad2deg(colatitude), plm_2_0[:, 0, 0], label=\"PLM(3, 0)\")\n",
    "\n",
    "plt.plot(np.rad2deg(colatitude), product_3_3[:, 0, 0], label=\"PLM(3, 0)*PLM(3, 0)\", color='green')\n",
    "\n",
    "plt.fill_between(np.rad2deg(colatitude),product_3_3[:, 0, 0],color='green',alpha=0.5)\n",
    "\n",
    "plt.hlines(y=0, xmin=0, xmax=180, linestyles='--', colors='k')\n",
    "plt.xlim([0, 180])\n",
    "plt.legend()\n",
    "\n",
    "plt.title(\"Orthogonality of Legendre Polynomials (same order and same degree)\")\n",
    "plt.xlabel(\"Co-latitude\")\n",
    "plt.ylabel(\"plm(l, m)\")\n",
    "\n",
    "plt.show()"
   ]
  },
  {
   "cell_type": "markdown",
   "id": "0f7e3395",
   "metadata": {},
   "source": [
    "In this case the integral cannot be zero, its some finite positive quantity."
   ]
  },
  {
   "cell_type": "code",
   "execution_count": null,
   "id": "b4cf9e52",
   "metadata": {},
   "outputs": [],
   "source": [
    "# the plm implementation using a co-latitude vector (geodetic use-case)\n",
    "l1 = np.zeros((1,1))\n",
    "l1[0] = 3\n",
    "\n",
    "l2 = np.zeros((1,1))\n",
    "l2[0] = 3\n",
    "\n",
    "\n",
    "colatitude = np.deg2rad(np.arange(0, 180.5, 0.5))\n",
    "\n",
    "plm_3_1 = PLM(l=l1, m=1, thetaRAD=colatitude, nargin=1, nargout=1)\n",
    "plm_3_0 = PLM(l=l2, m=2, thetaRAD=colatitude, nargin=1, nargout=1)\n",
    "\n",
    "product_33_10 = plm_3_1*plm_3_0\n",
    "\n",
    "# Plotting the plm \n",
    "fig, ax = plt.subplots(figsize=(9, 5))\n",
    "plt.plot(np.rad2deg(colatitude), plm_3_1[:, 0, 0], label=\"PLM(3, 1)\")\n",
    "plt.plot(np.rad2deg(colatitude), plm_3_0[:, 0, 0], label=\"PLM(3, 2)\")\n",
    "\n",
    "plt.plot(np.rad2deg(colatitude), product_33_10[:, 0, 0], label=\"PLM(3, 1)*PLM(3, 2)\")\n",
    "\n",
    "plt.fill_between(np.rad2deg(colatitude),product_33_10[:, 0, 0],color='green',alpha=0.5)\n",
    "\n",
    "plt.hlines(y=0, xmin=0, xmax=180, linestyles='--', colors='k')\n",
    "plt.xlim([0, 180])\n",
    "plt.legend()\n",
    "\n",
    "plt.title(\"Orthogonality of Legendre Polynomials - Same degree with different order\")\n",
    "plt.xlabel(\"Co-latitude\")\n",
    "plt.ylabel(\"plm(l, m)\")\n",
    "\n",
    "plt.show()"
   ]
  },
  {
   "cell_type": "code",
   "execution_count": null,
   "id": "ac6f86bf",
   "metadata": {},
   "outputs": [],
   "source": [
    "# the plm implementation using a co-latitude vector (geodetic use-case)\n",
    "l1 = np.zeros((1,1))\n",
    "l1[0] = 3\n",
    "\n",
    "l2 = np.zeros((1,1))\n",
    "l2[0] = 4\n",
    "\n",
    "\n",
    "colatitude = np.deg2rad(np.arange(0, 180.5, 0.5))\n",
    "\n",
    "plm_3_1 = PLM(l=l1, m=1, thetaRAD=colatitude, nargin=1, nargout=1)\n",
    "plm_3_0 = PLM(l=l2, m=2, thetaRAD=colatitude, nargin=1, nargout=1)\n",
    "\n",
    "product_33_10 = plm_3_1*plm_3_0\n",
    "\n",
    "# Plotting the plm \n",
    "fig, ax = plt.subplots(figsize=(9, 5))\n",
    "plt.plot(np.rad2deg(colatitude), plm_3_1[:, 0, 0], label=\"PLM(3, 1)\")\n",
    "plt.plot(np.rad2deg(colatitude), plm_3_0[:, 0, 0], label=\"PLM(4, 2)\")\n",
    "\n",
    "plt.plot(np.rad2deg(colatitude), product_33_10[:, 0, 0], label=\"PLM(3, 1)*PLM(3, 2)\")\n",
    "\n",
    "plt.fill_between(np.rad2deg(colatitude),product_33_10[:, 0, 0],color='green',alpha=0.5)\n",
    "\n",
    "plt.hlines(y=0, xmin=0, xmax=180, linestyles='--', colors='k')\n",
    "plt.xlim([0, 180])\n",
    "plt.legend()\n",
    "\n",
    "plt.title(\"Orthogonality of Legendre Polynomials - Different degree with different order\")\n",
    "plt.xlabel(\"Co-latitude\")\n",
    "plt.ylabel(\"plm(l, m)\")\n",
    "\n",
    "plt.show()"
   ]
  },
  {
   "cell_type": "markdown",
   "id": "654cb830",
   "metadata": {},
   "source": [
    "The shaded regions if symmetric (such that sum=0) indicates that both the polynomials are orthogonal. Else both the functions are not symmetric."
   ]
  },
  {
   "attachments": {},
   "cell_type": "markdown",
   "id": "811f5bd0",
   "metadata": {},
   "source": [
    "## Surface Spherical Harmonics"
   ]
  },
  {
   "cell_type": "markdown",
   "id": "dabeb22e",
   "metadata": {},
   "source": [
    "similar to the plm and plmplot in SHBundle\n",
    "\n",
    "$$\n",
    "\n",
    "$$"
   ]
  },
  {
   "cell_type": "code",
   "execution_count": null,
   "id": "ffced6d3",
   "metadata": {},
   "outputs": [],
   "source": [
    "ylmc, ylms = ylm(l=2, m=1)"
   ]
  },
  {
   "cell_type": "code",
   "execution_count": null,
   "id": "7bf338cd",
   "metadata": {},
   "outputs": [],
   "source": [
    "ylmc.shape"
   ]
  },
  {
   "cell_type": "code",
   "execution_count": null,
   "id": "77a568d9",
   "metadata": {},
   "outputs": [],
   "source": [
    "np.linspace(0,np.pi,37)"
   ]
  },
  {
   "cell_type": "code",
   "execution_count": null,
   "id": "5a64aa7a",
   "metadata": {},
   "outputs": [],
   "source": [
    "# basic plotting of SH coeff on plane\n",
    "l = 0\n",
    "m = 0\n",
    "\n",
    "ylmc_00, ylms_00 = ylm(l=l, m=m)\n",
    "\n",
    "fig = plt.figure(figsize=(15, 7.5))\n",
    "ax = plt.axes(projection = ccrs.PlateCarree())\n",
    "\n",
    "lons = np.linspace(-180, 180, 73)\n",
    "lats = np.linspace(-90, 90, 37)\n",
    "\n",
    "x, y = np.meshgrid(lons, lats)\n",
    "\n",
    "if m >=0 :\n",
    "\n",
    "    img_extent = (-180, 180, -90, 90)\n",
    "\n",
    "    # plot the data\n",
    "    im = ax.imshow(ylmc_00[:, 0, :], origin='upper', extent=img_extent, transform=ccrs.PlateCarree(),)\n",
    "else:\n",
    "    plt.contourf(x, y, ylms_00[:, 0, :], cmap='RdYlBu_r')\n",
    "\n",
    "\n",
    "# setting gridlines\n",
    "gl = ax.gridlines(crs = ccrs.PlateCarree(), draw_labels=True, x_inline=False, y_inline=False, color='gray', alpha=0.9, linestyle='--')\n",
    "# remove top x label\n",
    "gl.top_labels = False\n",
    "# change x label styles - font size ad colour\n",
    "gl.xlabel_style = {'size':12,}\n",
    "# left and right labels\n",
    "gl.left_labels = True\n",
    "gl.right_labels = False\n",
    "# coastlines\n",
    "ax.coastlines()\n",
    "\n",
    "plt.colorbar(im, orientation='vertical', shrink=0.85, pad=0.02,label=f\"[...]\")\n",
    "\n",
    "plt.title(f\"Visualization of Spherical Harmonics - degree: {l} order: {m}\")\n",
    "plt.show()\n"
   ]
  },
  {
   "cell_type": "markdown",
   "id": "cd27a189",
   "metadata": {},
   "source": [
    "Instead we can rely on the 'ylm_plot' utility in the visualization module"
   ]
  },
  {
   "cell_type": "code",
   "execution_count": null,
   "id": "2e229fc7",
   "metadata": {},
   "outputs": [],
   "source": [
    "# basic plotting of SH coeff on plane - Zonal\n",
    "ylmc_40, ylms_40 = ylm(l=4, m=0)\n",
    "\n",
    "ylm_plot(l=4, m=0)"
   ]
  },
  {
   "cell_type": "code",
   "execution_count": null,
   "id": "56310a80",
   "metadata": {},
   "outputs": [],
   "source": [
    "# basic plotting of SH coeff on plane - Teseral\n",
    "l = 5\n",
    "m = 5\n",
    "ylmc_55, ylms_55 = ylm(l=l, m=m)\n",
    "\n",
    "ylm_plot(l, m)"
   ]
  },
  {
   "cell_type": "code",
   "execution_count": null,
   "id": "1c4f615b",
   "metadata": {},
   "outputs": [],
   "source": [
    "# basic plotting of SH coeff on plane - Sectoral\n",
    "l = 11\n",
    "m = 8\n",
    "ylmc_11_8, ylms_11_8 = ylm(l=l, m=m)\n",
    "\n",
    "ylm_plot(l, m)"
   ]
  },
  {
   "cell_type": "code",
   "execution_count": null,
   "id": "f72977c6",
   "metadata": {},
   "outputs": [],
   "source": [
    "# Summing up (Superposition) SH Coeff C00 + C10 + S0-1 + C01\n",
    "# basic plotting of SH coeff on plane - Sectoral\n",
    "\n",
    "# for explaination purpose\n",
    "C00 = 1.0\n",
    "C10 = 10.0\n",
    "C55 = 15.0\n",
    "C11_8 = 5.0\n",
    "\n",
    "ylmc = C00*ylmc_00 + C10*ylmc_40 + C55*ylmc_55 + C11_8*ylmc_11_8\n"
   ]
  },
  {
   "cell_type": "code",
   "execution_count": null,
   "id": "a5b9bb7c",
   "metadata": {},
   "outputs": [],
   "source": [
    "# Summing SH Coeff C00 + C10 + S0-1 + C01\n",
    "# basic plotting of SH coeff on plane - Sectoral\n",
    "l = 2\n",
    "m = 2\n",
    "\n",
    "ylmc = C00*ylmc_00 + C10*ylmc_40 + C55*ylmc_55 + C11_8*ylmc_11_8\n",
    "\n",
    "fig = plt.figure(figsize=(15, 7.5))\n",
    "ax = plt.axes(projection = ccrs.Orthographic(central_longitude=74.0, central_latitude=0.0, globe=None))\n",
    "\n",
    "lons = np.linspace(-180, 180, 73)\n",
    "lats = np.linspace(-90, 90, 37)\n",
    "\n",
    "# max_level = 6\n",
    "# min_level = -4.5\n",
    "# step_level = 0.1\n",
    "# levels = np.arange(min_level, max_level + step_level, step_level)\n",
    "x, y = np.meshgrid(lons, lats)\n",
    "\n",
    "if m >=0 :\n",
    "    # plt.contourf(x, y, ylmc[:, 0, :], cmap='RdYlBu_r', )\n",
    "    img_extent = (-180, 180, -90, 90)\n",
    "\n",
    "    # plot the data\n",
    "    im = ax.imshow(ylmc[:, 0, :], origin='upper', extent=img_extent, transform=ccrs.PlateCarree(),)\n",
    "else:\n",
    "    plt.contourf(x, y, ylms[:, 0, :], cmap='RdYlBu_r')\n",
    "\n",
    "\n",
    "# setting gridlines\n",
    "gl = ax.gridlines(crs = ccrs.PlateCarree(), draw_labels=True, x_inline=False, y_inline=False, color='gray', alpha=0.9, linestyle='--')\n",
    "# remove top x label\n",
    "gl.top_labels = False\n",
    "# change x label styles - font size ad colour\n",
    "gl.xlabel_style = {'size':12,}\n",
    "# left and right labels\n",
    "gl.left_labels = True\n",
    "gl.right_labels = False\n",
    "# coastlines\n",
    "ax.coastlines()\n",
    "\n",
    "plt.colorbar(im, orientation='vertical', shrink=0.84, pad=0.02,label=f\"[...]\")\n",
    "\n",
    "plt.title(f\"Surface Spherical Harmonics - Summation - C00 + C40 + C55 + C11_8\")\n",
    "plt.show()\n"
   ]
  },
  {
   "cell_type": "markdown",
   "id": "38e91cbc",
   "metadata": {},
   "source": [
    "* Thank you for reading"
   ]
  }
 ],
 "metadata": {
  "kernelspec": {
   "display_name": "Python 3 (ipykernel)",
   "language": "python",
   "name": "python3"
  },
  "language_info": {
   "codemirror_mode": {
    "name": "ipython",
    "version": 3
   },
   "file_extension": ".py",
   "mimetype": "text/x-python",
   "name": "python",
   "nbconvert_exporter": "python",
   "pygments_lexer": "ipython3",
   "version": "3.12.3"
  },
  "vscode": {
   "interpreter": {
    "hash": "357fae1991c85d4f178835bd055e8bce98df431c1a268f1eb7274466cdbfca9c"
   }
  }
 },
 "nbformat": 4,
 "nbformat_minor": 5
}
