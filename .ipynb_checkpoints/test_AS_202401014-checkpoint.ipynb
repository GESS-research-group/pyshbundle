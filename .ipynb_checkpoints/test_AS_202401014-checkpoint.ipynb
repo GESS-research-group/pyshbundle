{
 "cells": [
  {
   "cell_type": "code",
   "execution_count": 1,
   "id": "ee0fccfb",
   "metadata": {},
   "outputs": [],
   "source": [
    "import pyshbundle"
   ]
  },
  {
   "cell_type": "code",
   "execution_count": 3,
   "id": "c95c581d",
   "metadata": {},
   "outputs": [
    {
     "data": {
      "text/plain": [
       "['__author__',\n",
       " '__builtins__',\n",
       " '__cached__',\n",
       " '__doc__',\n",
       " '__email__',\n",
       " '__file__',\n",
       " '__loader__',\n",
       " '__name__',\n",
       " '__package__',\n",
       " '__path__',\n",
       " '__spec__',\n",
       " '__version__']"
      ]
     },
     "execution_count": 3,
     "metadata": {},
     "output_type": "execute_result"
    }
   ],
   "source": [
    "dir(pyshbundle)"
   ]
  },
  {
   "cell_type": "code",
   "execution_count": 4,
   "id": "e4cd634f",
   "metadata": {},
   "outputs": [
    {
     "ename": "AttributeError",
     "evalue": "module 'pyshbundle' has no attribute 'klm2sc'",
     "output_type": "error",
     "traceback": [
      "\u001b[0;31m---------------------------------------------------------------------------\u001b[0m",
      "\u001b[0;31mAttributeError\u001b[0m                            Traceback (most recent call last)",
      "Cell \u001b[0;32mIn[4], line 1\u001b[0m\n\u001b[0;32m----> 1\u001b[0m \u001b[43mpyshbundle\u001b[49m\u001b[38;5;241;43m.\u001b[39;49m\u001b[43mklm2sc\u001b[49m\n",
      "\u001b[0;31mAttributeError\u001b[0m: module 'pyshbundle' has no attribute 'klm2sc'"
     ]
    }
   ],
   "source": [
    "pyshbundle.klm2sc"
   ]
  },
  {
   "cell_type": "code",
   "execution_count": null,
   "id": "f63fa1b2",
   "metadata": {},
   "outputs": [],
   "source": []
  }
 ],
 "metadata": {
  "kernelspec": {
   "display_name": "Python 3 (ipykernel)",
   "language": "python",
   "name": "python3"
  },
  "language_info": {
   "codemirror_mode": {
    "name": "ipython",
    "version": 3
   },
   "file_extension": ".py",
   "mimetype": "text/x-python",
   "name": "python",
   "nbconvert_exporter": "python",
   "pygments_lexer": "ipython3",
   "version": "3.10.9"
  }
 },
 "nbformat": 4,
 "nbformat_minor": 5
}
