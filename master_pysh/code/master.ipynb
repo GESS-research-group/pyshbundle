{
 "cells": [
  {
   "cell_type": "markdown",
   "id": "9753c1a1-b163-48c8-9325-dd472af9b034",
   "metadata": {
    "tags": []
   },
   "source": [
    "#   MASTER\n",
    "## Welcome to mat2py tool. This applies SH to process GRACE SH coefficients into Terrestrial water storage changes\n",
    "#### Kindly provide the paths to respective files and outputs\n",
    "#### 1. Reading SH coeffs from NASA JPL and replacing degree 1,2,3 coeffs'"
   ]
  },
  {
   "cell_type": "code",
   "execution_count": null,
   "id": "de944b12-ae3d-4f9a-8549-0f03010a120a",
   "metadata": {
    "tags": []
   },
   "outputs": [],
   "source": [
    "path_sh = r\"/home/wslvivek/Desktop/level2/pysh_v2/JPL_input/\"                      # Path to JPL GRACE data\n",
    "path_tn14 = r\"/home/wslvivek/Desktop/level2/pysh_v2/JPL_TN_files/TN-14_C30_C20_GSFC_SLR.txt\"    # Path to TN14\n",
    "path_tn13 = r\"/home/wslvivek/Desktop/level2/pysh_v2/JPL_TN_files/TN-13_GEOC_JPL_RL06.txt\"       # Path to TN13"
   ]
  },
  {
   "cell_type": "code",
   "execution_count": 1,
   "id": "6d722ba0",
   "metadata": {},
   "outputs": [],
   "source": [
    "path_sh = r\"/home/wslvivek/Desktop/level2/pysh_v2/CSR_input/\"    \n",
    "path_tn14 = r\"/home/wslvivek/Desktop/level2/pysh_v2/CSR_TN_files/TN-14_C30_C20_SLR_GSFC.txt\"\n",
    "path_tn13 = r\"/home/wslvivek/Desktop/level2/pysh_v2/CSR_TN_files/TN-13_GEOC_CSR_RL06.1.txt\" "
   ]
  },
  {
   "cell_type": "code",
   "execution_count": 2,
   "id": "04c93cc5",
   "metadata": {},
   "outputs": [
    {
     "name": "stdout",
     "output_type": "stream",
     "text": [
      "Enter the source of L2 SH coeffs code(jpl, csr, gfz): csr\n"
     ]
    }
   ],
   "source": [
    "source=str(input(\"Enter the source of L2 SH coeffs code(jpl, csr, gfz): \"))"
   ]
  },
  {
   "cell_type": "code",
   "execution_count": 3,
   "id": "10259f1c-edcb-4bd0-aa53-e80f9194c5c4",
   "metadata": {},
   "outputs": [],
   "source": [
    "import os\n",
    "path_master = os.getcwd()                                            # current directory\n",
    "path_functions = os.path.join(path_master,\"pysh_funcs\")        # directory of the sh bundle functions\n",
    "path_output = os.path.join(os.path.dirname(path_master),\"output\")    # directory for output"
   ]
  },
  {
   "cell_type": "code",
   "execution_count": 4,
   "id": "7a1105de-016d-4efc-a6ed-2bde7554924d",
   "metadata": {},
   "outputs": [],
   "source": [
    "from reader_replacer_jpl import reader_replacer_jpl\n",
    "from reader_replacer_csr import reader_replacer_csr\n",
    "from klm2sc import klm2sc\n",
    "from clm2sc import clm2sc\n",
    "from scrpit import tws_cal\n",
    "from basin_avg import basin_avg\n",
    "import numpy as np\n",
    "import pandas as pd\n",
    "import xarray as xr\n",
    "import warnings\n",
    "warnings.filterwarnings('ignore')"
   ]
  },
  {
   "cell_type": "code",
   "execution_count": 5,
   "id": "b3a5e774-86d0-475f-9a3f-c096206941c6",
   "metadata": {
    "scrolled": true
   },
   "outputs": [
    {
     "name": "stdout",
     "output_type": "stream",
     "text": [
      "CSR\n",
      "Reading into klm format complete!\n",
      "Number of files read: 213\n",
      "Starting replacement\n",
      "found: 37\n",
      "Degree 2,3 replacement complete!\n",
      "found: 116\n",
      "Degree 1 replacement complete!\n",
      "Number of months of data in each year starting 2002-04-05 & ending 2022-10-01 [ 7. 11. 12. 12. 12. 12. 12. 12. 12. 10. 10.  9.  9.  9.  9.  5.  5. 12.\n",
      " 12. 12.  9.  0.]\n",
      "CPU times: user 4.06 s, sys: 341 ms, total: 4.4 s\n",
      "Wall time: 4.56 s\n"
     ]
    }
   ],
   "source": [
    "%%time\n",
    "if source == 'jpl':\n",
    "    sh_clm, dates_start, dates_end, no_of_files = reader_replacer_jpl(path_sh, path_tn14, path_tn13)\n",
    "elif source == 'csr':\n",
    "    sh_clm, dates_start, dates_end, no_of_files = reader_replacer_csr(path_sh, path_tn14, path_tn13)\n",
    "elif source== 'gfz':\n",
    "    pass"
   ]
  },
  {
   "cell_type": "markdown",
   "id": "8f213a85",
   "metadata": {
    "tags": []
   },
   "source": [
    "* `sh_clm` is a ndarray containg lists of data: degree;  order; clm; slm; delta clm; delta slm; start data; end date*"
   ]
  },
  {
   "cell_type": "markdown",
   "id": "8014c615-21b6-44ab-8544-267f9264887c",
   "metadata": {
    "tags": []
   },
   "source": [
    "#### 2. The following cells perform a bunch of operations\n"
   ]
  },
  {
   "cell_type": "markdown",
   "id": "e710d306-dad4-42a1-b2b9-f544a087358b",
   "metadata": {
    "tags": []
   },
   "source": [
    "* Storing SH coeffs in clm format into SC format\n",
    "* Calculation of delta clm & delta slm\n",
    "* Application of Gaussian filter/filter of user choice\n",
    "* Application of filter to delta clm, slm to get filtered SH coeffs\n",
    "* Calling gshs() with filtered SH coeffs to obtain TWS fields\n",
    "* Flipping the TWS fields to get 0 degree longitude in the middle\n",
    "* Saving data in netCDF4 format and writing to disk"
   ]
  },
  {
   "cell_type": "code",
   "execution_count": 6,
   "id": "0d73a4db-3571-4107-9f0e-24908cf4058c",
   "metadata": {},
   "outputs": [
    {
     "name": "stdout",
     "output_type": "stream",
     "text": [
      "conversion to sc format complete!\n",
      "\n"
     ]
    }
   ],
   "source": [
    "if source == 'jpl':\n",
    "    sc_mat_raw = clm2sc(sh_clm);\n",
    "elif source == 'csr':\n",
    "    sc_mat_raw = klm2sc(sh_clm);\n",
    "elif source== 'gfz':\n",
    "    pass\n",
    "print('conversion to sc format complete!\\n')"
   ]
  },
  {
   "cell_type": "code",
   "execution_count": 7,
   "id": "13103791",
   "metadata": {},
   "outputs": [],
   "source": [
    "lmax = 96\n",
    "gs = 1\n",
    "half_rad_gf = 500"
   ]
  },
  {
   "cell_type": "code",
   "execution_count": null,
   "id": "b90fd266-cc19-4e60-b146-bc953842ad10",
   "metadata": {},
   "outputs": [],
   "source": [
    "print('Kindly enter the following parameters based on your application')\n",
    "lmax = int(input(\"Enter lmax: \"))\n",
    "gs = int(input(\"Enter grid size: \"))\n",
    "half_rad_gf = int(input(\"Enter half radius of Gaussian filter: \"))\n",
    "print(\"lmax , grid size & half raduius of gaussian filter are : \", lmax ,\", \" , gs,\", \",half_rad_gf)"
   ]
  },
  {
   "cell_type": "code",
   "execution_count": 8,
   "id": "77b4750b-6d50-48ee-b502-f32dec58f87a",
   "metadata": {},
   "outputs": [
    {
     "name": "stdout",
     "output_type": "stream",
     "text": [
      "dates read! \n",
      "\n"
     ]
    }
   ],
   "source": [
    "lon = np.arange(-180,180,gs)\n",
    "lat = np.arange(89,-91,-gs)\n",
    "# dates = pd.to_datetime(pd.Series(dates_start), format='%Y-%m-%d').dt.strftime('%d-%m-%Y') \\\n",
    "#         + \"    \" \\\n",
    "#         +pd.to_datetime(pd.Series(dates_end), format='%Y-%m-%d').dt.strftime('%d-%m-%Y')\n",
    "dates = pd.to_datetime(pd.Series(dates_start), format='%Y-%m-%d')#.dt.strftime('%d-%m-%Y')\n",
    "print('dates read! \\n')"
   ]
  },
  {
   "cell_type": "code",
   "execution_count": 9,
   "id": "6a21dcef",
   "metadata": {},
   "outputs": [],
   "source": [
    "dates.to_csv(path_output+'/dates.txt')"
   ]
  },
  {
   "cell_type": "markdown",
   "id": "29d32a53-d58d-4d66-9c68-3cdf7755f15b",
   "metadata": {},
   "source": [
    "##### Remove long term mean to get anomalies\n",
    "* Long term mean is calculated from NASA JPL SH coeffs in the period 01-01-2005 & 31-12-2010 (6 years continuous)"
   ]
  },
  {
   "cell_type": "code",
   "execution_count": null,
   "id": "b7dbd3a2-7c84-4ddd-b085-16e81d20e508",
   "metadata": {},
   "outputs": [],
   "source": [
    "SH_long_mean_jpl = np.load(path_master+'/long_mean/SH_long_mean_jpl.npy')    # load the long term mean SH coeffs---> JPL \n",
    "SH_long_mean_csr = np.load(path_master+'/long_mean/SH_long_mean_csr.npy')    # load the long term mean SH coeffs---> CSR\n",
    "if source== 'jpl':\n",
    "    sc_mat = sc_mat_raw - SH_long_mean_jpl\n",
    "elif source== 'csr':\n",
    "    sc_mat = sc_mat_raw - SH_long_mean_csr\n",
    "elif source== 'gfz':\n",
    "    pass"
   ]
  },
  {
   "cell_type": "code",
   "execution_count": null,
   "id": "f94846e5-0599-45d9-ad8b-c2ccfc90f4ef",
   "metadata": {},
   "outputs": [],
   "source": [
    "%%time\n",
    "tws_fields = tws_cal(sc_mat,lmax,gs,half_rad_gf,no_of_files,path_functions)\n",
    "tws_fields = np.float32(tws_fields)"
   ]
  },
  {
   "cell_type": "code",
   "execution_count": null,
   "id": "59f6ef89-917c-421c-99db-e85b67cebc06",
   "metadata": {},
   "outputs": [],
   "source": [
    "ds = xr.Dataset(\n",
    "    data_vars=dict(\n",
    "        tws=([\"time\",\"lat\", \"lon\"], tws_fields)\n",
    "    ),\n",
    "    coords = {\n",
    "        \"time\":(('time'),dates),\n",
    "        \"lat\":lat,\n",
    "        \"lon\":lon },\n",
    "    attrs=dict(description=\"TWS Anomaly corresponding to long term (2004-2010) mean \\n lmax=96 and half radius of Gaussian filter = 500Km\"),\n",
    ")\n",
    "ds"
   ]
  },
  {
   "cell_type": "code",
   "execution_count": null,
   "id": "8763d638-6a40-449a-bb38-3e1fc4beeca2",
   "metadata": {
    "tags": []
   },
   "outputs": [],
   "source": [
    "ds.tws.isel(time=170).plot()"
   ]
  },
  {
   "cell_type": "code",
   "execution_count": null,
   "id": "31a0b561-12ef-4f15-88c5-8954d4868a91",
   "metadata": {},
   "outputs": [],
   "source": [
    "ds.to_netcdf(path_output+'/'+source+'_tws.nc', engine=\"netcdf4\")"
   ]
  },
  {
   "cell_type": "markdown",
   "id": "710ea8af-376e-4ce1-be4d-804c12233502",
   "metadata": {},
   "source": [
    "## Basin average"
   ]
  },
  {
   "cell_type": "code",
   "execution_count": null,
   "id": "d1151bfe-133b-4a9a-ad7c-3b31c994d4e6",
   "metadata": {},
   "outputs": [],
   "source": [
    "ans = str(input('Do you want to calculate basin average?(y/n):'))\n",
    "if ans == 'y':\n",
    "    path_shapefile = r\"/home/wslvivek/Desktop/garca/vivek/Ganga.shp\"\n",
    "    c_rs = str(input('Enter projected reference system:'))\n",
    "    tws_basin_avg = basin_avg(ds,path_shapefile,c_rs,no_of_files,gs)\n",
    "else:\n",
    "    pass"
   ]
  },
  {
   "cell_type": "code",
   "execution_count": null,
   "id": "89b2c2cf-7512-4fc3-bc48-776411c07fc8",
   "metadata": {},
   "outputs": [],
   "source": [
    "tws_basin_avg.to_netcdf(path_output+'/tws_basin_avg.nc', engine=\"netcdf4\")"
   ]
  }
 ],
 "metadata": {
  "kernelspec": {
   "display_name": "Python 3 (ipykernel)",
   "language": "python",
   "name": "python3"
  },
  "language_info": {
   "codemirror_mode": {
    "name": "ipython",
    "version": 3
   },
   "file_extension": ".py",
   "mimetype": "text/x-python",
   "name": "python",
   "nbconvert_exporter": "python",
   "pygments_lexer": "ipython3",
   "version": "3.11.0"
  }
 },
 "nbformat": 4,
 "nbformat_minor": 5
}
